{
 "cells": [
  {
   "cell_type": "raw",
   "metadata": {},
   "source": [
    "We have collected the data from a bank in NewZealand. A detail description about the customers is mentioned in the first sheet of the dataset. We are supposed to create different subsets of Customer group with similar customers."
   ]
  },
  {
   "cell_type": "code",
   "execution_count": 3,
   "metadata": {},
   "outputs": [],
   "source": [
    "import numpy as np\n",
    "import pandas as pd\n",
    "import matplotlib.pyplot as plt\n",
    "import seaborn as sns"
   ]
  },
  {
   "cell_type": "code",
   "execution_count": 4,
   "metadata": {},
   "outputs": [
    {
     "data": {
      "text/html": [
       "<div>\n",
       "<style scoped>\n",
       "    .dataframe tbody tr th:only-of-type {\n",
       "        vertical-align: middle;\n",
       "    }\n",
       "\n",
       "    .dataframe tbody tr th {\n",
       "        vertical-align: top;\n",
       "    }\n",
       "\n",
       "    .dataframe thead th {\n",
       "        text-align: right;\n",
       "    }\n",
       "</style>\n",
       "<table border=\"1\" class=\"dataframe\">\n",
       "  <thead>\n",
       "    <tr style=\"text-align: right;\">\n",
       "      <th></th>\n",
       "      <th>Unnamed: 0</th>\n",
       "      <th>Codes</th>\n",
       "      <th>Description</th>\n",
       "      <th>Unnamed: 3</th>\n",
       "      <th>Unnamed: 4</th>\n",
       "      <th>Unnamed: 5</th>\n",
       "      <th>Unnamed: 6</th>\n",
       "      <th>Unnamed: 7</th>\n",
       "      <th>Unnamed: 8</th>\n",
       "      <th>Unnamed: 9</th>\n",
       "    </tr>\n",
       "  </thead>\n",
       "  <tbody>\n",
       "    <tr>\n",
       "      <td>0</td>\n",
       "      <td>NaN</td>\n",
       "      <td>Quest No</td>\n",
       "      <td>Questionnaire number</td>\n",
       "      <td>NaN</td>\n",
       "      <td>NaN</td>\n",
       "      <td>NaN</td>\n",
       "      <td>NaN</td>\n",
       "      <td>NaN</td>\n",
       "      <td>NaN</td>\n",
       "      <td>NaN</td>\n",
       "    </tr>\n",
       "    <tr>\n",
       "      <td>1</td>\n",
       "      <td>NaN</td>\n",
       "      <td>Age</td>\n",
       "      <td>Age</td>\n",
       "      <td>NaN</td>\n",
       "      <td>NaN</td>\n",
       "      <td>NaN</td>\n",
       "      <td>NaN</td>\n",
       "      <td>NaN</td>\n",
       "      <td>NaN</td>\n",
       "      <td>NaN</td>\n",
       "    </tr>\n",
       "    <tr>\n",
       "      <td>2</td>\n",
       "      <td>NaN</td>\n",
       "      <td>Gender</td>\n",
       "      <td>Gender</td>\n",
       "      <td>NaN</td>\n",
       "      <td>NaN</td>\n",
       "      <td>NaN</td>\n",
       "      <td>NaN</td>\n",
       "      <td>NaN</td>\n",
       "      <td>NaN</td>\n",
       "      <td>NaN</td>\n",
       "    </tr>\n",
       "    <tr>\n",
       "      <td>3</td>\n",
       "      <td>NaN</td>\n",
       "      <td>Employment Category</td>\n",
       "      <td>Employment category</td>\n",
       "      <td>NaN</td>\n",
       "      <td>NaN</td>\n",
       "      <td>NaN</td>\n",
       "      <td>NaN</td>\n",
       "      <td>NaN</td>\n",
       "      <td>NaN</td>\n",
       "      <td>NaN</td>\n",
       "    </tr>\n",
       "    <tr>\n",
       "      <td>4</td>\n",
       "      <td>NaN</td>\n",
       "      <td>Education</td>\n",
       "      <td>Education</td>\n",
       "      <td>NaN</td>\n",
       "      <td>NaN</td>\n",
       "      <td>NaN</td>\n",
       "      <td>NaN</td>\n",
       "      <td>NaN</td>\n",
       "      <td>NaN</td>\n",
       "      <td>NaN</td>\n",
       "    </tr>\n",
       "  </tbody>\n",
       "</table>\n",
       "</div>"
      ],
      "text/plain": [
       "  Unnamed: 0                Codes           Description  Unnamed: 3  \\\n",
       "0        NaN             Quest No  Questionnaire number         NaN   \n",
       "1        NaN                  Age                   Age         NaN   \n",
       "2        NaN               Gender                Gender         NaN   \n",
       "3        NaN  Employment Category   Employment category         NaN   \n",
       "4        NaN            Education             Education         NaN   \n",
       "\n",
       "   Unnamed: 4 Unnamed: 5 Unnamed: 6  Unnamed: 7  Unnamed: 8  Unnamed: 9  \n",
       "0         NaN        NaN        NaN         NaN         NaN         NaN  \n",
       "1         NaN        NaN        NaN         NaN         NaN         NaN  \n",
       "2         NaN        NaN        NaN         NaN         NaN         NaN  \n",
       "3         NaN        NaN        NaN         NaN         NaN         NaN  \n",
       "4         NaN        NaN        NaN         NaN         NaN         NaN  "
      ]
     },
     "execution_count": 4,
     "metadata": {},
     "output_type": "execute_result"
    }
   ],
   "source": [
    "data_desc = pd.read_csv('Coding Convention-Table 1.csv')\n",
    "data_desc.head()"
   ]
  },
  {
   "cell_type": "code",
   "execution_count": 5,
   "metadata": {},
   "outputs": [
    {
     "data": {
      "text/plain": [
       "(181, 10)"
      ]
     },
     "execution_count": 5,
     "metadata": {},
     "output_type": "execute_result"
    }
   ],
   "source": [
    "data_desc.shape"
   ]
  },
  {
   "cell_type": "code",
   "execution_count": 6,
   "metadata": {},
   "outputs": [
    {
     "data": {
      "text/html": [
       "<div>\n",
       "<style scoped>\n",
       "    .dataframe tbody tr th:only-of-type {\n",
       "        vertical-align: middle;\n",
       "    }\n",
       "\n",
       "    .dataframe tbody tr th {\n",
       "        vertical-align: top;\n",
       "    }\n",
       "\n",
       "    .dataframe thead th {\n",
       "        text-align: right;\n",
       "    }\n",
       "</style>\n",
       "<table border=\"1\" class=\"dataframe\">\n",
       "  <thead>\n",
       "    <tr style=\"text-align: right;\">\n",
       "      <th></th>\n",
       "      <th>Quest No</th>\n",
       "      <th>Age</th>\n",
       "      <th>Gender</th>\n",
       "      <th>Employment Category</th>\n",
       "      <th>Education</th>\n",
       "      <th>Income</th>\n",
       "      <th>Location</th>\n",
       "      <th>Bank</th>\n",
       "      <th>No of Years</th>\n",
       "      <th>Most frequently used Bank</th>\n",
       "      <th>...</th>\n",
       "      <th>Payint</th>\n",
       "      <th>Paycab</th>\n",
       "      <th>Mig1</th>\n",
       "      <th>Mig2</th>\n",
       "      <th>Mig3</th>\n",
       "      <th>Rec</th>\n",
       "      <th>Changeplan</th>\n",
       "      <th>FromBank</th>\n",
       "      <th>ToBank</th>\n",
       "      <th>ChangeReasons</th>\n",
       "    </tr>\n",
       "  </thead>\n",
       "  <tbody>\n",
       "    <tr>\n",
       "      <td>0</td>\n",
       "      <td>ABJ/2015/002/196</td>\n",
       "      <td>31-35</td>\n",
       "      <td>No Response</td>\n",
       "      <td>Civil/Public Servant</td>\n",
       "      <td>OND/HND</td>\n",
       "      <td>N50,000 - N100,000</td>\n",
       "      <td>Abuja</td>\n",
       "      <td>Bank A</td>\n",
       "      <td>12.0</td>\n",
       "      <td>Bank A</td>\n",
       "      <td>...</td>\n",
       "      <td>NaN</td>\n",
       "      <td>NaN</td>\n",
       "      <td>NaN</td>\n",
       "      <td>NaN</td>\n",
       "      <td>NaN</td>\n",
       "      <td>Sometimes will</td>\n",
       "      <td>No</td>\n",
       "      <td>NaN</td>\n",
       "      <td>NaN</td>\n",
       "      <td>NaN</td>\n",
       "    </tr>\n",
       "    <tr>\n",
       "      <td>1</td>\n",
       "      <td>ABJ/2015/002/196</td>\n",
       "      <td>31-35</td>\n",
       "      <td>No Response</td>\n",
       "      <td>Civil/Public Servant</td>\n",
       "      <td>OND/HND</td>\n",
       "      <td>N50,000 - N100,000</td>\n",
       "      <td>Abuja</td>\n",
       "      <td>Bank M</td>\n",
       "      <td>6.0</td>\n",
       "      <td>Bank A</td>\n",
       "      <td>...</td>\n",
       "      <td>NaN</td>\n",
       "      <td>NaN</td>\n",
       "      <td>NaN</td>\n",
       "      <td>NaN</td>\n",
       "      <td>NaN</td>\n",
       "      <td>0</td>\n",
       "      <td>No</td>\n",
       "      <td>NaN</td>\n",
       "      <td>NaN</td>\n",
       "      <td>NaN</td>\n",
       "    </tr>\n",
       "    <tr>\n",
       "      <td>2</td>\n",
       "      <td>KAN/2015/001/228</td>\n",
       "      <td>31-35</td>\n",
       "      <td>No Response</td>\n",
       "      <td>Self Employed</td>\n",
       "      <td>Bachelor's Decree</td>\n",
       "      <td>Below N50,000</td>\n",
       "      <td>Kano</td>\n",
       "      <td>Bank J</td>\n",
       "      <td>2.0</td>\n",
       "      <td>Bank B</td>\n",
       "      <td>...</td>\n",
       "      <td>NaN</td>\n",
       "      <td>NaN</td>\n",
       "      <td>Yes</td>\n",
       "      <td>NaN</td>\n",
       "      <td>NaN</td>\n",
       "      <td>Absolutely will</td>\n",
       "      <td>No</td>\n",
       "      <td>NaN</td>\n",
       "      <td>NaN</td>\n",
       "      <td>NaN</td>\n",
       "    </tr>\n",
       "    <tr>\n",
       "      <td>3</td>\n",
       "      <td>KAN/2015/001/228</td>\n",
       "      <td>31-35</td>\n",
       "      <td>No Response</td>\n",
       "      <td>Self Employed</td>\n",
       "      <td>Bachelor's Decree</td>\n",
       "      <td>Below N50,000</td>\n",
       "      <td>Kano</td>\n",
       "      <td>Bank B</td>\n",
       "      <td>NaN</td>\n",
       "      <td>Bank B</td>\n",
       "      <td>...</td>\n",
       "      <td>NaN</td>\n",
       "      <td>NaN</td>\n",
       "      <td>Yes</td>\n",
       "      <td>NaN</td>\n",
       "      <td>NaN</td>\n",
       "      <td>Often will</td>\n",
       "      <td>No</td>\n",
       "      <td>NaN</td>\n",
       "      <td>NaN</td>\n",
       "      <td>NaN</td>\n",
       "    </tr>\n",
       "    <tr>\n",
       "      <td>4</td>\n",
       "      <td>KAN/2015/04/061</td>\n",
       "      <td>21-30</td>\n",
       "      <td>Male</td>\n",
       "      <td>Private Sector Employee</td>\n",
       "      <td>Bachelor's Decree</td>\n",
       "      <td>Below N50,000</td>\n",
       "      <td>Kano</td>\n",
       "      <td>Bank C</td>\n",
       "      <td>5.0</td>\n",
       "      <td>Bank C</td>\n",
       "      <td>...</td>\n",
       "      <td>Yes</td>\n",
       "      <td>NaN</td>\n",
       "      <td>Yes</td>\n",
       "      <td>NaN</td>\n",
       "      <td>NaN</td>\n",
       "      <td>Often will</td>\n",
       "      <td>No</td>\n",
       "      <td>NaN</td>\n",
       "      <td>NaN</td>\n",
       "      <td>NaN</td>\n",
       "    </tr>\n",
       "  </tbody>\n",
       "</table>\n",
       "<p>5 rows × 152 columns</p>\n",
       "</div>"
      ],
      "text/plain": [
       "           Quest No    Age       Gender      Employment Category  \\\n",
       "0  ABJ/2015/002/196  31-35  No Response     Civil/Public Servant   \n",
       "1  ABJ/2015/002/196  31-35  No Response     Civil/Public Servant   \n",
       "2  KAN/2015/001/228  31-35  No Response            Self Employed   \n",
       "3  KAN/2015/001/228  31-35  No Response            Self Employed   \n",
       "4   KAN/2015/04/061  21-30         Male  Private Sector Employee   \n",
       "\n",
       "           Education              Income Location    Bank  No of Years   \\\n",
       "0            OND/HND  N50,000 - N100,000    Abuja  Bank A          12.0   \n",
       "1            OND/HND  N50,000 - N100,000    Abuja  Bank M           6.0   \n",
       "2  Bachelor's Decree       Below N50,000     Kano  Bank J           2.0   \n",
       "3  Bachelor's Decree       Below N50,000     Kano  Bank B           NaN   \n",
       "4  Bachelor's Decree       Below N50,000     Kano  Bank C           5.0   \n",
       "\n",
       "  Most frequently used Bank  ... Payint Paycab Mig1 Mig2 Mig3  \\\n",
       "0                    Bank A  ...    NaN    NaN  NaN  NaN  NaN   \n",
       "1                    Bank A  ...    NaN    NaN  NaN  NaN  NaN   \n",
       "2                    Bank B  ...    NaN    NaN  Yes  NaN  NaN   \n",
       "3                    Bank B  ...    NaN    NaN  Yes  NaN  NaN   \n",
       "4                    Bank C  ...    Yes    NaN  Yes  NaN  NaN   \n",
       "\n",
       "               Rec Changeplan FromBank ToBank ChangeReasons  \n",
       "0   Sometimes will         No      NaN    NaN           NaN  \n",
       "1                0         No      NaN    NaN           NaN  \n",
       "2  Absolutely will         No      NaN    NaN           NaN  \n",
       "3       Often will         No      NaN    NaN           NaN  \n",
       "4       Often will         No      NaN    NaN           NaN  \n",
       "\n",
       "[5 rows x 152 columns]"
      ]
     },
     "execution_count": 6,
     "metadata": {},
     "output_type": "execute_result"
    }
   ],
   "source": [
    "data = pd.read_csv('Demo-Table 1.csv')\n",
    "data.head()"
   ]
  },
  {
   "cell_type": "code",
   "execution_count": 7,
   "metadata": {},
   "outputs": [
    {
     "data": {
      "text/plain": [
       "(42653, 152)"
      ]
     },
     "execution_count": 7,
     "metadata": {},
     "output_type": "execute_result"
    }
   ],
   "source": [
    "data.shape"
   ]
  },
  {
   "cell_type": "code",
   "execution_count": 8,
   "metadata": {},
   "outputs": [
    {
     "name": "stdout",
     "output_type": "stream",
     "text": [
      "<class 'pandas.core.frame.DataFrame'>\n",
      "RangeIndex: 42653 entries, 0 to 42652\n",
      "Columns: 152 entries, Quest No to ChangeReasons\n",
      "dtypes: float64(89), object(63)\n",
      "memory usage: 49.5+ MB\n"
     ]
    }
   ],
   "source": [
    "data.info()"
   ]
  },
  {
   "cell_type": "code",
   "execution_count": 9,
   "metadata": {},
   "outputs": [
    {
     "data": {
      "text/plain": [
       "No     38100\n",
       "Yes     4552\n",
       "Name: Changeplan, dtype: int64"
      ]
     },
     "execution_count": 9,
     "metadata": {},
     "output_type": "execute_result"
    }
   ],
   "source": [
    "# changeplan - Have plans to change Bank in the next 1-3 months\n",
    "data['Changeplan'].value_counts()"
   ]
  },
  {
   "cell_type": "code",
   "execution_count": 10,
   "metadata": {},
   "outputs": [
    {
     "data": {
      "text/html": [
       "<div>\n",
       "<style scoped>\n",
       "    .dataframe tbody tr th:only-of-type {\n",
       "        vertical-align: middle;\n",
       "    }\n",
       "\n",
       "    .dataframe tbody tr th {\n",
       "        vertical-align: top;\n",
       "    }\n",
       "\n",
       "    .dataframe thead th {\n",
       "        text-align: right;\n",
       "    }\n",
       "</style>\n",
       "<table border=\"1\" class=\"dataframe\">\n",
       "  <thead>\n",
       "    <tr style=\"text-align: right;\">\n",
       "      <th></th>\n",
       "      <th>Quest No</th>\n",
       "      <th>Age</th>\n",
       "      <th>Gender</th>\n",
       "      <th>Employment Category</th>\n",
       "      <th>Education</th>\n",
       "      <th>Income</th>\n",
       "      <th>Location</th>\n",
       "      <th>Bank</th>\n",
       "      <th>No of Years</th>\n",
       "      <th>Most frequently used Bank</th>\n",
       "      <th>...</th>\n",
       "      <th>Payint</th>\n",
       "      <th>Paycab</th>\n",
       "      <th>Mig1</th>\n",
       "      <th>Mig2</th>\n",
       "      <th>Mig3</th>\n",
       "      <th>Rec</th>\n",
       "      <th>Changeplan</th>\n",
       "      <th>FromBank</th>\n",
       "      <th>ToBank</th>\n",
       "      <th>ChangeReasons</th>\n",
       "    </tr>\n",
       "  </thead>\n",
       "  <tbody>\n",
       "    <tr>\n",
       "      <td>count</td>\n",
       "      <td>42652</td>\n",
       "      <td>42652</td>\n",
       "      <td>42652</td>\n",
       "      <td>42652</td>\n",
       "      <td>42652</td>\n",
       "      <td>42652</td>\n",
       "      <td>42652</td>\n",
       "      <td>42388</td>\n",
       "      <td>41386.000000</td>\n",
       "      <td>38975</td>\n",
       "      <td>...</td>\n",
       "      <td>12830</td>\n",
       "      <td>8234</td>\n",
       "      <td>18740</td>\n",
       "      <td>8068</td>\n",
       "      <td>7522</td>\n",
       "      <td>42652</td>\n",
       "      <td>42652</td>\n",
       "      <td>4453</td>\n",
       "      <td>4278</td>\n",
       "      <td>3772</td>\n",
       "    </tr>\n",
       "    <tr>\n",
       "      <td>unique</td>\n",
       "      <td>27116</td>\n",
       "      <td>7</td>\n",
       "      <td>3</td>\n",
       "      <td>8</td>\n",
       "      <td>9</td>\n",
       "      <td>7</td>\n",
       "      <td>29</td>\n",
       "      <td>17</td>\n",
       "      <td>NaN</td>\n",
       "      <td>17</td>\n",
       "      <td>...</td>\n",
       "      <td>1</td>\n",
       "      <td>1</td>\n",
       "      <td>1</td>\n",
       "      <td>1</td>\n",
       "      <td>1</td>\n",
       "      <td>6</td>\n",
       "      <td>2</td>\n",
       "      <td>17</td>\n",
       "      <td>17</td>\n",
       "      <td>7</td>\n",
       "    </tr>\n",
       "    <tr>\n",
       "      <td>top</td>\n",
       "      <td>LAG/2015/034/231</td>\n",
       "      <td>21-30</td>\n",
       "      <td>Male</td>\n",
       "      <td>Student</td>\n",
       "      <td>Bachelor's Decree</td>\n",
       "      <td>Below N50,000</td>\n",
       "      <td>Lagos</td>\n",
       "      <td>Bank C</td>\n",
       "      <td>NaN</td>\n",
       "      <td>Bank C</td>\n",
       "      <td>...</td>\n",
       "      <td>Yes</td>\n",
       "      <td>Yes</td>\n",
       "      <td>Yes</td>\n",
       "      <td>Yes</td>\n",
       "      <td>Yes</td>\n",
       "      <td>Absolutely will</td>\n",
       "      <td>No</td>\n",
       "      <td>Bank L</td>\n",
       "      <td>Bank C</td>\n",
       "      <td>Others</td>\n",
       "    </tr>\n",
       "    <tr>\n",
       "      <td>freq</td>\n",
       "      <td>10</td>\n",
       "      <td>16503</td>\n",
       "      <td>21755</td>\n",
       "      <td>11537</td>\n",
       "      <td>17163</td>\n",
       "      <td>19042</td>\n",
       "      <td>13618</td>\n",
       "      <td>6754</td>\n",
       "      <td>NaN</td>\n",
       "      <td>7699</td>\n",
       "      <td>...</td>\n",
       "      <td>12830</td>\n",
       "      <td>8234</td>\n",
       "      <td>18740</td>\n",
       "      <td>8068</td>\n",
       "      <td>7522</td>\n",
       "      <td>21072</td>\n",
       "      <td>38100</td>\n",
       "      <td>730</td>\n",
       "      <td>1203</td>\n",
       "      <td>1177</td>\n",
       "    </tr>\n",
       "    <tr>\n",
       "      <td>mean</td>\n",
       "      <td>NaN</td>\n",
       "      <td>NaN</td>\n",
       "      <td>NaN</td>\n",
       "      <td>NaN</td>\n",
       "      <td>NaN</td>\n",
       "      <td>NaN</td>\n",
       "      <td>NaN</td>\n",
       "      <td>NaN</td>\n",
       "      <td>6.113227</td>\n",
       "      <td>NaN</td>\n",
       "      <td>...</td>\n",
       "      <td>NaN</td>\n",
       "      <td>NaN</td>\n",
       "      <td>NaN</td>\n",
       "      <td>NaN</td>\n",
       "      <td>NaN</td>\n",
       "      <td>NaN</td>\n",
       "      <td>NaN</td>\n",
       "      <td>NaN</td>\n",
       "      <td>NaN</td>\n",
       "      <td>NaN</td>\n",
       "    </tr>\n",
       "    <tr>\n",
       "      <td>std</td>\n",
       "      <td>NaN</td>\n",
       "      <td>NaN</td>\n",
       "      <td>NaN</td>\n",
       "      <td>NaN</td>\n",
       "      <td>NaN</td>\n",
       "      <td>NaN</td>\n",
       "      <td>NaN</td>\n",
       "      <td>NaN</td>\n",
       "      <td>4.801078</td>\n",
       "      <td>NaN</td>\n",
       "      <td>...</td>\n",
       "      <td>NaN</td>\n",
       "      <td>NaN</td>\n",
       "      <td>NaN</td>\n",
       "      <td>NaN</td>\n",
       "      <td>NaN</td>\n",
       "      <td>NaN</td>\n",
       "      <td>NaN</td>\n",
       "      <td>NaN</td>\n",
       "      <td>NaN</td>\n",
       "      <td>NaN</td>\n",
       "    </tr>\n",
       "    <tr>\n",
       "      <td>min</td>\n",
       "      <td>NaN</td>\n",
       "      <td>NaN</td>\n",
       "      <td>NaN</td>\n",
       "      <td>NaN</td>\n",
       "      <td>NaN</td>\n",
       "      <td>NaN</td>\n",
       "      <td>NaN</td>\n",
       "      <td>NaN</td>\n",
       "      <td>0.000000</td>\n",
       "      <td>NaN</td>\n",
       "      <td>...</td>\n",
       "      <td>NaN</td>\n",
       "      <td>NaN</td>\n",
       "      <td>NaN</td>\n",
       "      <td>NaN</td>\n",
       "      <td>NaN</td>\n",
       "      <td>NaN</td>\n",
       "      <td>NaN</td>\n",
       "      <td>NaN</td>\n",
       "      <td>NaN</td>\n",
       "      <td>NaN</td>\n",
       "    </tr>\n",
       "    <tr>\n",
       "      <td>25%</td>\n",
       "      <td>NaN</td>\n",
       "      <td>NaN</td>\n",
       "      <td>NaN</td>\n",
       "      <td>NaN</td>\n",
       "      <td>NaN</td>\n",
       "      <td>NaN</td>\n",
       "      <td>NaN</td>\n",
       "      <td>NaN</td>\n",
       "      <td>3.000000</td>\n",
       "      <td>NaN</td>\n",
       "      <td>...</td>\n",
       "      <td>NaN</td>\n",
       "      <td>NaN</td>\n",
       "      <td>NaN</td>\n",
       "      <td>NaN</td>\n",
       "      <td>NaN</td>\n",
       "      <td>NaN</td>\n",
       "      <td>NaN</td>\n",
       "      <td>NaN</td>\n",
       "      <td>NaN</td>\n",
       "      <td>NaN</td>\n",
       "    </tr>\n",
       "    <tr>\n",
       "      <td>50%</td>\n",
       "      <td>NaN</td>\n",
       "      <td>NaN</td>\n",
       "      <td>NaN</td>\n",
       "      <td>NaN</td>\n",
       "      <td>NaN</td>\n",
       "      <td>NaN</td>\n",
       "      <td>NaN</td>\n",
       "      <td>NaN</td>\n",
       "      <td>5.000000</td>\n",
       "      <td>NaN</td>\n",
       "      <td>...</td>\n",
       "      <td>NaN</td>\n",
       "      <td>NaN</td>\n",
       "      <td>NaN</td>\n",
       "      <td>NaN</td>\n",
       "      <td>NaN</td>\n",
       "      <td>NaN</td>\n",
       "      <td>NaN</td>\n",
       "      <td>NaN</td>\n",
       "      <td>NaN</td>\n",
       "      <td>NaN</td>\n",
       "    </tr>\n",
       "    <tr>\n",
       "      <td>75%</td>\n",
       "      <td>NaN</td>\n",
       "      <td>NaN</td>\n",
       "      <td>NaN</td>\n",
       "      <td>NaN</td>\n",
       "      <td>NaN</td>\n",
       "      <td>NaN</td>\n",
       "      <td>NaN</td>\n",
       "      <td>NaN</td>\n",
       "      <td>8.000000</td>\n",
       "      <td>NaN</td>\n",
       "      <td>...</td>\n",
       "      <td>NaN</td>\n",
       "      <td>NaN</td>\n",
       "      <td>NaN</td>\n",
       "      <td>NaN</td>\n",
       "      <td>NaN</td>\n",
       "      <td>NaN</td>\n",
       "      <td>NaN</td>\n",
       "      <td>NaN</td>\n",
       "      <td>NaN</td>\n",
       "      <td>NaN</td>\n",
       "    </tr>\n",
       "    <tr>\n",
       "      <td>max</td>\n",
       "      <td>NaN</td>\n",
       "      <td>NaN</td>\n",
       "      <td>NaN</td>\n",
       "      <td>NaN</td>\n",
       "      <td>NaN</td>\n",
       "      <td>NaN</td>\n",
       "      <td>NaN</td>\n",
       "      <td>NaN</td>\n",
       "      <td>55.000000</td>\n",
       "      <td>NaN</td>\n",
       "      <td>...</td>\n",
       "      <td>NaN</td>\n",
       "      <td>NaN</td>\n",
       "      <td>NaN</td>\n",
       "      <td>NaN</td>\n",
       "      <td>NaN</td>\n",
       "      <td>NaN</td>\n",
       "      <td>NaN</td>\n",
       "      <td>NaN</td>\n",
       "      <td>NaN</td>\n",
       "      <td>NaN</td>\n",
       "    </tr>\n",
       "  </tbody>\n",
       "</table>\n",
       "<p>11 rows × 152 columns</p>\n",
       "</div>"
      ],
      "text/plain": [
       "                Quest No    Age Gender Employment Category          Education  \\\n",
       "count              42652  42652  42652               42652              42652   \n",
       "unique             27116      7      3                   8                  9   \n",
       "top     LAG/2015/034/231  21-30   Male             Student  Bachelor's Decree   \n",
       "freq                  10  16503  21755               11537              17163   \n",
       "mean                 NaN    NaN    NaN                 NaN                NaN   \n",
       "std                  NaN    NaN    NaN                 NaN                NaN   \n",
       "min                  NaN    NaN    NaN                 NaN                NaN   \n",
       "25%                  NaN    NaN    NaN                 NaN                NaN   \n",
       "50%                  NaN    NaN    NaN                 NaN                NaN   \n",
       "75%                  NaN    NaN    NaN                 NaN                NaN   \n",
       "max                  NaN    NaN    NaN                 NaN                NaN   \n",
       "\n",
       "               Income Location    Bank  No of Years   \\\n",
       "count           42652    42652   42388  41386.000000   \n",
       "unique              7       29      17           NaN   \n",
       "top     Below N50,000    Lagos  Bank C           NaN   \n",
       "freq            19042    13618    6754           NaN   \n",
       "mean              NaN      NaN     NaN      6.113227   \n",
       "std               NaN      NaN     NaN      4.801078   \n",
       "min               NaN      NaN     NaN      0.000000   \n",
       "25%               NaN      NaN     NaN      3.000000   \n",
       "50%               NaN      NaN     NaN      5.000000   \n",
       "75%               NaN      NaN     NaN      8.000000   \n",
       "max               NaN      NaN     NaN     55.000000   \n",
       "\n",
       "       Most frequently used Bank  ... Payint Paycab   Mig1  Mig2  Mig3  \\\n",
       "count                      38975  ...  12830   8234  18740  8068  7522   \n",
       "unique                        17  ...      1      1      1     1     1   \n",
       "top                       Bank C  ...    Yes    Yes    Yes   Yes   Yes   \n",
       "freq                        7699  ...  12830   8234  18740  8068  7522   \n",
       "mean                         NaN  ...    NaN    NaN    NaN   NaN   NaN   \n",
       "std                          NaN  ...    NaN    NaN    NaN   NaN   NaN   \n",
       "min                          NaN  ...    NaN    NaN    NaN   NaN   NaN   \n",
       "25%                          NaN  ...    NaN    NaN    NaN   NaN   NaN   \n",
       "50%                          NaN  ...    NaN    NaN    NaN   NaN   NaN   \n",
       "75%                          NaN  ...    NaN    NaN    NaN   NaN   NaN   \n",
       "max                          NaN  ...    NaN    NaN    NaN   NaN   NaN   \n",
       "\n",
       "                    Rec Changeplan FromBank  ToBank ChangeReasons  \n",
       "count             42652      42652     4453    4278          3772  \n",
       "unique                6          2       17      17             7  \n",
       "top     Absolutely will         No   Bank L  Bank C        Others  \n",
       "freq              21072      38100      730    1203          1177  \n",
       "mean                NaN        NaN      NaN     NaN           NaN  \n",
       "std                 NaN        NaN      NaN     NaN           NaN  \n",
       "min                 NaN        NaN      NaN     NaN           NaN  \n",
       "25%                 NaN        NaN      NaN     NaN           NaN  \n",
       "50%                 NaN        NaN      NaN     NaN           NaN  \n",
       "75%                 NaN        NaN      NaN     NaN           NaN  \n",
       "max                 NaN        NaN      NaN     NaN           NaN  \n",
       "\n",
       "[11 rows x 152 columns]"
      ]
     },
     "execution_count": 10,
     "metadata": {},
     "output_type": "execute_result"
    }
   ],
   "source": [
    "data.describe(include='all')"
   ]
  },
  {
   "cell_type": "code",
   "execution_count": 11,
   "metadata": {},
   "outputs": [
    {
     "data": {
      "text/html": [
       "<div>\n",
       "<style scoped>\n",
       "    .dataframe tbody tr th:only-of-type {\n",
       "        vertical-align: middle;\n",
       "    }\n",
       "\n",
       "    .dataframe tbody tr th {\n",
       "        vertical-align: top;\n",
       "    }\n",
       "\n",
       "    .dataframe thead th {\n",
       "        text-align: right;\n",
       "    }\n",
       "</style>\n",
       "<table border=\"1\" class=\"dataframe\">\n",
       "  <thead>\n",
       "    <tr style=\"text-align: right;\">\n",
       "      <th></th>\n",
       "      <th>Codes</th>\n",
       "      <th>Description</th>\n",
       "    </tr>\n",
       "  </thead>\n",
       "  <tbody>\n",
       "    <tr>\n",
       "      <td>0</td>\n",
       "      <td>Quest No</td>\n",
       "      <td>Questionnaire number</td>\n",
       "    </tr>\n",
       "    <tr>\n",
       "      <td>1</td>\n",
       "      <td>Age</td>\n",
       "      <td>Age</td>\n",
       "    </tr>\n",
       "    <tr>\n",
       "      <td>2</td>\n",
       "      <td>Gender</td>\n",
       "      <td>Gender</td>\n",
       "    </tr>\n",
       "    <tr>\n",
       "      <td>3</td>\n",
       "      <td>Employment Category</td>\n",
       "      <td>Employment category</td>\n",
       "    </tr>\n",
       "    <tr>\n",
       "      <td>4</td>\n",
       "      <td>Education</td>\n",
       "      <td>Education</td>\n",
       "    </tr>\n",
       "    <tr>\n",
       "      <td>...</td>\n",
       "      <td>...</td>\n",
       "      <td>...</td>\n",
       "    </tr>\n",
       "    <tr>\n",
       "      <td>175</td>\n",
       "      <td>Rec</td>\n",
       "      <td>Will you recommend your Bank?</td>\n",
       "    </tr>\n",
       "    <tr>\n",
       "      <td>177</td>\n",
       "      <td>Changeplan</td>\n",
       "      <td>Have plans to change Bank in the next 1-3 months</td>\n",
       "    </tr>\n",
       "    <tr>\n",
       "      <td>178</td>\n",
       "      <td>FromBank</td>\n",
       "      <td>Bank you want to change from</td>\n",
       "    </tr>\n",
       "    <tr>\n",
       "      <td>179</td>\n",
       "      <td>ToBank</td>\n",
       "      <td>Bank you want to change to</td>\n",
       "    </tr>\n",
       "    <tr>\n",
       "      <td>180</td>\n",
       "      <td>ChangeReasons</td>\n",
       "      <td>Primary reason for having change plans</td>\n",
       "    </tr>\n",
       "  </tbody>\n",
       "</table>\n",
       "<p>154 rows × 2 columns</p>\n",
       "</div>"
      ],
      "text/plain": [
       "                   Codes                                       Description\n",
       "0               Quest No                              Questionnaire number\n",
       "1                    Age                                               Age\n",
       "2                 Gender                                            Gender\n",
       "3    Employment Category                               Employment category\n",
       "4              Education                                         Education\n",
       "..                   ...                                               ...\n",
       "175                  Rec                     Will you recommend your Bank?\n",
       "177           Changeplan  Have plans to change Bank in the next 1-3 months\n",
       "178             FromBank                      Bank you want to change from\n",
       "179               ToBank                        Bank you want to change to\n",
       "180        ChangeReasons            Primary reason for having change plans\n",
       "\n",
       "[154 rows x 2 columns]"
      ]
     },
     "execution_count": 11,
     "metadata": {},
     "output_type": "execute_result"
    }
   ],
   "source": [
    "data_desc[['Codes','Description']].dropna()"
   ]
  },
  {
   "cell_type": "code",
   "execution_count": 12,
   "metadata": {},
   "outputs": [
    {
     "data": {
      "text/plain": [
       "array(['Quest No', 'Age', 'Gender', 'Employment Category', 'Education',\n",
       "       'Income', 'Location', 'Bank', 'No of Years ',\n",
       "       'Most Frequently Used Bank', 'RatQOS', 'RatFS', 'RatIR', 'RatERSA',\n",
       "       'RatPOBR', 'RatRFF', 'FreqBra', 'FreqATM', 'FreqPOS', 'FreqInt',\n",
       "       'FreqMob', 'FreqUSSD', 'FreqTel', 'MostfreqATM', 'ATMproximity',\n",
       "       'ATMqon', 'ATMsecurity', 'ATMros', 'Device1', 'Device2', 'Device3',\n",
       "       'Device4', 'Cshwit', 'Cshdep', 'Fndtrf', 'Balenq', 'Mkgcmp',\n",
       "       'Mkgpay', 'Gtloan', 'Gtfnad', 'Bkfxdp', 'Cshwit2', 'Cshdep2',\n",
       "       'Fndtrf2', 'Balenq2', 'mkgcmp2', 'Mkgpay2', 'Gtloan2', 'Gtfnad2',\n",
       "       'Bkfxdp2', 'Importance Rating', 'Satisfaction Rating',\n",
       "       'Customer Care', 'impcc1a', 'cc1a', 'impcc1b', 'cc1b', 'impcc2',\n",
       "       'cc2', 'impcc3', 'cc3', 'Complaints', 'impcc4', 'cc4', 'impcc4b',\n",
       "       'cc4b', 'Branches', 'qosbrn1i', 'qosbrn1', 'qosbrn2i', 'qosbrn2',\n",
       "       'qosbrn3i', 'qosbrn3', 'tat1i', 'tat1', 'tat2i', 'tat2', 'tat3i',\n",
       "       'tat3', 'ATMs ', 'qosatm1', 'qosatm1i', 'qosatm2i', 'qosatm2',\n",
       "       'qosatm3i', 'qosatm3', 'qosatm4i', 'qosatm4',\n",
       "       'Mobile Banking (via applications)', 'qosmob1i', 'qosmob1',\n",
       "       'qosmob2i', 'qosmob2', 'qosmob3i', 'qosmob3', 'qosmob4i',\n",
       "       'qosmob4', 'qosmob5i', 'qosmob5', 'qosmob6i', 'qosmob6',\n",
       "       'Internet Banking', 'qosint1i', 'qosint1', 'qosint2i', 'qosint2',\n",
       "       'qosint3i', 'qosint3', 'qosint4i', 'qosint4', 'qosint5i',\n",
       "       'qosint5', 'qosint6i', 'qosint6', 'Call Centre', 'qoscct1i',\n",
       "       'qoscct1', 'qoscct2i', 'qoscct2', 'qoscct3i', 'qoscct3',\n",
       "       'Social Media', 'qossm1i', 'qossm1', 'qossm2i', 'qossm2',\n",
       "       'Cards (Debit/ Credit)', 'qoscad1i', 'qoscad1', 'qoscad2i',\n",
       "       'qoscad2', 'qoscad3i', 'qoscad3', 'qoscad4i', 'qoscad4',\n",
       "       'Executional Efficiency', 'acci', 'acc', 'infi', 'inf',\n",
       "       'Products (e.g. savings, fixed deposits, loans etc.)', 'prd1i',\n",
       "       'prd1', 'prd2i', 'prd2', 'Ease of getting credit facilities',\n",
       "       'eas1i', 'eas1', 'eas2i', 'eas2', 'Value for Money', 'qosci',\n",
       "       'qosc', 'Payuticash', 'Payintcash', 'Paycabcash', 'Payuti',\n",
       "       'Payint', 'Paycab', 'Mig1', 'Mig2', 'Mig3', 'Rec', 'Changeplan',\n",
       "       'FromBank', 'ToBank', 'ChangeReasons'], dtype=object)"
      ]
     },
     "execution_count": 12,
     "metadata": {},
     "output_type": "execute_result"
    }
   ],
   "source": [
    "data_desc['Codes'].dropna().values"
   ]
  },
  {
   "cell_type": "code",
   "execution_count": null,
   "metadata": {},
   "outputs": [],
   "source": [
    "'''\n",
    "\n",
    "DATASET DESCRIPTION :-\n",
    "\n",
    "1.The main dataset is the customer information of those who hold accounts in various banks in new zealand - data.\n",
    "2.The supporting dataset contains the full description of the columns that the main dataset has - data_desc.\n",
    "3.There has been a survey that has been conducted by presenting these 42,653 customers with different questionnares\n",
    "and different questions were asked regarding the banking services and results were stored in the dataset - data. \n",
    "4)'Importance Rating'\n",
    "5)'Satisfaction Rating'\n",
    "These ratings can be seen present in the codes of the supporting dataset.\n",
    "6)MAIN OBJECTIVE - We are supposed to create different subsets of Customer group with similar customers.\n",
    "\n",
    "7)OTHERS - \n",
    "\n",
    "A. We can also grade the banks in new zealand interms of their performances as per the customer's data collected, \n",
    "B. Know what category of banks or banks with what charecteristics are attracting more customers, and \n",
    "C. Then further compare this with the customer segregation results above and understand the charecteristics of \n",
    "   the groups attracted to these specific banks and \n",
    "D. Also on the contrary can understand the charecteristics of other group of customers as well and can device \n",
    "   strategies to turn them into customers for already popular banks or other unpopular banks.\n",
    "E. Overall we can use the combined results to equally benifit both the banks and make the most of every group of \n",
    "   customers we have segregated.\n",
    "'''"
   ]
  },
  {
   "cell_type": "markdown",
   "metadata": {},
   "source": [
    "### Let's analyse data - customer info and response to the survey"
   ]
  },
  {
   "cell_type": "code",
   "execution_count": 18,
   "metadata": {},
   "outputs": [],
   "source": [
    "pd.set_option(\"display.max_columns\", 200)"
   ]
  },
  {
   "cell_type": "code",
   "execution_count": 19,
   "metadata": {},
   "outputs": [
    {
     "data": {
      "text/html": [
       "<div>\n",
       "<style scoped>\n",
       "    .dataframe tbody tr th:only-of-type {\n",
       "        vertical-align: middle;\n",
       "    }\n",
       "\n",
       "    .dataframe tbody tr th {\n",
       "        vertical-align: top;\n",
       "    }\n",
       "\n",
       "    .dataframe thead th {\n",
       "        text-align: right;\n",
       "    }\n",
       "</style>\n",
       "<table border=\"1\" class=\"dataframe\">\n",
       "  <thead>\n",
       "    <tr style=\"text-align: right;\">\n",
       "      <th></th>\n",
       "      <th>Quest No</th>\n",
       "      <th>Age</th>\n",
       "      <th>Gender</th>\n",
       "      <th>Employment Category</th>\n",
       "      <th>Education</th>\n",
       "      <th>Income</th>\n",
       "      <th>Location</th>\n",
       "      <th>Bank</th>\n",
       "      <th>No of Years</th>\n",
       "      <th>Most frequently used Bank</th>\n",
       "      <th>RatQOS</th>\n",
       "      <th>RatFS</th>\n",
       "      <th>RatIR</th>\n",
       "      <th>RatERSA</th>\n",
       "      <th>RatPOBR</th>\n",
       "      <th>RatRFF</th>\n",
       "      <th>FreqBra</th>\n",
       "      <th>FreqATM</th>\n",
       "      <th>FreqPOS</th>\n",
       "      <th>FreqInt</th>\n",
       "      <th>FreqMob</th>\n",
       "      <th>FreqUSSD</th>\n",
       "      <th>FreqTel</th>\n",
       "      <th>MostfreqATM</th>\n",
       "      <th>ATMproximity</th>\n",
       "      <th>ATMqon</th>\n",
       "      <th>ATMsecurity</th>\n",
       "      <th>ATMros</th>\n",
       "      <th>Device1</th>\n",
       "      <th>Device2</th>\n",
       "      <th>Device3</th>\n",
       "      <th>Device4</th>\n",
       "      <th>Cshwit</th>\n",
       "      <th>Cshdep</th>\n",
       "      <th>Fndtrf</th>\n",
       "      <th>Balenq</th>\n",
       "      <th>Mkgcmp</th>\n",
       "      <th>Mkgpay</th>\n",
       "      <th>Gtloan</th>\n",
       "      <th>Gtfnad</th>\n",
       "      <th>Bkfxdp</th>\n",
       "      <th>Cshwit2</th>\n",
       "      <th>Cshdep2</th>\n",
       "      <th>Fndtrf2</th>\n",
       "      <th>Balenq2</th>\n",
       "      <th>mkgcmp2</th>\n",
       "      <th>Mkgpay2</th>\n",
       "      <th>Gtloan2</th>\n",
       "      <th>Gtfnad2</th>\n",
       "      <th>Bkfxdp2</th>\n",
       "      <th>impcc1a</th>\n",
       "      <th>cc1a</th>\n",
       "      <th>impcc1b</th>\n",
       "      <th>cc1b</th>\n",
       "      <th>impcc2</th>\n",
       "      <th>cc2</th>\n",
       "      <th>impcc3</th>\n",
       "      <th>cc3</th>\n",
       "      <th>impcc4</th>\n",
       "      <th>cc4</th>\n",
       "      <th>impcc4b</th>\n",
       "      <th>cc4b</th>\n",
       "      <th>qosbrn1i</th>\n",
       "      <th>qosbrn1</th>\n",
       "      <th>qosbrn2i</th>\n",
       "      <th>qosbrn2</th>\n",
       "      <th>qosbrn3i</th>\n",
       "      <th>qosbrn3</th>\n",
       "      <th>tat1i</th>\n",
       "      <th>tat1</th>\n",
       "      <th>tat2i</th>\n",
       "      <th>tat2</th>\n",
       "      <th>tat3i</th>\n",
       "      <th>tat3</th>\n",
       "      <th>qosatm1</th>\n",
       "      <th>qosatm1i</th>\n",
       "      <th>qosatm2i</th>\n",
       "      <th>qosatm2</th>\n",
       "      <th>qosatm3i</th>\n",
       "      <th>qosatm3</th>\n",
       "      <th>qosatm4i</th>\n",
       "      <th>qosatm4</th>\n",
       "      <th>qosmob1i</th>\n",
       "      <th>qosmob1</th>\n",
       "      <th>qosmob2i</th>\n",
       "      <th>qosmob2</th>\n",
       "      <th>qosmob3i</th>\n",
       "      <th>qosmob3</th>\n",
       "      <th>qosmob4i</th>\n",
       "      <th>qosmob4</th>\n",
       "      <th>qosmob5i</th>\n",
       "      <th>qosmob5</th>\n",
       "      <th>qosmob6i</th>\n",
       "      <th>qosmob6</th>\n",
       "      <th>qosint1i</th>\n",
       "      <th>qosint1</th>\n",
       "      <th>qosint2i</th>\n",
       "      <th>qosint2</th>\n",
       "      <th>qosint3i</th>\n",
       "      <th>qosint3</th>\n",
       "      <th>qosint4i</th>\n",
       "      <th>qosint4</th>\n",
       "      <th>qosint5i</th>\n",
       "      <th>qosint5</th>\n",
       "      <th>qosint6i</th>\n",
       "      <th>qosint6</th>\n",
       "      <th>qoscct1i</th>\n",
       "      <th>qoscct1</th>\n",
       "      <th>qoscct2i</th>\n",
       "      <th>qoscct2</th>\n",
       "      <th>qoscct3i</th>\n",
       "      <th>qoscct3</th>\n",
       "      <th>qossm1i</th>\n",
       "      <th>qossm1</th>\n",
       "      <th>qossm2i</th>\n",
       "      <th>qossm2</th>\n",
       "      <th>qoscad1i</th>\n",
       "      <th>qoscad1</th>\n",
       "      <th>qoscad2i</th>\n",
       "      <th>qoscad2</th>\n",
       "      <th>qoscad3i</th>\n",
       "      <th>qoscad3</th>\n",
       "      <th>qoscad4i</th>\n",
       "      <th>qoscad4</th>\n",
       "      <th>acci</th>\n",
       "      <th>acc</th>\n",
       "      <th>infi</th>\n",
       "      <th>inf</th>\n",
       "      <th>prd1i</th>\n",
       "      <th>prd1</th>\n",
       "      <th>prd2i</th>\n",
       "      <th>prd2</th>\n",
       "      <th>eas1i</th>\n",
       "      <th>eas1</th>\n",
       "      <th>eas2i</th>\n",
       "      <th>eas2</th>\n",
       "      <th>qosci</th>\n",
       "      <th>qosc</th>\n",
       "      <th>Payuticash</th>\n",
       "      <th>Payintcash</th>\n",
       "      <th>Paycabcash</th>\n",
       "      <th>Payuti</th>\n",
       "      <th>Payint</th>\n",
       "      <th>Paycab</th>\n",
       "      <th>Mig1</th>\n",
       "      <th>Mig2</th>\n",
       "      <th>Mig3</th>\n",
       "      <th>Rec</th>\n",
       "      <th>Changeplan</th>\n",
       "      <th>FromBank</th>\n",
       "      <th>ToBank</th>\n",
       "      <th>ChangeReasons</th>\n",
       "    </tr>\n",
       "  </thead>\n",
       "  <tbody>\n",
       "    <tr>\n",
       "      <td>0</td>\n",
       "      <td>ABJ/2015/002/196</td>\n",
       "      <td>31-35</td>\n",
       "      <td>No Response</td>\n",
       "      <td>Civil/Public Servant</td>\n",
       "      <td>OND/HND</td>\n",
       "      <td>N50,000 - N100,000</td>\n",
       "      <td>Abuja</td>\n",
       "      <td>Bank A</td>\n",
       "      <td>12.0</td>\n",
       "      <td>Bank A</td>\n",
       "      <td>Yes</td>\n",
       "      <td>NaN</td>\n",
       "      <td>NaN</td>\n",
       "      <td>NaN</td>\n",
       "      <td>NaN</td>\n",
       "      <td>NaN</td>\n",
       "      <td>Rarely</td>\n",
       "      <td>Monthly</td>\n",
       "      <td>Never</td>\n",
       "      <td>Never</td>\n",
       "      <td>Never</td>\n",
       "      <td>Never</td>\n",
       "      <td>Never</td>\n",
       "      <td>Bank A</td>\n",
       "      <td>NaN</td>\n",
       "      <td>NaN</td>\n",
       "      <td>NaN</td>\n",
       "      <td>Yes</td>\n",
       "      <td>NaN</td>\n",
       "      <td>NaN</td>\n",
       "      <td>NaN</td>\n",
       "      <td>NaN</td>\n",
       "      <td>ATM</td>\n",
       "      <td>Branch</td>\n",
       "      <td>ATM</td>\n",
       "      <td>ATM</td>\n",
       "      <td>Branch</td>\n",
       "      <td>Branch</td>\n",
       "      <td>No Response</td>\n",
       "      <td>Branch</td>\n",
       "      <td>No Response</td>\n",
       "      <td>ATM</td>\n",
       "      <td>Branch</td>\n",
       "      <td>ATM</td>\n",
       "      <td>ATM</td>\n",
       "      <td>Branch</td>\n",
       "      <td>POS</td>\n",
       "      <td>Branch</td>\n",
       "      <td>Branch</td>\n",
       "      <td>Branch</td>\n",
       "      <td>9.0</td>\n",
       "      <td>5.0</td>\n",
       "      <td>9.0</td>\n",
       "      <td>5.0</td>\n",
       "      <td>9.0</td>\n",
       "      <td>4.0</td>\n",
       "      <td>9.0</td>\n",
       "      <td>5.0</td>\n",
       "      <td>9.0</td>\n",
       "      <td>5.0</td>\n",
       "      <td>10.0</td>\n",
       "      <td>5.0</td>\n",
       "      <td>9.0</td>\n",
       "      <td>5.0</td>\n",
       "      <td>10.0</td>\n",
       "      <td>3.0</td>\n",
       "      <td>10.0</td>\n",
       "      <td>5.0</td>\n",
       "      <td>10.0</td>\n",
       "      <td>5.0</td>\n",
       "      <td>10.0</td>\n",
       "      <td>5.0</td>\n",
       "      <td>10.0</td>\n",
       "      <td>4.0</td>\n",
       "      <td>10.0</td>\n",
       "      <td>4.0</td>\n",
       "      <td>10.0</td>\n",
       "      <td>4.0</td>\n",
       "      <td>10.0</td>\n",
       "      <td>4.0</td>\n",
       "      <td>10.0</td>\n",
       "      <td>5.0</td>\n",
       "      <td>NaN</td>\n",
       "      <td>NaN</td>\n",
       "      <td>NaN</td>\n",
       "      <td>NaN</td>\n",
       "      <td>NaN</td>\n",
       "      <td>NaN</td>\n",
       "      <td>NaN</td>\n",
       "      <td>NaN</td>\n",
       "      <td>NaN</td>\n",
       "      <td>NaN</td>\n",
       "      <td>NaN</td>\n",
       "      <td>NaN</td>\n",
       "      <td>NaN</td>\n",
       "      <td>NaN</td>\n",
       "      <td>NaN</td>\n",
       "      <td>NaN</td>\n",
       "      <td>NaN</td>\n",
       "      <td>NaN</td>\n",
       "      <td>NaN</td>\n",
       "      <td>NaN</td>\n",
       "      <td>NaN</td>\n",
       "      <td>NaN</td>\n",
       "      <td>NaN</td>\n",
       "      <td>NaN</td>\n",
       "      <td>NaN</td>\n",
       "      <td>NaN</td>\n",
       "      <td>NaN</td>\n",
       "      <td>NaN</td>\n",
       "      <td>NaN</td>\n",
       "      <td>NaN</td>\n",
       "      <td>NaN</td>\n",
       "      <td>NaN</td>\n",
       "      <td>NaN</td>\n",
       "      <td>NaN</td>\n",
       "      <td>10.0</td>\n",
       "      <td>5.0</td>\n",
       "      <td>10.0</td>\n",
       "      <td>5.0</td>\n",
       "      <td>10.0</td>\n",
       "      <td>5.0</td>\n",
       "      <td>NaN</td>\n",
       "      <td>NaN</td>\n",
       "      <td>10.0</td>\n",
       "      <td>5.0</td>\n",
       "      <td>10.0</td>\n",
       "      <td>5.0</td>\n",
       "      <td>9.0</td>\n",
       "      <td>4.0</td>\n",
       "      <td>10.0</td>\n",
       "      <td>5.0</td>\n",
       "      <td>NaN</td>\n",
       "      <td>NaN</td>\n",
       "      <td>NaN</td>\n",
       "      <td>NaN</td>\n",
       "      <td>10.0</td>\n",
       "      <td>5.0</td>\n",
       "      <td>NaN</td>\n",
       "      <td>NaN</td>\n",
       "      <td>NaN</td>\n",
       "      <td>NaN</td>\n",
       "      <td>NaN</td>\n",
       "      <td>NaN</td>\n",
       "      <td>NaN</td>\n",
       "      <td>NaN</td>\n",
       "      <td>NaN</td>\n",
       "      <td>Sometimes will</td>\n",
       "      <td>No</td>\n",
       "      <td>NaN</td>\n",
       "      <td>NaN</td>\n",
       "      <td>NaN</td>\n",
       "    </tr>\n",
       "    <tr>\n",
       "      <td>1</td>\n",
       "      <td>ABJ/2015/002/196</td>\n",
       "      <td>31-35</td>\n",
       "      <td>No Response</td>\n",
       "      <td>Civil/Public Servant</td>\n",
       "      <td>OND/HND</td>\n",
       "      <td>N50,000 - N100,000</td>\n",
       "      <td>Abuja</td>\n",
       "      <td>Bank M</td>\n",
       "      <td>6.0</td>\n",
       "      <td>Bank A</td>\n",
       "      <td>NaN</td>\n",
       "      <td>NaN</td>\n",
       "      <td>NaN</td>\n",
       "      <td>NaN</td>\n",
       "      <td>Yes</td>\n",
       "      <td>NaN</td>\n",
       "      <td>Rarely</td>\n",
       "      <td>Monthly</td>\n",
       "      <td>Never</td>\n",
       "      <td>Never</td>\n",
       "      <td>Never</td>\n",
       "      <td>Never</td>\n",
       "      <td>Never</td>\n",
       "      <td>Bank A</td>\n",
       "      <td>NaN</td>\n",
       "      <td>NaN</td>\n",
       "      <td>NaN</td>\n",
       "      <td>Yes</td>\n",
       "      <td>NaN</td>\n",
       "      <td>NaN</td>\n",
       "      <td>NaN</td>\n",
       "      <td>NaN</td>\n",
       "      <td>ATM</td>\n",
       "      <td>Branch</td>\n",
       "      <td>ATM</td>\n",
       "      <td>ATM</td>\n",
       "      <td>Branch</td>\n",
       "      <td>Branch</td>\n",
       "      <td>No Response</td>\n",
       "      <td>Branch</td>\n",
       "      <td>No Response</td>\n",
       "      <td>ATM</td>\n",
       "      <td>Branch</td>\n",
       "      <td>ATM</td>\n",
       "      <td>ATM</td>\n",
       "      <td>Branch</td>\n",
       "      <td>POS</td>\n",
       "      <td>Branch</td>\n",
       "      <td>Branch</td>\n",
       "      <td>Branch</td>\n",
       "      <td>NaN</td>\n",
       "      <td>NaN</td>\n",
       "      <td>NaN</td>\n",
       "      <td>NaN</td>\n",
       "      <td>NaN</td>\n",
       "      <td>NaN</td>\n",
       "      <td>NaN</td>\n",
       "      <td>NaN</td>\n",
       "      <td>NaN</td>\n",
       "      <td>NaN</td>\n",
       "      <td>NaN</td>\n",
       "      <td>NaN</td>\n",
       "      <td>NaN</td>\n",
       "      <td>NaN</td>\n",
       "      <td>NaN</td>\n",
       "      <td>NaN</td>\n",
       "      <td>NaN</td>\n",
       "      <td>NaN</td>\n",
       "      <td>NaN</td>\n",
       "      <td>NaN</td>\n",
       "      <td>NaN</td>\n",
       "      <td>NaN</td>\n",
       "      <td>NaN</td>\n",
       "      <td>NaN</td>\n",
       "      <td>NaN</td>\n",
       "      <td>NaN</td>\n",
       "      <td>NaN</td>\n",
       "      <td>NaN</td>\n",
       "      <td>NaN</td>\n",
       "      <td>NaN</td>\n",
       "      <td>NaN</td>\n",
       "      <td>NaN</td>\n",
       "      <td>NaN</td>\n",
       "      <td>NaN</td>\n",
       "      <td>NaN</td>\n",
       "      <td>NaN</td>\n",
       "      <td>NaN</td>\n",
       "      <td>NaN</td>\n",
       "      <td>NaN</td>\n",
       "      <td>NaN</td>\n",
       "      <td>NaN</td>\n",
       "      <td>NaN</td>\n",
       "      <td>NaN</td>\n",
       "      <td>NaN</td>\n",
       "      <td>NaN</td>\n",
       "      <td>NaN</td>\n",
       "      <td>NaN</td>\n",
       "      <td>NaN</td>\n",
       "      <td>NaN</td>\n",
       "      <td>NaN</td>\n",
       "      <td>NaN</td>\n",
       "      <td>NaN</td>\n",
       "      <td>NaN</td>\n",
       "      <td>NaN</td>\n",
       "      <td>NaN</td>\n",
       "      <td>NaN</td>\n",
       "      <td>NaN</td>\n",
       "      <td>NaN</td>\n",
       "      <td>NaN</td>\n",
       "      <td>NaN</td>\n",
       "      <td>NaN</td>\n",
       "      <td>NaN</td>\n",
       "      <td>NaN</td>\n",
       "      <td>NaN</td>\n",
       "      <td>NaN</td>\n",
       "      <td>NaN</td>\n",
       "      <td>NaN</td>\n",
       "      <td>NaN</td>\n",
       "      <td>NaN</td>\n",
       "      <td>NaN</td>\n",
       "      <td>NaN</td>\n",
       "      <td>NaN</td>\n",
       "      <td>NaN</td>\n",
       "      <td>NaN</td>\n",
       "      <td>NaN</td>\n",
       "      <td>NaN</td>\n",
       "      <td>NaN</td>\n",
       "      <td>NaN</td>\n",
       "      <td>NaN</td>\n",
       "      <td>NaN</td>\n",
       "      <td>NaN</td>\n",
       "      <td>NaN</td>\n",
       "      <td>NaN</td>\n",
       "      <td>NaN</td>\n",
       "      <td>NaN</td>\n",
       "      <td>NaN</td>\n",
       "      <td>NaN</td>\n",
       "      <td>NaN</td>\n",
       "      <td>NaN</td>\n",
       "      <td>NaN</td>\n",
       "      <td>NaN</td>\n",
       "      <td>NaN</td>\n",
       "      <td>NaN</td>\n",
       "      <td>NaN</td>\n",
       "      <td>NaN</td>\n",
       "      <td>NaN</td>\n",
       "      <td>NaN</td>\n",
       "      <td>0</td>\n",
       "      <td>No</td>\n",
       "      <td>NaN</td>\n",
       "      <td>NaN</td>\n",
       "      <td>NaN</td>\n",
       "    </tr>\n",
       "    <tr>\n",
       "      <td>2</td>\n",
       "      <td>KAN/2015/001/228</td>\n",
       "      <td>31-35</td>\n",
       "      <td>No Response</td>\n",
       "      <td>Self Employed</td>\n",
       "      <td>Bachelor's Decree</td>\n",
       "      <td>Below N50,000</td>\n",
       "      <td>Kano</td>\n",
       "      <td>Bank J</td>\n",
       "      <td>2.0</td>\n",
       "      <td>Bank B</td>\n",
       "      <td>NaN</td>\n",
       "      <td>NaN</td>\n",
       "      <td>NaN</td>\n",
       "      <td>NaN</td>\n",
       "      <td>NaN</td>\n",
       "      <td>NaN</td>\n",
       "      <td>Monthly</td>\n",
       "      <td>Monthly</td>\n",
       "      <td>Never</td>\n",
       "      <td>Never</td>\n",
       "      <td>Never</td>\n",
       "      <td>At Least once a day</td>\n",
       "      <td>Never</td>\n",
       "      <td>Bank J</td>\n",
       "      <td>NaN</td>\n",
       "      <td>NaN</td>\n",
       "      <td>NaN</td>\n",
       "      <td>NaN</td>\n",
       "      <td>NaN</td>\n",
       "      <td>NaN</td>\n",
       "      <td>NaN</td>\n",
       "      <td>NaN</td>\n",
       "      <td>ATM</td>\n",
       "      <td>Branch</td>\n",
       "      <td>ATM</td>\n",
       "      <td>ATM</td>\n",
       "      <td>No Response</td>\n",
       "      <td>ATM</td>\n",
       "      <td>No Response</td>\n",
       "      <td>Branch</td>\n",
       "      <td>No Response</td>\n",
       "      <td>Branch</td>\n",
       "      <td>Branch</td>\n",
       "      <td>Internet/Mobile Banking</td>\n",
       "      <td>Internet/Mobile Banking</td>\n",
       "      <td>Branch</td>\n",
       "      <td>Internet/Mobile Banking</td>\n",
       "      <td>Branch</td>\n",
       "      <td>Branch</td>\n",
       "      <td>Branch</td>\n",
       "      <td>6.0</td>\n",
       "      <td>6.0</td>\n",
       "      <td>6.0</td>\n",
       "      <td>7.0</td>\n",
       "      <td>5.0</td>\n",
       "      <td>5.0</td>\n",
       "      <td>6.0</td>\n",
       "      <td>5.0</td>\n",
       "      <td>6.0</td>\n",
       "      <td>5.0</td>\n",
       "      <td>8.0</td>\n",
       "      <td>5.0</td>\n",
       "      <td>3.0</td>\n",
       "      <td>4.0</td>\n",
       "      <td>10.0</td>\n",
       "      <td>5.0</td>\n",
       "      <td>6.0</td>\n",
       "      <td>7.0</td>\n",
       "      <td>3.0</td>\n",
       "      <td>6.0</td>\n",
       "      <td>10.0</td>\n",
       "      <td>5.0</td>\n",
       "      <td>10.0</td>\n",
       "      <td>3.0</td>\n",
       "      <td>10.0</td>\n",
       "      <td>7.0</td>\n",
       "      <td>6.0</td>\n",
       "      <td>7.0</td>\n",
       "      <td>5.0</td>\n",
       "      <td>5.0</td>\n",
       "      <td>5.0</td>\n",
       "      <td>7.0</td>\n",
       "      <td>NaN</td>\n",
       "      <td>NaN</td>\n",
       "      <td>NaN</td>\n",
       "      <td>NaN</td>\n",
       "      <td>NaN</td>\n",
       "      <td>NaN</td>\n",
       "      <td>NaN</td>\n",
       "      <td>NaN</td>\n",
       "      <td>NaN</td>\n",
       "      <td>NaN</td>\n",
       "      <td>NaN</td>\n",
       "      <td>NaN</td>\n",
       "      <td>NaN</td>\n",
       "      <td>NaN</td>\n",
       "      <td>NaN</td>\n",
       "      <td>NaN</td>\n",
       "      <td>NaN</td>\n",
       "      <td>NaN</td>\n",
       "      <td>NaN</td>\n",
       "      <td>NaN</td>\n",
       "      <td>NaN</td>\n",
       "      <td>NaN</td>\n",
       "      <td>NaN</td>\n",
       "      <td>NaN</td>\n",
       "      <td>NaN</td>\n",
       "      <td>NaN</td>\n",
       "      <td>NaN</td>\n",
       "      <td>NaN</td>\n",
       "      <td>NaN</td>\n",
       "      <td>NaN</td>\n",
       "      <td>NaN</td>\n",
       "      <td>NaN</td>\n",
       "      <td>NaN</td>\n",
       "      <td>NaN</td>\n",
       "      <td>10.0</td>\n",
       "      <td>7.0</td>\n",
       "      <td>6.0</td>\n",
       "      <td>5.0</td>\n",
       "      <td>5.0</td>\n",
       "      <td>7.0</td>\n",
       "      <td>NaN</td>\n",
       "      <td>NaN</td>\n",
       "      <td>10.0</td>\n",
       "      <td>7.0</td>\n",
       "      <td>10.0</td>\n",
       "      <td>5.0</td>\n",
       "      <td>5.0</td>\n",
       "      <td>7.0</td>\n",
       "      <td>5.0</td>\n",
       "      <td>5.0</td>\n",
       "      <td>NaN</td>\n",
       "      <td>NaN</td>\n",
       "      <td>NaN</td>\n",
       "      <td>NaN</td>\n",
       "      <td>NaN</td>\n",
       "      <td>NaN</td>\n",
       "      <td>Yes</td>\n",
       "      <td>NaN</td>\n",
       "      <td>NaN</td>\n",
       "      <td>NaN</td>\n",
       "      <td>NaN</td>\n",
       "      <td>NaN</td>\n",
       "      <td>Yes</td>\n",
       "      <td>NaN</td>\n",
       "      <td>NaN</td>\n",
       "      <td>Absolutely will</td>\n",
       "      <td>No</td>\n",
       "      <td>NaN</td>\n",
       "      <td>NaN</td>\n",
       "      <td>NaN</td>\n",
       "    </tr>\n",
       "    <tr>\n",
       "      <td>3</td>\n",
       "      <td>KAN/2015/001/228</td>\n",
       "      <td>31-35</td>\n",
       "      <td>No Response</td>\n",
       "      <td>Self Employed</td>\n",
       "      <td>Bachelor's Decree</td>\n",
       "      <td>Below N50,000</td>\n",
       "      <td>Kano</td>\n",
       "      <td>Bank B</td>\n",
       "      <td>NaN</td>\n",
       "      <td>Bank B</td>\n",
       "      <td>NaN</td>\n",
       "      <td>NaN</td>\n",
       "      <td>NaN</td>\n",
       "      <td>NaN</td>\n",
       "      <td>NaN</td>\n",
       "      <td>NaN</td>\n",
       "      <td>Monthly</td>\n",
       "      <td>Monthly</td>\n",
       "      <td>Never</td>\n",
       "      <td>Never</td>\n",
       "      <td>Never</td>\n",
       "      <td>At Least once a day</td>\n",
       "      <td>Never</td>\n",
       "      <td>Bank J</td>\n",
       "      <td>NaN</td>\n",
       "      <td>NaN</td>\n",
       "      <td>NaN</td>\n",
       "      <td>NaN</td>\n",
       "      <td>NaN</td>\n",
       "      <td>NaN</td>\n",
       "      <td>NaN</td>\n",
       "      <td>NaN</td>\n",
       "      <td>ATM</td>\n",
       "      <td>Branch</td>\n",
       "      <td>ATM</td>\n",
       "      <td>ATM</td>\n",
       "      <td>No Response</td>\n",
       "      <td>ATM</td>\n",
       "      <td>No Response</td>\n",
       "      <td>Branch</td>\n",
       "      <td>No Response</td>\n",
       "      <td>Branch</td>\n",
       "      <td>Branch</td>\n",
       "      <td>Internet/Mobile Banking</td>\n",
       "      <td>Internet/Mobile Banking</td>\n",
       "      <td>Branch</td>\n",
       "      <td>Internet/Mobile Banking</td>\n",
       "      <td>Branch</td>\n",
       "      <td>Branch</td>\n",
       "      <td>Branch</td>\n",
       "      <td>6.0</td>\n",
       "      <td>4.0</td>\n",
       "      <td>6.0</td>\n",
       "      <td>5.0</td>\n",
       "      <td>5.0</td>\n",
       "      <td>5.0</td>\n",
       "      <td>6.0</td>\n",
       "      <td>4.0</td>\n",
       "      <td>6.0</td>\n",
       "      <td>3.0</td>\n",
       "      <td>8.0</td>\n",
       "      <td>4.0</td>\n",
       "      <td>3.0</td>\n",
       "      <td>4.0</td>\n",
       "      <td>10.0</td>\n",
       "      <td>2.0</td>\n",
       "      <td>6.0</td>\n",
       "      <td>2.0</td>\n",
       "      <td>3.0</td>\n",
       "      <td>5.0</td>\n",
       "      <td>10.0</td>\n",
       "      <td>4.0</td>\n",
       "      <td>10.0</td>\n",
       "      <td>2.0</td>\n",
       "      <td>10.0</td>\n",
       "      <td>5.0</td>\n",
       "      <td>6.0</td>\n",
       "      <td>5.0</td>\n",
       "      <td>5.0</td>\n",
       "      <td>4.0</td>\n",
       "      <td>5.0</td>\n",
       "      <td>3.0</td>\n",
       "      <td>NaN</td>\n",
       "      <td>NaN</td>\n",
       "      <td>NaN</td>\n",
       "      <td>NaN</td>\n",
       "      <td>NaN</td>\n",
       "      <td>NaN</td>\n",
       "      <td>NaN</td>\n",
       "      <td>NaN</td>\n",
       "      <td>NaN</td>\n",
       "      <td>NaN</td>\n",
       "      <td>NaN</td>\n",
       "      <td>NaN</td>\n",
       "      <td>NaN</td>\n",
       "      <td>NaN</td>\n",
       "      <td>NaN</td>\n",
       "      <td>NaN</td>\n",
       "      <td>NaN</td>\n",
       "      <td>NaN</td>\n",
       "      <td>NaN</td>\n",
       "      <td>NaN</td>\n",
       "      <td>NaN</td>\n",
       "      <td>NaN</td>\n",
       "      <td>NaN</td>\n",
       "      <td>NaN</td>\n",
       "      <td>NaN</td>\n",
       "      <td>NaN</td>\n",
       "      <td>NaN</td>\n",
       "      <td>NaN</td>\n",
       "      <td>NaN</td>\n",
       "      <td>NaN</td>\n",
       "      <td>NaN</td>\n",
       "      <td>NaN</td>\n",
       "      <td>NaN</td>\n",
       "      <td>NaN</td>\n",
       "      <td>10.0</td>\n",
       "      <td>7.0</td>\n",
       "      <td>6.0</td>\n",
       "      <td>5.0</td>\n",
       "      <td>5.0</td>\n",
       "      <td>5.0</td>\n",
       "      <td>NaN</td>\n",
       "      <td>NaN</td>\n",
       "      <td>10.0</td>\n",
       "      <td>5.0</td>\n",
       "      <td>10.0</td>\n",
       "      <td>5.0</td>\n",
       "      <td>5.0</td>\n",
       "      <td>5.0</td>\n",
       "      <td>5.0</td>\n",
       "      <td>3.0</td>\n",
       "      <td>NaN</td>\n",
       "      <td>NaN</td>\n",
       "      <td>NaN</td>\n",
       "      <td>NaN</td>\n",
       "      <td>NaN</td>\n",
       "      <td>NaN</td>\n",
       "      <td>Yes</td>\n",
       "      <td>NaN</td>\n",
       "      <td>NaN</td>\n",
       "      <td>NaN</td>\n",
       "      <td>NaN</td>\n",
       "      <td>NaN</td>\n",
       "      <td>Yes</td>\n",
       "      <td>NaN</td>\n",
       "      <td>NaN</td>\n",
       "      <td>Often will</td>\n",
       "      <td>No</td>\n",
       "      <td>NaN</td>\n",
       "      <td>NaN</td>\n",
       "      <td>NaN</td>\n",
       "    </tr>\n",
       "    <tr>\n",
       "      <td>4</td>\n",
       "      <td>KAN/2015/04/061</td>\n",
       "      <td>21-30</td>\n",
       "      <td>Male</td>\n",
       "      <td>Private Sector Employee</td>\n",
       "      <td>Bachelor's Decree</td>\n",
       "      <td>Below N50,000</td>\n",
       "      <td>Kano</td>\n",
       "      <td>Bank C</td>\n",
       "      <td>5.0</td>\n",
       "      <td>Bank C</td>\n",
       "      <td>Yes</td>\n",
       "      <td>Yes</td>\n",
       "      <td>NaN</td>\n",
       "      <td>NaN</td>\n",
       "      <td>NaN</td>\n",
       "      <td>Yes</td>\n",
       "      <td>Monthly</td>\n",
       "      <td>At least once a week</td>\n",
       "      <td>Rarely</td>\n",
       "      <td>Rarely</td>\n",
       "      <td>Rarely</td>\n",
       "      <td>Rarely</td>\n",
       "      <td>Never</td>\n",
       "      <td>Bank C</td>\n",
       "      <td>Yes</td>\n",
       "      <td>NaN</td>\n",
       "      <td>NaN</td>\n",
       "      <td>NaN</td>\n",
       "      <td>NaN</td>\n",
       "      <td>NaN</td>\n",
       "      <td>NaN</td>\n",
       "      <td>Yes</td>\n",
       "      <td>ATM</td>\n",
       "      <td>Branch</td>\n",
       "      <td>Branch</td>\n",
       "      <td>ATM</td>\n",
       "      <td>Branch</td>\n",
       "      <td>Branch</td>\n",
       "      <td>Branch</td>\n",
       "      <td>Branch</td>\n",
       "      <td>Branch</td>\n",
       "      <td>ATM</td>\n",
       "      <td>Branch</td>\n",
       "      <td>ATM</td>\n",
       "      <td>ATM</td>\n",
       "      <td>Internet/Mobile Banking</td>\n",
       "      <td>No Response</td>\n",
       "      <td>Branch</td>\n",
       "      <td>Internet/Mobile Banking</td>\n",
       "      <td>Internet/Mobile Banking</td>\n",
       "      <td>8.0</td>\n",
       "      <td>5.0</td>\n",
       "      <td>8.0</td>\n",
       "      <td>5.0</td>\n",
       "      <td>8.0</td>\n",
       "      <td>5.0</td>\n",
       "      <td>7.0</td>\n",
       "      <td>4.0</td>\n",
       "      <td>7.0</td>\n",
       "      <td>4.0</td>\n",
       "      <td>6.0</td>\n",
       "      <td>4.0</td>\n",
       "      <td>5.0</td>\n",
       "      <td>4.0</td>\n",
       "      <td>10.0</td>\n",
       "      <td>4.0</td>\n",
       "      <td>10.0</td>\n",
       "      <td>4.0</td>\n",
       "      <td>10.0</td>\n",
       "      <td>4.0</td>\n",
       "      <td>10.0</td>\n",
       "      <td>4.0</td>\n",
       "      <td>10.0</td>\n",
       "      <td>4.0</td>\n",
       "      <td>10.0</td>\n",
       "      <td>4.0</td>\n",
       "      <td>10.0</td>\n",
       "      <td>4.0</td>\n",
       "      <td>10.0</td>\n",
       "      <td>4.0</td>\n",
       "      <td>10.0</td>\n",
       "      <td>4.0</td>\n",
       "      <td>10.0</td>\n",
       "      <td>4.0</td>\n",
       "      <td>10.0</td>\n",
       "      <td>4.0</td>\n",
       "      <td>10.0</td>\n",
       "      <td>4.0</td>\n",
       "      <td>10.0</td>\n",
       "      <td>4.0</td>\n",
       "      <td>10.0</td>\n",
       "      <td>4.0</td>\n",
       "      <td>10.0</td>\n",
       "      <td>4.0</td>\n",
       "      <td>10.0</td>\n",
       "      <td>4.0</td>\n",
       "      <td>10.0</td>\n",
       "      <td>4.0</td>\n",
       "      <td>10.0</td>\n",
       "      <td>4.0</td>\n",
       "      <td>10.0</td>\n",
       "      <td>4.0</td>\n",
       "      <td>10.0</td>\n",
       "      <td>4.0</td>\n",
       "      <td>10.0</td>\n",
       "      <td>4.0</td>\n",
       "      <td>NaN</td>\n",
       "      <td>NaN</td>\n",
       "      <td>NaN</td>\n",
       "      <td>NaN</td>\n",
       "      <td>NaN</td>\n",
       "      <td>NaN</td>\n",
       "      <td>7.0</td>\n",
       "      <td>4.0</td>\n",
       "      <td>6.0</td>\n",
       "      <td>4.0</td>\n",
       "      <td>6.0</td>\n",
       "      <td>4.0</td>\n",
       "      <td>6.0</td>\n",
       "      <td>4.0</td>\n",
       "      <td>6.0</td>\n",
       "      <td>4.0</td>\n",
       "      <td>6.0</td>\n",
       "      <td>4.0</td>\n",
       "      <td>7.0</td>\n",
       "      <td>4.0</td>\n",
       "      <td>7.0</td>\n",
       "      <td>4.0</td>\n",
       "      <td>7.0</td>\n",
       "      <td>4.0</td>\n",
       "      <td>7.0</td>\n",
       "      <td>4.0</td>\n",
       "      <td>7.0</td>\n",
       "      <td>4.0</td>\n",
       "      <td>6.0</td>\n",
       "      <td>4.0</td>\n",
       "      <td>7.0</td>\n",
       "      <td>4.0</td>\n",
       "      <td>Yes</td>\n",
       "      <td>NaN</td>\n",
       "      <td>NaN</td>\n",
       "      <td>NaN</td>\n",
       "      <td>Yes</td>\n",
       "      <td>NaN</td>\n",
       "      <td>Yes</td>\n",
       "      <td>NaN</td>\n",
       "      <td>NaN</td>\n",
       "      <td>Often will</td>\n",
       "      <td>No</td>\n",
       "      <td>NaN</td>\n",
       "      <td>NaN</td>\n",
       "      <td>NaN</td>\n",
       "    </tr>\n",
       "  </tbody>\n",
       "</table>\n",
       "</div>"
      ],
      "text/plain": [
       "           Quest No    Age       Gender      Employment Category  \\\n",
       "0  ABJ/2015/002/196  31-35  No Response     Civil/Public Servant   \n",
       "1  ABJ/2015/002/196  31-35  No Response     Civil/Public Servant   \n",
       "2  KAN/2015/001/228  31-35  No Response            Self Employed   \n",
       "3  KAN/2015/001/228  31-35  No Response            Self Employed   \n",
       "4   KAN/2015/04/061  21-30         Male  Private Sector Employee   \n",
       "\n",
       "           Education              Income Location    Bank  No of Years   \\\n",
       "0            OND/HND  N50,000 - N100,000    Abuja  Bank A          12.0   \n",
       "1            OND/HND  N50,000 - N100,000    Abuja  Bank M           6.0   \n",
       "2  Bachelor's Decree       Below N50,000     Kano  Bank J           2.0   \n",
       "3  Bachelor's Decree       Below N50,000     Kano  Bank B           NaN   \n",
       "4  Bachelor's Decree       Below N50,000     Kano  Bank C           5.0   \n",
       "\n",
       "  Most frequently used Bank RatQOS RatFS RatIR RatERSA RatPOBR RatRFF  \\\n",
       "0                    Bank A    Yes   NaN   NaN     NaN     NaN    NaN   \n",
       "1                    Bank A    NaN   NaN   NaN     NaN     Yes    NaN   \n",
       "2                    Bank B    NaN   NaN   NaN     NaN     NaN    NaN   \n",
       "3                    Bank B    NaN   NaN   NaN     NaN     NaN    NaN   \n",
       "4                    Bank C    Yes   Yes   NaN     NaN     NaN    Yes   \n",
       "\n",
       "   FreqBra               FreqATM FreqPOS FreqInt FreqMob             FreqUSSD  \\\n",
       "0   Rarely               Monthly   Never   Never   Never                Never   \n",
       "1   Rarely               Monthly   Never   Never   Never                Never   \n",
       "2  Monthly               Monthly   Never   Never   Never  At Least once a day   \n",
       "3  Monthly               Monthly   Never   Never   Never  At Least once a day   \n",
       "4  Monthly  At least once a week  Rarely  Rarely  Rarely               Rarely   \n",
       "\n",
       "  FreqTel MostfreqATM ATMproximity ATMqon ATMsecurity ATMros Device1 Device2  \\\n",
       "0   Never      Bank A          NaN    NaN         NaN    Yes     NaN     NaN   \n",
       "1   Never      Bank A          NaN    NaN         NaN    Yes     NaN     NaN   \n",
       "2   Never      Bank J          NaN    NaN         NaN    NaN     NaN     NaN   \n",
       "3   Never      Bank J          NaN    NaN         NaN    NaN     NaN     NaN   \n",
       "4   Never      Bank C          Yes    NaN         NaN    NaN     NaN     NaN   \n",
       "\n",
       "  Device3 Device4 Cshwit  Cshdep  Fndtrf Balenq       Mkgcmp  Mkgpay  \\\n",
       "0     NaN     NaN    ATM  Branch     ATM    ATM       Branch  Branch   \n",
       "1     NaN     NaN    ATM  Branch     ATM    ATM       Branch  Branch   \n",
       "2     NaN     NaN    ATM  Branch     ATM    ATM  No Response     ATM   \n",
       "3     NaN     NaN    ATM  Branch     ATM    ATM  No Response     ATM   \n",
       "4     NaN     Yes    ATM  Branch  Branch    ATM       Branch  Branch   \n",
       "\n",
       "        Gtloan  Gtfnad       Bkfxdp Cshwit2 Cshdep2                  Fndtrf2  \\\n",
       "0  No Response  Branch  No Response     ATM  Branch                      ATM   \n",
       "1  No Response  Branch  No Response     ATM  Branch                      ATM   \n",
       "2  No Response  Branch  No Response  Branch  Branch  Internet/Mobile Banking   \n",
       "3  No Response  Branch  No Response  Branch  Branch  Internet/Mobile Banking   \n",
       "4       Branch  Branch       Branch     ATM  Branch                      ATM   \n",
       "\n",
       "                   Balenq2                  mkgcmp2                  Mkgpay2  \\\n",
       "0                      ATM                   Branch                      POS   \n",
       "1                      ATM                   Branch                      POS   \n",
       "2  Internet/Mobile Banking                   Branch  Internet/Mobile Banking   \n",
       "3  Internet/Mobile Banking                   Branch  Internet/Mobile Banking   \n",
       "4                      ATM  Internet/Mobile Banking              No Response   \n",
       "\n",
       "  Gtloan2                  Gtfnad2                  Bkfxdp2  impcc1a  cc1a  \\\n",
       "0  Branch                   Branch                   Branch      9.0   5.0   \n",
       "1  Branch                   Branch                   Branch      NaN   NaN   \n",
       "2  Branch                   Branch                   Branch      6.0   6.0   \n",
       "3  Branch                   Branch                   Branch      6.0   4.0   \n",
       "4  Branch  Internet/Mobile Banking  Internet/Mobile Banking      8.0   5.0   \n",
       "\n",
       "   impcc1b  cc1b  impcc2  cc2  impcc3  cc3  impcc4  cc4  impcc4b  cc4b  \\\n",
       "0      9.0   5.0     9.0  4.0     9.0  5.0     9.0  5.0     10.0   5.0   \n",
       "1      NaN   NaN     NaN  NaN     NaN  NaN     NaN  NaN      NaN   NaN   \n",
       "2      6.0   7.0     5.0  5.0     6.0  5.0     6.0  5.0      8.0   5.0   \n",
       "3      6.0   5.0     5.0  5.0     6.0  4.0     6.0  3.0      8.0   4.0   \n",
       "4      8.0   5.0     8.0  5.0     7.0  4.0     7.0  4.0      6.0   4.0   \n",
       "\n",
       "   qosbrn1i  qosbrn1  qosbrn2i  qosbrn2  qosbrn3i  qosbrn3  tat1i  tat1  \\\n",
       "0       9.0      5.0      10.0      3.0      10.0      5.0   10.0   5.0   \n",
       "1       NaN      NaN       NaN      NaN       NaN      NaN    NaN   NaN   \n",
       "2       3.0      4.0      10.0      5.0       6.0      7.0    3.0   6.0   \n",
       "3       3.0      4.0      10.0      2.0       6.0      2.0    3.0   5.0   \n",
       "4       5.0      4.0      10.0      4.0      10.0      4.0   10.0   4.0   \n",
       "\n",
       "   tat2i  tat2  tat3i  tat3  qosatm1  qosatm1i  qosatm2i  qosatm2  qosatm3i  \\\n",
       "0   10.0   5.0   10.0   4.0     10.0       4.0      10.0      4.0      10.0   \n",
       "1    NaN   NaN    NaN   NaN      NaN       NaN       NaN      NaN       NaN   \n",
       "2   10.0   5.0   10.0   3.0     10.0       7.0       6.0      7.0       5.0   \n",
       "3   10.0   4.0   10.0   2.0     10.0       5.0       6.0      5.0       5.0   \n",
       "4   10.0   4.0   10.0   4.0     10.0       4.0      10.0      4.0      10.0   \n",
       "\n",
       "   qosatm3  qosatm4i  qosatm4  qosmob1i  qosmob1  qosmob2i  qosmob2  qosmob3i  \\\n",
       "0      4.0      10.0      5.0       NaN      NaN       NaN      NaN       NaN   \n",
       "1      NaN       NaN      NaN       NaN      NaN       NaN      NaN       NaN   \n",
       "2      5.0       5.0      7.0       NaN      NaN       NaN      NaN       NaN   \n",
       "3      4.0       5.0      3.0       NaN      NaN       NaN      NaN       NaN   \n",
       "4      4.0      10.0      4.0      10.0      4.0      10.0      4.0      10.0   \n",
       "\n",
       "   qosmob3  qosmob4i  qosmob4  qosmob5i  qosmob5  qosmob6i  qosmob6  qosint1i  \\\n",
       "0      NaN       NaN      NaN       NaN      NaN       NaN      NaN       NaN   \n",
       "1      NaN       NaN      NaN       NaN      NaN       NaN      NaN       NaN   \n",
       "2      NaN       NaN      NaN       NaN      NaN       NaN      NaN       NaN   \n",
       "3      NaN       NaN      NaN       NaN      NaN       NaN      NaN       NaN   \n",
       "4      4.0      10.0      4.0      10.0      4.0      10.0      4.0      10.0   \n",
       "\n",
       "   qosint1  qosint2i  qosint2  qosint3i  qosint3  qosint4i  qosint4  qosint5i  \\\n",
       "0      NaN       NaN      NaN       NaN      NaN       NaN      NaN       NaN   \n",
       "1      NaN       NaN      NaN       NaN      NaN       NaN      NaN       NaN   \n",
       "2      NaN       NaN      NaN       NaN      NaN       NaN      NaN       NaN   \n",
       "3      NaN       NaN      NaN       NaN      NaN       NaN      NaN       NaN   \n",
       "4      4.0      10.0      4.0      10.0      4.0      10.0      4.0      10.0   \n",
       "\n",
       "   qosint5  qosint6i  qosint6  qoscct1i  qoscct1  qoscct2i  qoscct2  qoscct3i  \\\n",
       "0      NaN       NaN      NaN       NaN      NaN       NaN      NaN       NaN   \n",
       "1      NaN       NaN      NaN       NaN      NaN       NaN      NaN       NaN   \n",
       "2      NaN       NaN      NaN       NaN      NaN       NaN      NaN       NaN   \n",
       "3      NaN       NaN      NaN       NaN      NaN       NaN      NaN       NaN   \n",
       "4      4.0      10.0      4.0       NaN      NaN       NaN      NaN       NaN   \n",
       "\n",
       "   qoscct3  qossm1i  qossm1  qossm2i  qossm2  qoscad1i  qoscad1  qoscad2i  \\\n",
       "0      NaN      NaN     NaN      NaN     NaN      10.0      5.0      10.0   \n",
       "1      NaN      NaN     NaN      NaN     NaN       NaN      NaN       NaN   \n",
       "2      NaN      NaN     NaN      NaN     NaN      10.0      7.0       6.0   \n",
       "3      NaN      NaN     NaN      NaN     NaN      10.0      7.0       6.0   \n",
       "4      NaN      7.0     4.0      6.0     4.0       6.0      4.0       6.0   \n",
       "\n",
       "   qoscad2  qoscad3i  qoscad3  qoscad4i  qoscad4  acci  acc  infi  inf  prd1i  \\\n",
       "0      5.0      10.0      5.0       NaN      NaN  10.0  5.0  10.0  5.0    9.0   \n",
       "1      NaN       NaN      NaN       NaN      NaN   NaN  NaN   NaN  NaN    NaN   \n",
       "2      5.0       5.0      7.0       NaN      NaN  10.0  7.0  10.0  5.0    5.0   \n",
       "3      5.0       5.0      5.0       NaN      NaN  10.0  5.0  10.0  5.0    5.0   \n",
       "4      4.0       6.0      4.0       6.0      4.0   7.0  4.0   7.0  4.0    7.0   \n",
       "\n",
       "   prd1  prd2i  prd2  eas1i  eas1  eas2i  eas2  qosci  qosc Payuticash  \\\n",
       "0   4.0   10.0   5.0    NaN   NaN    NaN   NaN   10.0   5.0        NaN   \n",
       "1   NaN    NaN   NaN    NaN   NaN    NaN   NaN    NaN   NaN        NaN   \n",
       "2   7.0    5.0   5.0    NaN   NaN    NaN   NaN    NaN   NaN        Yes   \n",
       "3   5.0    5.0   3.0    NaN   NaN    NaN   NaN    NaN   NaN        Yes   \n",
       "4   4.0    7.0   4.0    7.0   4.0    6.0   4.0    7.0   4.0        Yes   \n",
       "\n",
       "  Payintcash Paycabcash Payuti Payint Paycab Mig1 Mig2 Mig3              Rec  \\\n",
       "0        NaN        NaN    NaN    NaN    NaN  NaN  NaN  NaN   Sometimes will   \n",
       "1        NaN        NaN    NaN    NaN    NaN  NaN  NaN  NaN                0   \n",
       "2        NaN        NaN    NaN    NaN    NaN  Yes  NaN  NaN  Absolutely will   \n",
       "3        NaN        NaN    NaN    NaN    NaN  Yes  NaN  NaN       Often will   \n",
       "4        NaN        NaN    NaN    Yes    NaN  Yes  NaN  NaN       Often will   \n",
       "\n",
       "  Changeplan FromBank ToBank ChangeReasons  \n",
       "0         No      NaN    NaN           NaN  \n",
       "1         No      NaN    NaN           NaN  \n",
       "2         No      NaN    NaN           NaN  \n",
       "3         No      NaN    NaN           NaN  \n",
       "4         No      NaN    NaN           NaN  "
      ]
     },
     "execution_count": 19,
     "metadata": {},
     "output_type": "execute_result"
    }
   ],
   "source": [
    "data.head()"
   ]
  },
  {
   "cell_type": "code",
   "execution_count": 20,
   "metadata": {},
   "outputs": [
    {
     "data": {
      "text/plain": [
       "No     38100\n",
       "Yes     4552\n",
       "Name: Changeplan, dtype: int64"
      ]
     },
     "execution_count": 20,
     "metadata": {},
     "output_type": "execute_result"
    }
   ],
   "source": [
    "data['Changeplan'].value_counts()"
   ]
  },
  {
   "cell_type": "code",
   "execution_count": 17,
   "metadata": {},
   "outputs": [
    {
     "data": {
      "text/plain": [
       "'\\n\\nThe Changeplan column is about - whether the customer have plans to change Bank in the next 1-3 months\\n\\n'"
      ]
     },
     "execution_count": 17,
     "metadata": {},
     "output_type": "execute_result"
    }
   ],
   "source": [
    "'''\n",
    "\n",
    "The Changeplan column is about - whether the customer have plans to change Bank in the next 1-3 months\n",
    "\n",
    "'''"
   ]
  },
  {
   "cell_type": "code",
   "execution_count": 21,
   "metadata": {},
   "outputs": [
    {
     "data": {
      "text/plain": [
       "array(['Sometimes will', '0', 'Absolutely will', 'Often will',\n",
       "       'No Response', 'Absolutely will not', nan], dtype=object)"
      ]
     },
     "execution_count": 21,
     "metadata": {},
     "output_type": "execute_result"
    }
   ],
   "source": [
    "# recommendations - whether they will recommend their current bank or not\n",
    "data['Rec'].unique()"
   ]
  },
  {
   "cell_type": "code",
   "execution_count": 22,
   "metadata": {},
   "outputs": [
    {
     "data": {
      "text/plain": [
       "Bank L    395\n",
       "Bank A    276\n",
       "Bank B    242\n",
       "Bank D    219\n",
       "Bank H    207\n",
       "Bank C    196\n",
       "Bank F    129\n",
       "Bank I     75\n",
       "Bank G     73\n",
       "Bank O     69\n",
       "Bank J     69\n",
       "Bank N     58\n",
       "Bank E     52\n",
       "Bank Q     44\n",
       "Bank K     38\n",
       "Bank P     34\n",
       "Bank M     34\n",
       "Name: Bank, dtype: int64"
      ]
     },
     "execution_count": 22,
     "metadata": {},
     "output_type": "execute_result"
    }
   ],
   "source": [
    "# Absolutely not recommended banks - how many have not recomended them\n",
    "data[data['Rec']=='Absolutely will not']['Bank'].value_counts()"
   ]
  },
  {
   "cell_type": "code",
   "execution_count": 23,
   "metadata": {},
   "outputs": [
    {
     "data": {
      "text/plain": [
       "array(['ATM', 'Branch', 'Internet/Mobile Banking', 'Mobile payments',\n",
       "       'No Response', 'Video Banking', 'Call Center', 'POS',\n",
       "       'Socia Media', nan], dtype=object)"
      ]
     },
     "execution_count": 23,
     "metadata": {},
     "output_type": "execute_result"
    }
   ],
   "source": [
    "# cash withdrawl\n",
    "data['Cshwit2'].unique()"
   ]
  },
  {
   "cell_type": "code",
   "execution_count": 24,
   "metadata": {},
   "outputs": [
    {
     "data": {
      "text/plain": [
       "array(['Branch', 'ATM', 'No Response', 'Internet/Mobile Banking',\n",
       "       'Video Banking', 'POS', 'Socia Media', 'Mobile payments',\n",
       "       'Call Center', nan], dtype=object)"
      ]
     },
     "execution_count": 24,
     "metadata": {},
     "output_type": "execute_result"
    }
   ],
   "source": [
    "# Cash deposits\n",
    "data['Cshdep2'].unique()"
   ]
  },
  {
   "cell_type": "code",
   "execution_count": 25,
   "metadata": {},
   "outputs": [
    {
     "data": {
      "text/plain": [
       "27117"
      ]
     },
     "execution_count": 25,
     "metadata": {},
     "output_type": "execute_result"
    }
   ],
   "source": [
    "len(data['Quest No'].unique())"
   ]
  },
  {
   "cell_type": "code",
   "execution_count": 26,
   "metadata": {},
   "outputs": [
    {
     "data": {
      "text/plain": [
       "'we can observe that 42,653 customers were circulated 27,117 different questionnares.'"
      ]
     },
     "execution_count": 26,
     "metadata": {},
     "output_type": "execute_result"
    }
   ],
   "source": [
    "'''we can observe that 42,653 customers were circulated 27,117 different questionnares.'''"
   ]
  },
  {
   "cell_type": "code",
   "execution_count": 27,
   "metadata": {},
   "outputs": [],
   "source": [
    "#pd.set_option(\"display.max_rows\", 100000)"
   ]
  },
  {
   "cell_type": "code",
   "execution_count": 28,
   "metadata": {},
   "outputs": [
    {
     "data": {
      "text/plain": [
       "2152149"
      ]
     },
     "execution_count": 28,
     "metadata": {},
     "output_type": "execute_result"
    }
   ],
   "source": [
    "# null values\n",
    "data.isnull().sum().sum()"
   ]
  },
  {
   "cell_type": "markdown",
   "metadata": {},
   "source": [
    "###  Age column"
   ]
  },
  {
   "cell_type": "code",
   "execution_count": 29,
   "metadata": {},
   "outputs": [
    {
     "data": {
      "text/plain": [
       "count     42652\n",
       "unique        7\n",
       "top       21-30\n",
       "freq      16503\n",
       "Name: Age, dtype: object"
      ]
     },
     "execution_count": 29,
     "metadata": {},
     "output_type": "execute_result"
    }
   ],
   "source": [
    "data['Age'].describe()"
   ]
  },
  {
   "cell_type": "code",
   "execution_count": 30,
   "metadata": {},
   "outputs": [
    {
     "data": {
      "text/plain": [
       "array(['31-35', '21-30', '18-20', 'No Response', '36-40', '41-60',\n",
       "       'Above 60', nan], dtype=object)"
      ]
     },
     "execution_count": 30,
     "metadata": {},
     "output_type": "execute_result"
    }
   ],
   "source": [
    "# unique values\n",
    "data['Age'].unique()"
   ]
  },
  {
   "cell_type": "code",
   "execution_count": 31,
   "metadata": {},
   "outputs": [
    {
     "name": "stdout",
     "output_type": "stream",
     "text": [
      "25.5    16503\n",
      "33.0     9277\n",
      "38.0     5734\n",
      "50.5     5010\n",
      "19.0     4471\n",
      "65.0     1398\n",
      "Name: Age, dtype: int64\n",
      "<class 'pandas.core.frame.DataFrame'>\n",
      "RangeIndex: 42653 entries, 0 to 42652\n",
      "Data columns (total 1 columns):\n",
      "Age    42393 non-null float64\n",
      "dtypes: float64(1)\n",
      "memory usage: 333.4 KB\n"
     ]
    }
   ],
   "source": [
    "# replacing categorical age data to numerical(mean of each range)\n",
    "# prepare a dictionary of categorical to numerical mapping of values\n",
    "\n",
    "Age_new = {'Age' : {'18-20':19,'21-30':25.5,'31-35':33,'36-40':38,'41-60':50.5,'Above 60':65,'No Response':None}}\n",
    "data.replace(Age_new, inplace=True)\n",
    "print(data.Age.value_counts())\n",
    "data[['Age']].info()\n"
   ]
  },
  {
   "cell_type": "code",
   "execution_count": 32,
   "metadata": {},
   "outputs": [
    {
     "data": {
      "text/plain": [
       "260"
      ]
     },
     "execution_count": 32,
     "metadata": {},
     "output_type": "execute_result"
    }
   ],
   "source": [
    "# age column - missing values\n",
    "data['Age'].isnull().sum()"
   ]
  },
  {
   "cell_type": "code",
   "execution_count": null,
   "metadata": {},
   "outputs": [],
   "source": [
    "'''\n",
    "\n",
    "1. There is only one null value in the age column\n",
    "2.Most of the customers are between the age 21-30.\n",
    "3.The broad range of age for this customer data is 18-60 and above as well.\n",
    "\n",
    "'''"
   ]
  },
  {
   "cell_type": "markdown",
   "metadata": {},
   "source": [
    "### Income column"
   ]
  },
  {
   "cell_type": "code",
   "execution_count": 34,
   "metadata": {},
   "outputs": [
    {
     "data": {
      "text/plain": [
       "array(['N50,000 - N100,000', 'Below N50,000', 'No Response',\n",
       "       'N101,000 - N250,000', 'N251,000 - N500,000',\n",
       "       'N501,000 - N1 Million', 'Greater than N1 million', nan],\n",
       "      dtype=object)"
      ]
     },
     "execution_count": 34,
     "metadata": {},
     "output_type": "execute_result"
    }
   ],
   "source": [
    "data['Income'].unique()"
   ]
  },
  {
   "cell_type": "code",
   "execution_count": 35,
   "metadata": {},
   "outputs": [
    {
     "data": {
      "text/plain": [
       "count             42652\n",
       "unique                7\n",
       "top       Below N50,000\n",
       "freq              19042\n",
       "Name: Income, dtype: object"
      ]
     },
     "execution_count": 35,
     "metadata": {},
     "output_type": "execute_result"
    }
   ],
   "source": [
    "# income description\n",
    "data['Income'].describe()"
   ]
  },
  {
   "cell_type": "code",
   "execution_count": 36,
   "metadata": {},
   "outputs": [
    {
     "data": {
      "text/plain": [
       "1"
      ]
     },
     "execution_count": 36,
     "metadata": {},
     "output_type": "execute_result"
    }
   ],
   "source": [
    "# null values in Income\n",
    "data['Income'].isnull().sum()"
   ]
  },
  {
   "cell_type": "code",
   "execution_count": 37,
   "metadata": {},
   "outputs": [
    {
     "data": {
      "text/plain": [
       "270"
      ]
     },
     "execution_count": 37,
     "metadata": {},
     "output_type": "execute_result"
    }
   ],
   "source": [
    "len(data[data['Income']=='Greater than N1 million'])"
   ]
  },
  {
   "cell_type": "code",
   "execution_count": 38,
   "metadata": {},
   "outputs": [
    {
     "data": {
      "text/plain": [
       "Self Employed              141\n",
       "Private Sector Employee     51\n",
       "Student                     26\n",
       "Retired                     24\n",
       "Civil/Public Servant        19\n",
       "No Response                  4\n",
       "Others                       3\n",
       "Unemployed                   2\n",
       "Name: Employment Category, dtype: int64"
      ]
     },
     "execution_count": 38,
     "metadata": {},
     "output_type": "execute_result"
    }
   ],
   "source": [
    "data[data['Income']=='Greater than N1 million']['Employment Category'].value_counts()"
   ]
  },
  {
   "cell_type": "code",
   "execution_count": 39,
   "metadata": {},
   "outputs": [
    {
     "data": {
      "text/plain": [
       "Bank B    47\n",
       "Bank C    46\n",
       "Bank N    28\n",
       "Bank H    24\n",
       "Bank A    23\n",
       "Bank D    21\n",
       "Bank G    12\n",
       "Bank L    12\n",
       "Bank J    11\n",
       "Bank I    10\n",
       "Bank O     8\n",
       "Bank K     8\n",
       "Bank E     6\n",
       "Bank F     6\n",
       "Bank M     3\n",
       "Bank Q     2\n",
       "Bank P     1\n",
       "Name: Bank, dtype: int64"
      ]
     },
     "execution_count": 39,
     "metadata": {},
     "output_type": "execute_result"
    }
   ],
   "source": [
    "data[data['Income']=='Greater than N1 million']['Bank'].value_counts()"
   ]
  },
  {
   "cell_type": "code",
   "execution_count": 40,
   "metadata": {},
   "outputs": [
    {
     "data": {
      "text/plain": [
       "Bank B    53\n",
       "Bank C    50\n",
       "Bank N    28\n",
       "Bank G    17\n",
       "Bank A    14\n",
       "Bank I    14\n",
       "Bank D    14\n",
       "Bank H    13\n",
       "Bank J     9\n",
       "Bank K     8\n",
       "Bank M     6\n",
       "Bank O     6\n",
       "Bank E     4\n",
       "Bank L     3\n",
       "Bank F     3\n",
       "Bank P     1\n",
       "Name: Most frequently used Bank, dtype: int64"
      ]
     },
     "execution_count": 40,
     "metadata": {},
     "output_type": "execute_result"
    }
   ],
   "source": [
    "data[data['Income']=='Greater than N1 million']['Most frequently used Bank'].value_counts()"
   ]
  },
  {
   "cell_type": "code",
   "execution_count": 41,
   "metadata": {},
   "outputs": [],
   "source": [
    "# replacing Income data from categorical to numerical\n",
    "\n",
    "\n",
    "\n",
    "Income_new = {'Income' : {'N50,000 - N100,000':75000, 'Below N50,000':25000,\n",
    "                          'N101,000 - N250,000':175000, 'N251,000 - N500,000':375000,\n",
    "                          'N501,000 - N1 Million':750000, 'No Response':None, 'Greater than N1 million':1500000}}\n",
    "data.replace(Income_new, inplace=True)\n",
    "\n",
    "\n"
   ]
  },
  {
   "cell_type": "code",
   "execution_count": 42,
   "metadata": {},
   "outputs": [
    {
     "data": {
      "text/plain": [
       "25000.0      19042\n",
       "75000.0      13415\n",
       "175000.0      5995\n",
       "375000.0      1881\n",
       "750000.0       697\n",
       "1500000.0      270\n",
       "Name: Income, dtype: int64"
      ]
     },
     "execution_count": 42,
     "metadata": {},
     "output_type": "execute_result"
    }
   ],
   "source": [
    "data.Income.value_counts()"
   ]
  },
  {
   "cell_type": "code",
   "execution_count": null,
   "metadata": {},
   "outputs": [],
   "source": [
    "'''\n",
    "1.There are 6 distinct income groups that the customers can be divided into.\n",
    "2.Most of the customers have income ranging below N50,000.\n",
    "3.The highest income group of customers are the ones who are earning greater than 1million new zealand dollars, there\n",
    "are 270 such customers in total.\n",
    "4.Out of these high income group customers,53% of them are self employed , 19% are working as private sector employees,\n",
    "9% are students, 8% are retired,7% are civil/public servants.\n",
    "5.Most frequently used banks by this high income group are Bank B, Bank C.\n",
    "'''"
   ]
  },
  {
   "cell_type": "markdown",
   "metadata": {},
   "source": [
    "### location "
   ]
  },
  {
   "cell_type": "code",
   "execution_count": 43,
   "metadata": {},
   "outputs": [
    {
     "data": {
      "text/plain": [
       "count     42652\n",
       "unique       29\n",
       "top       Lagos\n",
       "freq      13618\n",
       "Name: Location, dtype: object"
      ]
     },
     "execution_count": 43,
     "metadata": {},
     "output_type": "execute_result"
    }
   ],
   "source": [
    "data['Location'].describe()"
   ]
  },
  {
   "cell_type": "code",
   "execution_count": 44,
   "metadata": {},
   "outputs": [
    {
     "data": {
      "text/plain": [
       "1"
      ]
     },
     "execution_count": 44,
     "metadata": {},
     "output_type": "execute_result"
    }
   ],
   "source": [
    "# null values\n",
    "data['Location'].isnull().sum()"
   ]
  },
  {
   "cell_type": "code",
   "execution_count": 45,
   "metadata": {},
   "outputs": [
    {
     "data": {
      "text/plain": [
       "array(['Abuja', 'Kano', 'Lagos', 'Abeokuta', 'Aba', 'Lokoja', 'Akure',\n",
       "       'Asaba', 'Ibadan', 'Benin', 'Bauchi', 'Calabar', 'Ado-Ekiti',\n",
       "       'Enugu', 'Ilorin', 'Minna', 'Jos', 'Kaduna', 'Katsina', nan,\n",
       "       'Makurdi', 'Nnewi', 'Nasarrawa', 'Onitsha', 'Osogbo', 'Owerri',\n",
       "       'Port Harcourt', 'Sokoto', 'Yola', 'Uyo'], dtype=object)"
      ]
     },
     "execution_count": 45,
     "metadata": {},
     "output_type": "execute_result"
    }
   ],
   "source": [
    "# unique locations of the customers\n",
    "data['Location'].unique()"
   ]
  },
  {
   "cell_type": "markdown",
   "metadata": {},
   "source": [
    "### Education"
   ]
  },
  {
   "cell_type": "code",
   "execution_count": 46,
   "metadata": {},
   "outputs": [
    {
     "data": {
      "text/plain": [
       "count                 42652\n",
       "unique                    9\n",
       "top       Bachelor's Decree\n",
       "freq                  17163\n",
       "Name: Education, dtype: object"
      ]
     },
     "execution_count": 46,
     "metadata": {},
     "output_type": "execute_result"
    }
   ],
   "source": [
    "data['Education'].describe()"
   ]
  },
  {
   "cell_type": "code",
   "execution_count": 47,
   "metadata": {},
   "outputs": [
    {
     "data": {
      "text/plain": [
       "array(['OND/HND', \"Bachelor's Decree\",\n",
       "       'Secondary school leaving certificate', 'No Response',\n",
       "       \"Master's Degree\", 'Primary School leaving certificate', 'Others',\n",
       "       'No Formal Education', 'PHD', nan], dtype=object)"
      ]
     },
     "execution_count": 47,
     "metadata": {},
     "output_type": "execute_result"
    }
   ],
   "source": [
    "# unique education degrees the customers have\n",
    "data['Education'].unique()"
   ]
  },
  {
   "cell_type": "code",
   "execution_count": 48,
   "metadata": {},
   "outputs": [
    {
     "data": {
      "text/plain": [
       "1"
      ]
     },
     "execution_count": 48,
     "metadata": {},
     "output_type": "execute_result"
    }
   ],
   "source": [
    "# null values \n",
    "data['Education'].isnull().sum()"
   ]
  },
  {
   "cell_type": "markdown",
   "metadata": {},
   "source": [
    "### Bank"
   ]
  },
  {
   "cell_type": "code",
   "execution_count": 49,
   "metadata": {},
   "outputs": [
    {
     "data": {
      "text/plain": [
       "array(['Bank A', 'Bank M', 'Bank J', 'Bank B', 'Bank C', 'Bank D',\n",
       "       'Bank H', 'Bank E', 'Bank I', 'Bank F', 'Bank N', 'Bank O',\n",
       "       'Bank K', 'Bank L', 'Bank Q', 'Bank G', nan, 'Bank P'],\n",
       "      dtype=object)"
      ]
     },
     "execution_count": 49,
     "metadata": {},
     "output_type": "execute_result"
    }
   ],
   "source": [
    "data['Bank'].unique()"
   ]
  },
  {
   "cell_type": "code",
   "execution_count": 50,
   "metadata": {},
   "outputs": [
    {
     "data": {
      "text/plain": [
       "count      42388\n",
       "unique        17\n",
       "top       Bank C\n",
       "freq        6754\n",
       "Name: Bank, dtype: object"
      ]
     },
     "execution_count": 50,
     "metadata": {},
     "output_type": "execute_result"
    }
   ],
   "source": [
    "data['Bank'].describe()"
   ]
  },
  {
   "cell_type": "markdown",
   "metadata": {},
   "source": [
    "### Gender column"
   ]
  },
  {
   "cell_type": "code",
   "execution_count": 51,
   "metadata": {},
   "outputs": [
    {
     "data": {
      "text/plain": [
       "array(['No Response', 'Male', 'Female', nan], dtype=object)"
      ]
     },
     "execution_count": 51,
     "metadata": {},
     "output_type": "execute_result"
    }
   ],
   "source": [
    "data['Gender'].unique()"
   ]
  },
  {
   "cell_type": "code",
   "execution_count": 52,
   "metadata": {},
   "outputs": [
    {
     "data": {
      "text/plain": [
       "count     42652\n",
       "unique        3\n",
       "top        Male\n",
       "freq      21755\n",
       "Name: Gender, dtype: object"
      ]
     },
     "execution_count": 52,
     "metadata": {},
     "output_type": "execute_result"
    }
   ],
   "source": [
    "data['Gender'].describe()"
   ]
  },
  {
   "cell_type": "code",
   "execution_count": 53,
   "metadata": {},
   "outputs": [
    {
     "data": {
      "text/plain": [
       "1"
      ]
     },
     "execution_count": 53,
     "metadata": {},
     "output_type": "execute_result"
    }
   ],
   "source": [
    "data['Gender'].isnull().sum()"
   ]
  },
  {
   "cell_type": "code",
   "execution_count": 54,
   "metadata": {},
   "outputs": [],
   "source": [
    "# replacing gender data from categorical to numerical\n",
    "Gender_new = {'Gender' : {'Male':0,'Female':1,'No Response':None}}\n",
    "data.replace(Gender_new, inplace=True)"
   ]
  },
  {
   "cell_type": "code",
   "execution_count": 55,
   "metadata": {},
   "outputs": [
    {
     "name": "stdout",
     "output_type": "stream",
     "text": [
      "0.0    21755\n",
      "1.0    18808\n",
      "Name: Gender, dtype: int64\n"
     ]
    }
   ],
   "source": [
    "print(data.Gender.value_counts())"
   ]
  },
  {
   "cell_type": "markdown",
   "metadata": {},
   "source": [
    "### Freqbra - frequency of usage of the banking channel \"BRANCH\""
   ]
  },
  {
   "cell_type": "code",
   "execution_count": 56,
   "metadata": {},
   "outputs": [
    {
     "data": {
      "text/plain": [
       "count       42652\n",
       "unique          6\n",
       "top       Monthly\n",
       "freq        17821\n",
       "Name: FreqBra, dtype: object"
      ]
     },
     "execution_count": 56,
     "metadata": {},
     "output_type": "execute_result"
    }
   ],
   "source": [
    "data['FreqBra'].describe()"
   ]
  },
  {
   "cell_type": "code",
   "execution_count": 57,
   "metadata": {},
   "outputs": [
    {
     "data": {
      "text/plain": [
       "array(['Rarely', 'Monthly', 'No Response', 'At least once a week',\n",
       "       'At Least once a day', 'Never', nan], dtype=object)"
      ]
     },
     "execution_count": 57,
     "metadata": {},
     "output_type": "execute_result"
    }
   ],
   "source": [
    "data['FreqBra'].unique()"
   ]
  },
  {
   "cell_type": "code",
   "execution_count": 58,
   "metadata": {},
   "outputs": [
    {
     "data": {
      "text/plain": [
       "1"
      ]
     },
     "execution_count": 58,
     "metadata": {},
     "output_type": "execute_result"
    }
   ],
   "source": [
    "data['FreqBra'].isnull().sum()"
   ]
  },
  {
   "cell_type": "code",
   "execution_count": 59,
   "metadata": {},
   "outputs": [],
   "source": [
    "# changing categorical data to numerical data - \\\n",
    "# replacing the values wrt usage of branch no. of times A MONTH\n",
    "\n",
    "recoded_FreqBra = {'FreqBra' : {'Rarely':0.5, 'Monthly':1, 'No Response':None, 'At least once a week':4,\n",
    "                                'At Least once a day':30, 'Never':0}}\n",
    "data.replace(recoded_FreqBra, inplace=True)"
   ]
  },
  {
   "cell_type": "code",
   "execution_count": 60,
   "metadata": {},
   "outputs": [
    {
     "data": {
      "text/plain": [
       "1.0     17821\n",
       "0.5     10249\n",
       "4.0      9689\n",
       "30.0     1924\n",
       "0.0       276\n",
       "Name: FreqBra, dtype: int64"
      ]
     },
     "execution_count": 60,
     "metadata": {},
     "output_type": "execute_result"
    }
   ],
   "source": [
    "data['FreqBra'].value_counts()"
   ]
  },
  {
   "cell_type": "markdown",
   "metadata": {},
   "source": [
    "### FreqATM - frequency of usage of the banking channel ATM"
   ]
  },
  {
   "cell_type": "code",
   "execution_count": 61,
   "metadata": {},
   "outputs": [
    {
     "data": {
      "text/plain": [
       "array(['Monthly', 'At least once a week', 'At Least once a day', 'Rarely',\n",
       "       'No Response', 'Never', nan], dtype=object)"
      ]
     },
     "execution_count": 61,
     "metadata": {},
     "output_type": "execute_result"
    }
   ],
   "source": [
    "data['FreqATM'].unique()"
   ]
  },
  {
   "cell_type": "code",
   "execution_count": 62,
   "metadata": {},
   "outputs": [
    {
     "data": {
      "text/plain": [
       "1"
      ]
     },
     "execution_count": 62,
     "metadata": {},
     "output_type": "execute_result"
    }
   ],
   "source": [
    "data['FreqATM'].isnull().sum()"
   ]
  },
  {
   "cell_type": "code",
   "execution_count": 63,
   "metadata": {},
   "outputs": [
    {
     "data": {
      "text/plain": [
       "count                    42652\n",
       "unique                       6\n",
       "top       At least once a week\n",
       "freq                     24875\n",
       "Name: FreqATM, dtype: object"
      ]
     },
     "execution_count": 63,
     "metadata": {},
     "output_type": "execute_result"
    }
   ],
   "source": [
    "data['FreqATM'].describe()"
   ]
  },
  {
   "cell_type": "code",
   "execution_count": 64,
   "metadata": {},
   "outputs": [],
   "source": [
    "# changing categorical data to numerical data\n",
    "recoded_FreqATM = {'FreqATM' : {'Rarely':0.5, 'Monthly':1, 'No Response':None, 'At least once a week':4,\n",
    "                                'At Least once a day':30, 'Never':0}}\n",
    "data.replace(recoded_FreqATM, inplace=True)"
   ]
  },
  {
   "cell_type": "code",
   "execution_count": 65,
   "metadata": {},
   "outputs": [
    {
     "name": "stdout",
     "output_type": "stream",
     "text": [
      "4.0     24875\n",
      "1.0      8213\n",
      "30.0     5722\n",
      "0.5      2051\n",
      "0.0      1059\n",
      "Name: FreqATM, dtype: int64\n",
      "<class 'pandas.core.frame.DataFrame'>\n",
      "RangeIndex: 42653 entries, 0 to 42652\n",
      "Data columns (total 1 columns):\n",
      "FreqATM    41920 non-null float64\n",
      "dtypes: float64(1)\n",
      "memory usage: 333.4 KB\n"
     ]
    }
   ],
   "source": [
    "print(data.FreqATM.value_counts())\n",
    "data[['FreqATM']].info()"
   ]
  },
  {
   "cell_type": "markdown",
   "metadata": {},
   "source": [
    "### Check the Categorical columns we have in the dataset"
   ]
  },
  {
   "cell_type": "code",
   "execution_count": 66,
   "metadata": {},
   "outputs": [
    {
     "data": {
      "text/plain": [
       "Index(['Age', 'Gender', 'Income', 'No of Years ', 'FreqBra', 'FreqATM',\n",
       "       'impcc1a', 'cc1a', 'impcc1b', 'cc1b', 'impcc2', 'cc2', 'impcc3', 'cc3',\n",
       "       'impcc4', 'cc4', 'impcc4b', 'cc4b', 'qosbrn1i', 'qosbrn1', 'qosbrn2i',\n",
       "       'qosbrn2', 'qosbrn3i', 'qosbrn3', 'tat1i', 'tat1', 'tat2i', 'tat2',\n",
       "       'tat3i', 'tat3', 'qosatm1', 'qosatm1i', 'qosatm2i', 'qosatm2',\n",
       "       'qosatm3i', 'qosatm3', 'qosatm4i', 'qosatm4', 'qosmob1i', 'qosmob1',\n",
       "       'qosmob2i', 'qosmob2', 'qosmob3i', 'qosmob3', 'qosmob4i', 'qosmob4',\n",
       "       'qosmob5i', 'qosmob5', 'qosmob6i', 'qosmob6', 'qosint1i', 'qosint1',\n",
       "       'qosint2i', 'qosint2', 'qosint3i', 'qosint3', 'qosint4i', 'qosint4',\n",
       "       'qosint5i', 'qosint5', 'qosint6i', 'qosint6', 'qoscct1i', 'qoscct1',\n",
       "       'qoscct2i', 'qoscct2', 'qoscct3i', 'qoscct3', 'qossm1i', 'qossm1',\n",
       "       'qossm2i', 'qossm2', 'qoscad1i', 'qoscad1', 'qoscad2i', 'qoscad2',\n",
       "       'qoscad3i', 'qoscad3', 'qoscad4i', 'qoscad4', 'acci', 'acc', 'infi',\n",
       "       'inf', 'prd1i', 'prd1', 'prd2i', 'prd2', 'eas1i', 'eas1', 'eas2i',\n",
       "       'eas2', 'qosci', 'qosc'],\n",
       "      dtype='object')"
      ]
     },
     "execution_count": 66,
     "metadata": {},
     "output_type": "execute_result"
    }
   ],
   "source": [
    "cols = data.columns\n",
    "\n",
    "num_cols = data._get_numeric_data().columns\n",
    "\n",
    "num_cols\n"
   ]
  },
  {
   "cell_type": "code",
   "execution_count": 67,
   "metadata": {},
   "outputs": [
    {
     "data": {
      "text/plain": [
       "['Changeplan',\n",
       " 'FreqMob',\n",
       " 'Bkfxdp',\n",
       " 'RatIR',\n",
       " 'FreqTel',\n",
       " 'Device4',\n",
       " 'FreqPOS',\n",
       " 'Paycab',\n",
       " 'Gtfnad2',\n",
       " 'Bkfxdp2',\n",
       " 'ATMros',\n",
       " 'Cshdep',\n",
       " 'mkgcmp2',\n",
       " 'Device3',\n",
       " 'RatFS',\n",
       " 'Bank',\n",
       " 'Mig2',\n",
       " 'Mkgcmp',\n",
       " 'Mig1',\n",
       " 'RatQOS',\n",
       " 'Balenq2',\n",
       " 'Most frequently used Bank',\n",
       " 'FreqInt',\n",
       " 'ATMproximity',\n",
       " 'Mkgpay',\n",
       " 'ATMqon',\n",
       " 'RatRFF',\n",
       " 'FreqUSSD',\n",
       " 'RatERSA',\n",
       " 'Cshwit2',\n",
       " 'MostfreqATM',\n",
       " 'Payuticash',\n",
       " 'RatPOBR',\n",
       " 'Fndtrf',\n",
       " 'Gtloan2',\n",
       " 'Payuti',\n",
       " 'Mig3',\n",
       " 'Location',\n",
       " 'Payint',\n",
       " 'Cshwit',\n",
       " 'Paycabcash',\n",
       " 'ATMsecurity',\n",
       " 'Employment Category',\n",
       " 'Device2',\n",
       " 'Payintcash',\n",
       " 'Gtloan',\n",
       " 'Quest No',\n",
       " 'Education',\n",
       " 'Device1',\n",
       " 'FromBank',\n",
       " 'ChangeReasons',\n",
       " 'Fndtrf2',\n",
       " 'Balenq',\n",
       " 'Mkgpay2',\n",
       " 'ToBank',\n",
       " 'Rec',\n",
       " 'Gtfnad',\n",
       " 'Cshdep2']"
      ]
     },
     "execution_count": 67,
     "metadata": {},
     "output_type": "execute_result"
    }
   ],
   "source": [
    "cat_cols = list(set(cols) - set(num_cols))\n",
    "cat_cols"
   ]
  },
  {
   "cell_type": "code",
   "execution_count": 68,
   "metadata": {},
   "outputs": [
    {
     "name": "stdout",
     "output_type": "stream",
     "text": [
      "Number of numerical columns are: 94\n",
      "Number of categorical columns are: 58\n"
     ]
    }
   ],
   "source": [
    "print(\"Number of numerical columns are:\",len(num_cols))\n",
    "print(\"Number of categorical columns are:\",len(cat_cols))"
   ]
  },
  {
   "cell_type": "code",
   "execution_count": 69,
   "metadata": {},
   "outputs": [
    {
     "data": {
      "text/plain": [
       "'we need to find out whether the data of all these 58 columns need to be converted to numerical or not,\\nby understanding the relevance.'"
      ]
     },
     "execution_count": 69,
     "metadata": {},
     "output_type": "execute_result"
    }
   ],
   "source": [
    "'''we need to find out whether the data of all these 58 columns need to be converted to numerical or not,\n",
    "by understanding the relevance.'''"
   ]
  },
  {
   "cell_type": "code",
   "execution_count": 70,
   "metadata": {},
   "outputs": [
    {
     "data": {
      "text/plain": [
       "'lets apply the same method of converting categorical data into numerical data for the following columns :-\\nFreqPOS,FreqUSSD,FreqTel,FreqMob,FreqInt.\\n'"
      ]
     },
     "execution_count": 70,
     "metadata": {},
     "output_type": "execute_result"
    }
   ],
   "source": [
    "'''lets apply the same method of converting categorical data into numerical data for the following columns :-\n",
    "FreqPOS,FreqUSSD,FreqTel,FreqMob,FreqInt.\n",
    "'''"
   ]
  },
  {
   "cell_type": "code",
   "execution_count": 71,
   "metadata": {},
   "outputs": [],
   "source": [
    "# prepare a dictionary of categorical to numerical mapping of values for FreqPOS\n",
    "recoded_FreqPOS = {'FreqPOS' : {'Rarely':0.5, 'Monthly':1, 'No Response':None, 'At least once a week':4,\n",
    "                                'At Least once a day':30, 'Never':0}}\n",
    "# changing FreqPOS categorical data to numerical data(replacing the values wrt usage of branch no. of times A MONTH)\n",
    "data.replace(recoded_FreqPOS, inplace=True)\n",
    "\n",
    "\n",
    "# prepare a dictionary of categorical to numerical mapping of values for FreqUSSD\n",
    "recoded_FreqUSSD = {'FreqUSSD' : {'Rarely':0.5, 'Monthly':1, 'No Response':None, 'At least once a week':4,\n",
    "                                'At Least once a day':30, 'Never':0}}\n",
    "# changing FreqUSSD categorical data to numerical data(replacing the values wrt usage of branch no. of times A MONTH)\n",
    "data.replace(recoded_FreqUSSD, inplace=True)\n",
    "\n",
    "\n",
    "# prepare a dictionary of categorical to numerical mapping of values for FreqTel\n",
    "recoded_FreqTel = {'FreqTel' : {'Rarely':0.5, 'Monthly':1, 'No Response':None, 'At least once a week':4,\n",
    "                                'At Least once a day':30, 'Never':0}}\n",
    "# changing FreqTel categorical data to numerical data(replacing the values wrt usage of branch no. of times A MONTH)\n",
    "data.replace(recoded_FreqTel, inplace=True)\n",
    "\n",
    "# prepare a dictionary of categorical to numerical mapping of values for FreqMob\n",
    "recoded_FreqMob = {'FreqMob' : {'Rarely':0.5, 'Monthly':1, 'No Response':None, 'At least once a week':4,\n",
    "                                'At Least once a day':30, 'Never':0}}\n",
    "# changing FreqMob categorical data to numerical data(replacing the values wrt usage of branch no. of times A MONTH)\n",
    "data.replace(recoded_FreqMob, inplace=True)\n",
    "\n",
    "# prepare a dictionary of categorical to numerical mapping of values for FreqInt\n",
    "recoded_FreqInt = {'FreqInt' : {'Rarely':0.5, 'Monthly':1, 'No Response':None, 'At least once a week':4,\n",
    "                                'At Least once a day':30, 'Never':0}}\n",
    "# changing FreqInt categorical data to numerical data(replacing the values wrt usage of branch no. of times A MONTH)\n",
    "data.replace(recoded_FreqInt, inplace=True)\n",
    "\n",
    "\n"
   ]
  },
  {
   "cell_type": "code",
   "execution_count": 72,
   "metadata": {},
   "outputs": [
    {
     "data": {
      "text/plain": [
       "0.0     19771\n",
       "0.5      6851\n",
       "4.0      5195\n",
       "1.0      4494\n",
       "30.0     2466\n",
       "Name: FreqInt, dtype: int64"
      ]
     },
     "execution_count": 72,
     "metadata": {},
     "output_type": "execute_result"
    }
   ],
   "source": [
    "data['FreqInt'].value_counts()"
   ]
  },
  {
   "cell_type": "code",
   "execution_count": 73,
   "metadata": {},
   "outputs": [
    {
     "name": "stdout",
     "output_type": "stream",
     "text": [
      "Number of numerical columns are: 99\n",
      "Number of categorical columns are: 53\n"
     ]
    }
   ],
   "source": [
    "cols = data.columns\n",
    "num_cols = data._get_numeric_data().columns\n",
    "cat_cols = list(set(cols) - set(num_cols))\n",
    "\n",
    "print(\"Number of numerical columns are:\",len(num_cols))\n",
    "print(\"Number of categorical columns are:\",len(cat_cols))"
   ]
  },
  {
   "cell_type": "code",
   "execution_count": null,
   "metadata": {},
   "outputs": [],
   "source": [
    "'''therefore after changing 5 cat cols to numeric the number reduced to 53.'''"
   ]
  },
  {
   "cell_type": "markdown",
   "metadata": {},
   "source": [
    "### Device 4 column indicates - whether smartphones are used for online banking or not"
   ]
  },
  {
   "cell_type": "code",
   "execution_count": 74,
   "metadata": {},
   "outputs": [
    {
     "data": {
      "text/plain": [
       "array([nan, 'Yes'], dtype=object)"
      ]
     },
     "execution_count": 74,
     "metadata": {},
     "output_type": "execute_result"
    }
   ],
   "source": [
    "data['Device4'].unique()"
   ]
  },
  {
   "cell_type": "code",
   "execution_count": 75,
   "metadata": {},
   "outputs": [
    {
     "data": {
      "text/plain": [
       "25392"
      ]
     },
     "execution_count": 75,
     "metadata": {},
     "output_type": "execute_result"
    }
   ],
   "source": [
    "data['Device4'].isnull().sum()"
   ]
  },
  {
   "cell_type": "code",
   "execution_count": 76,
   "metadata": {},
   "outputs": [
    {
     "data": {
      "text/plain": [
       "count     17261\n",
       "unique        1\n",
       "top         Yes\n",
       "freq      17261\n",
       "Name: Device4, dtype: object"
      ]
     },
     "execution_count": 76,
     "metadata": {},
     "output_type": "execute_result"
    }
   ],
   "source": [
    "data['Device4'].describe()"
   ]
  },
  {
   "cell_type": "markdown",
   "metadata": {},
   "source": [
    "### Mig3 column indicates - whether you want to migrate paying cable tv bill through non-cash methods"
   ]
  },
  {
   "cell_type": "code",
   "execution_count": 77,
   "metadata": {},
   "outputs": [
    {
     "data": {
      "text/plain": [
       "array([nan, 'Yes'], dtype=object)"
      ]
     },
     "execution_count": 77,
     "metadata": {},
     "output_type": "execute_result"
    }
   ],
   "source": [
    "data['Mig3'].unique()"
   ]
  },
  {
   "cell_type": "code",
   "execution_count": 78,
   "metadata": {},
   "outputs": [
    {
     "data": {
      "text/plain": [
       "count     7522\n",
       "unique       1\n",
       "top        Yes\n",
       "freq      7522\n",
       "Name: Mig3, dtype: object"
      ]
     },
     "execution_count": 78,
     "metadata": {},
     "output_type": "execute_result"
    }
   ],
   "source": [
    "data['Mig3'].describe()"
   ]
  },
  {
   "cell_type": "code",
   "execution_count": 79,
   "metadata": {},
   "outputs": [
    {
     "data": {
      "text/plain": [
       "35131"
      ]
     },
     "execution_count": 79,
     "metadata": {},
     "output_type": "execute_result"
    }
   ],
   "source": [
    "data['Mig3'].isnull().sum()"
   ]
  },
  {
   "cell_type": "markdown",
   "metadata": {},
   "source": [
    "### percentage of null values in all columns:-"
   ]
  },
  {
   "cell_type": "code",
   "execution_count": 80,
   "metadata": {},
   "outputs": [],
   "source": [
    "null_values = []\n",
    "\n",
    "for i in data.columns:\n",
    "    null_values.append([i,((data[i].isnull().sum().sum()/len(data))*100)])"
   ]
  },
  {
   "cell_type": "code",
   "execution_count": 81,
   "metadata": {},
   "outputs": [
    {
     "name": "stdout",
     "output_type": "stream",
     "text": [
      "['RatFS', 85.84859212716573]\n",
      "['RatIR', 89.66075070921154]\n",
      "['RatERSA', 90.19295243007525]\n",
      "['RatPOBR', 89.26687454575294]\n",
      "['RatRFF', 89.9420908259677]\n",
      "['ATMqon', 95.5220031416313]\n",
      "['ATMsecurity', 91.28783438445127]\n",
      "['Device1', 99.04109910205612]\n",
      "['Device2', 95.40712259395588]\n",
      "['Device3', 94.27472862401238]\n",
      "['Payintcash', 83.4337561250088]\n",
      "['Paycabcash', 83.31184207441447]\n",
      "['Payuti', 87.9914660164584]\n",
      "['Paycab', 80.69537898858228]\n",
      "['Mig2', 81.08456615009494]\n",
      "['Mig3', 82.36466368133543]\n",
      "['FromBank', 89.55993716737393]\n",
      "['ToBank', 89.97022483764331]\n",
      "['ChangeReasons', 91.15654232996506]\n"
     ]
    }
   ],
   "source": [
    "# columns that have percentage of null values greater than 75\n",
    "\n",
    "null_val_75 = []\n",
    "\n",
    "for i in range(len(data.columns)):\n",
    "    if(null_values[i][1]>75):\n",
    "        null_val_75.append(null_values[i])\n",
    "        print(null_values[i])"
   ]
  },
  {
   "cell_type": "code",
   "execution_count": 82,
   "metadata": {},
   "outputs": [
    {
     "data": {
      "text/plain": [
       "'as we can observe that more than 85% of the data is missing in these columns , so if we impute them \\nwith mean or median then that will be intended creation of data, which wont be replicating the original \\npattern of different groups of customers, so it is better to remove these columns,we will do that later on in\\nour analysis'"
      ]
     },
     "execution_count": 82,
     "metadata": {},
     "output_type": "execute_result"
    }
   ],
   "source": [
    "'''as we can observe that more than 85% of the data is missing in these columns , so if we impute them \n",
    "with mean or median then that will be intended creation of data, which wont be replicating the original \n",
    "pattern of different groups of customers, so it is better to remove these columns,we will do that later on in\n",
    "our analysis'''"
   ]
  },
  {
   "cell_type": "markdown",
   "metadata": {},
   "source": [
    "### Lets separate the customer information into a seperate dataset"
   ]
  },
  {
   "cell_type": "code",
   "execution_count": 83,
   "metadata": {},
   "outputs": [],
   "source": [
    "demographic = data.iloc[:,:10]"
   ]
  },
  {
   "cell_type": "code",
   "execution_count": 84,
   "metadata": {},
   "outputs": [
    {
     "data": {
      "text/html": [
       "<div>\n",
       "<style scoped>\n",
       "    .dataframe tbody tr th:only-of-type {\n",
       "        vertical-align: middle;\n",
       "    }\n",
       "\n",
       "    .dataframe tbody tr th {\n",
       "        vertical-align: top;\n",
       "    }\n",
       "\n",
       "    .dataframe thead th {\n",
       "        text-align: right;\n",
       "    }\n",
       "</style>\n",
       "<table border=\"1\" class=\"dataframe\">\n",
       "  <thead>\n",
       "    <tr style=\"text-align: right;\">\n",
       "      <th></th>\n",
       "      <th>Quest No</th>\n",
       "      <th>Age</th>\n",
       "      <th>Gender</th>\n",
       "      <th>Employment Category</th>\n",
       "      <th>Education</th>\n",
       "      <th>Income</th>\n",
       "      <th>Location</th>\n",
       "      <th>Bank</th>\n",
       "      <th>No of Years</th>\n",
       "      <th>Most frequently used Bank</th>\n",
       "    </tr>\n",
       "  </thead>\n",
       "  <tbody>\n",
       "    <tr>\n",
       "      <td>0</td>\n",
       "      <td>ABJ/2015/002/196</td>\n",
       "      <td>33.0</td>\n",
       "      <td>NaN</td>\n",
       "      <td>Civil/Public Servant</td>\n",
       "      <td>OND/HND</td>\n",
       "      <td>75000.0</td>\n",
       "      <td>Abuja</td>\n",
       "      <td>Bank A</td>\n",
       "      <td>12.0</td>\n",
       "      <td>Bank A</td>\n",
       "    </tr>\n",
       "    <tr>\n",
       "      <td>1</td>\n",
       "      <td>ABJ/2015/002/196</td>\n",
       "      <td>33.0</td>\n",
       "      <td>NaN</td>\n",
       "      <td>Civil/Public Servant</td>\n",
       "      <td>OND/HND</td>\n",
       "      <td>75000.0</td>\n",
       "      <td>Abuja</td>\n",
       "      <td>Bank M</td>\n",
       "      <td>6.0</td>\n",
       "      <td>Bank A</td>\n",
       "    </tr>\n",
       "    <tr>\n",
       "      <td>2</td>\n",
       "      <td>KAN/2015/001/228</td>\n",
       "      <td>33.0</td>\n",
       "      <td>NaN</td>\n",
       "      <td>Self Employed</td>\n",
       "      <td>Bachelor's Decree</td>\n",
       "      <td>25000.0</td>\n",
       "      <td>Kano</td>\n",
       "      <td>Bank J</td>\n",
       "      <td>2.0</td>\n",
       "      <td>Bank B</td>\n",
       "    </tr>\n",
       "    <tr>\n",
       "      <td>3</td>\n",
       "      <td>KAN/2015/001/228</td>\n",
       "      <td>33.0</td>\n",
       "      <td>NaN</td>\n",
       "      <td>Self Employed</td>\n",
       "      <td>Bachelor's Decree</td>\n",
       "      <td>25000.0</td>\n",
       "      <td>Kano</td>\n",
       "      <td>Bank B</td>\n",
       "      <td>NaN</td>\n",
       "      <td>Bank B</td>\n",
       "    </tr>\n",
       "    <tr>\n",
       "      <td>4</td>\n",
       "      <td>KAN/2015/04/061</td>\n",
       "      <td>25.5</td>\n",
       "      <td>0.0</td>\n",
       "      <td>Private Sector Employee</td>\n",
       "      <td>Bachelor's Decree</td>\n",
       "      <td>25000.0</td>\n",
       "      <td>Kano</td>\n",
       "      <td>Bank C</td>\n",
       "      <td>5.0</td>\n",
       "      <td>Bank C</td>\n",
       "    </tr>\n",
       "  </tbody>\n",
       "</table>\n",
       "</div>"
      ],
      "text/plain": [
       "           Quest No   Age  Gender      Employment Category          Education  \\\n",
       "0  ABJ/2015/002/196  33.0     NaN     Civil/Public Servant            OND/HND   \n",
       "1  ABJ/2015/002/196  33.0     NaN     Civil/Public Servant            OND/HND   \n",
       "2  KAN/2015/001/228  33.0     NaN            Self Employed  Bachelor's Decree   \n",
       "3  KAN/2015/001/228  33.0     NaN            Self Employed  Bachelor's Decree   \n",
       "4   KAN/2015/04/061  25.5     0.0  Private Sector Employee  Bachelor's Decree   \n",
       "\n",
       "    Income Location    Bank  No of Years  Most frequently used Bank  \n",
       "0  75000.0    Abuja  Bank A          12.0                    Bank A  \n",
       "1  75000.0    Abuja  Bank M           6.0                    Bank A  \n",
       "2  25000.0     Kano  Bank J           2.0                    Bank B  \n",
       "3  25000.0     Kano  Bank B           NaN                    Bank B  \n",
       "4  25000.0     Kano  Bank C           5.0                    Bank C  "
      ]
     },
     "execution_count": 84,
     "metadata": {},
     "output_type": "execute_result"
    }
   ],
   "source": [
    "demographic.head()"
   ]
  },
  {
   "cell_type": "markdown",
   "metadata": {},
   "source": [
    "### Let's separate another set of data that talks about - Possible reasons for maintaining banking relationship"
   ]
  },
  {
   "cell_type": "code",
   "execution_count": 85,
   "metadata": {},
   "outputs": [],
   "source": [
    "banking_rel_reasons = data.iloc[:,10:16]"
   ]
  },
  {
   "cell_type": "code",
   "execution_count": 86,
   "metadata": {},
   "outputs": [
    {
     "data": {
      "text/html": [
       "<div>\n",
       "<style scoped>\n",
       "    .dataframe tbody tr th:only-of-type {\n",
       "        vertical-align: middle;\n",
       "    }\n",
       "\n",
       "    .dataframe tbody tr th {\n",
       "        vertical-align: top;\n",
       "    }\n",
       "\n",
       "    .dataframe thead th {\n",
       "        text-align: right;\n",
       "    }\n",
       "</style>\n",
       "<table border=\"1\" class=\"dataframe\">\n",
       "  <thead>\n",
       "    <tr style=\"text-align: right;\">\n",
       "      <th></th>\n",
       "      <th>RatQOS</th>\n",
       "      <th>RatFS</th>\n",
       "      <th>RatIR</th>\n",
       "      <th>RatERSA</th>\n",
       "      <th>RatPOBR</th>\n",
       "      <th>RatRFF</th>\n",
       "    </tr>\n",
       "  </thead>\n",
       "  <tbody>\n",
       "    <tr>\n",
       "      <td>0</td>\n",
       "      <td>Yes</td>\n",
       "      <td>NaN</td>\n",
       "      <td>NaN</td>\n",
       "      <td>NaN</td>\n",
       "      <td>NaN</td>\n",
       "      <td>NaN</td>\n",
       "    </tr>\n",
       "    <tr>\n",
       "      <td>1</td>\n",
       "      <td>NaN</td>\n",
       "      <td>NaN</td>\n",
       "      <td>NaN</td>\n",
       "      <td>NaN</td>\n",
       "      <td>Yes</td>\n",
       "      <td>NaN</td>\n",
       "    </tr>\n",
       "    <tr>\n",
       "      <td>2</td>\n",
       "      <td>NaN</td>\n",
       "      <td>NaN</td>\n",
       "      <td>NaN</td>\n",
       "      <td>NaN</td>\n",
       "      <td>NaN</td>\n",
       "      <td>NaN</td>\n",
       "    </tr>\n",
       "    <tr>\n",
       "      <td>3</td>\n",
       "      <td>NaN</td>\n",
       "      <td>NaN</td>\n",
       "      <td>NaN</td>\n",
       "      <td>NaN</td>\n",
       "      <td>NaN</td>\n",
       "      <td>NaN</td>\n",
       "    </tr>\n",
       "    <tr>\n",
       "      <td>4</td>\n",
       "      <td>Yes</td>\n",
       "      <td>Yes</td>\n",
       "      <td>NaN</td>\n",
       "      <td>NaN</td>\n",
       "      <td>NaN</td>\n",
       "      <td>Yes</td>\n",
       "    </tr>\n",
       "  </tbody>\n",
       "</table>\n",
       "</div>"
      ],
      "text/plain": [
       "  RatQOS RatFS RatIR RatERSA RatPOBR RatRFF\n",
       "0    Yes   NaN   NaN     NaN     NaN    NaN\n",
       "1    NaN   NaN   NaN     NaN     Yes    NaN\n",
       "2    NaN   NaN   NaN     NaN     NaN    NaN\n",
       "3    NaN   NaN   NaN     NaN     NaN    NaN\n",
       "4    Yes   Yes   NaN     NaN     NaN    Yes"
      ]
     },
     "execution_count": 86,
     "metadata": {},
     "output_type": "execute_result"
    }
   ],
   "source": [
    "banking_rel_reasons.head()"
   ]
  },
  {
   "cell_type": "markdown",
   "metadata": {},
   "source": [
    "### Dataset that represents the frequency of usage of different banking channels"
   ]
  },
  {
   "cell_type": "code",
   "execution_count": 87,
   "metadata": {},
   "outputs": [],
   "source": [
    "bank_chann_usage = data.iloc[:,16:23]"
   ]
  },
  {
   "cell_type": "code",
   "execution_count": 88,
   "metadata": {},
   "outputs": [
    {
     "data": {
      "text/html": [
       "<div>\n",
       "<style scoped>\n",
       "    .dataframe tbody tr th:only-of-type {\n",
       "        vertical-align: middle;\n",
       "    }\n",
       "\n",
       "    .dataframe tbody tr th {\n",
       "        vertical-align: top;\n",
       "    }\n",
       "\n",
       "    .dataframe thead th {\n",
       "        text-align: right;\n",
       "    }\n",
       "</style>\n",
       "<table border=\"1\" class=\"dataframe\">\n",
       "  <thead>\n",
       "    <tr style=\"text-align: right;\">\n",
       "      <th></th>\n",
       "      <th>FreqBra</th>\n",
       "      <th>FreqATM</th>\n",
       "      <th>FreqPOS</th>\n",
       "      <th>FreqInt</th>\n",
       "      <th>FreqMob</th>\n",
       "      <th>FreqUSSD</th>\n",
       "      <th>FreqTel</th>\n",
       "    </tr>\n",
       "  </thead>\n",
       "  <tbody>\n",
       "    <tr>\n",
       "      <td>0</td>\n",
       "      <td>0.5</td>\n",
       "      <td>1.0</td>\n",
       "      <td>0.0</td>\n",
       "      <td>0.0</td>\n",
       "      <td>0.0</td>\n",
       "      <td>0.0</td>\n",
       "      <td>0.0</td>\n",
       "    </tr>\n",
       "    <tr>\n",
       "      <td>1</td>\n",
       "      <td>0.5</td>\n",
       "      <td>1.0</td>\n",
       "      <td>0.0</td>\n",
       "      <td>0.0</td>\n",
       "      <td>0.0</td>\n",
       "      <td>0.0</td>\n",
       "      <td>0.0</td>\n",
       "    </tr>\n",
       "    <tr>\n",
       "      <td>2</td>\n",
       "      <td>1.0</td>\n",
       "      <td>1.0</td>\n",
       "      <td>0.0</td>\n",
       "      <td>0.0</td>\n",
       "      <td>0.0</td>\n",
       "      <td>30.0</td>\n",
       "      <td>0.0</td>\n",
       "    </tr>\n",
       "    <tr>\n",
       "      <td>3</td>\n",
       "      <td>1.0</td>\n",
       "      <td>1.0</td>\n",
       "      <td>0.0</td>\n",
       "      <td>0.0</td>\n",
       "      <td>0.0</td>\n",
       "      <td>30.0</td>\n",
       "      <td>0.0</td>\n",
       "    </tr>\n",
       "    <tr>\n",
       "      <td>4</td>\n",
       "      <td>1.0</td>\n",
       "      <td>4.0</td>\n",
       "      <td>0.5</td>\n",
       "      <td>0.5</td>\n",
       "      <td>0.5</td>\n",
       "      <td>0.5</td>\n",
       "      <td>0.0</td>\n",
       "    </tr>\n",
       "  </tbody>\n",
       "</table>\n",
       "</div>"
      ],
      "text/plain": [
       "   FreqBra  FreqATM  FreqPOS  FreqInt  FreqMob  FreqUSSD  FreqTel\n",
       "0      0.5      1.0      0.0      0.0      0.0       0.0      0.0\n",
       "1      0.5      1.0      0.0      0.0      0.0       0.0      0.0\n",
       "2      1.0      1.0      0.0      0.0      0.0      30.0      0.0\n",
       "3      1.0      1.0      0.0      0.0      0.0      30.0      0.0\n",
       "4      1.0      4.0      0.5      0.5      0.5       0.5      0.0"
      ]
     },
     "execution_count": 88,
     "metadata": {},
     "output_type": "execute_result"
    }
   ],
   "source": [
    "bank_chann_usage.head()"
   ]
  },
  {
   "cell_type": "markdown",
   "metadata": {},
   "source": [
    "### most frequently used bank's ATM"
   ]
  },
  {
   "cell_type": "code",
   "execution_count": 89,
   "metadata": {},
   "outputs": [],
   "source": [
    "most_freq_ATM = data.iloc[:,23:24]"
   ]
  },
  {
   "cell_type": "code",
   "execution_count": 90,
   "metadata": {},
   "outputs": [
    {
     "data": {
      "text/html": [
       "<div>\n",
       "<style scoped>\n",
       "    .dataframe tbody tr th:only-of-type {\n",
       "        vertical-align: middle;\n",
       "    }\n",
       "\n",
       "    .dataframe tbody tr th {\n",
       "        vertical-align: top;\n",
       "    }\n",
       "\n",
       "    .dataframe thead th {\n",
       "        text-align: right;\n",
       "    }\n",
       "</style>\n",
       "<table border=\"1\" class=\"dataframe\">\n",
       "  <thead>\n",
       "    <tr style=\"text-align: right;\">\n",
       "      <th></th>\n",
       "      <th>MostfreqATM</th>\n",
       "    </tr>\n",
       "  </thead>\n",
       "  <tbody>\n",
       "    <tr>\n",
       "      <td>0</td>\n",
       "      <td>Bank A</td>\n",
       "    </tr>\n",
       "    <tr>\n",
       "      <td>1</td>\n",
       "      <td>Bank A</td>\n",
       "    </tr>\n",
       "    <tr>\n",
       "      <td>2</td>\n",
       "      <td>Bank J</td>\n",
       "    </tr>\n",
       "    <tr>\n",
       "      <td>3</td>\n",
       "      <td>Bank J</td>\n",
       "    </tr>\n",
       "    <tr>\n",
       "      <td>4</td>\n",
       "      <td>Bank C</td>\n",
       "    </tr>\n",
       "  </tbody>\n",
       "</table>\n",
       "</div>"
      ],
      "text/plain": [
       "  MostfreqATM\n",
       "0      Bank A\n",
       "1      Bank A\n",
       "2      Bank J\n",
       "3      Bank J\n",
       "4      Bank C"
      ]
     },
     "execution_count": 90,
     "metadata": {},
     "output_type": "execute_result"
    }
   ],
   "source": [
    "most_freq_ATM.head()"
   ]
  },
  {
   "cell_type": "markdown",
   "metadata": {},
   "source": [
    "### Lets seperate all the similar information bearing columns into different datasets"
   ]
  },
  {
   "cell_type": "code",
   "execution_count": 91,
   "metadata": {},
   "outputs": [],
   "source": [
    "# Reason for Most Frequently used Bank's ATM\n",
    "res_for_freqused_ATM = data.iloc[:,24:28]\n",
    "# Devices used in Accessing Online Banking\n",
    "dev_onl_banking = data.iloc[:,28:32]\n",
    "# Banking Activities Presently Carried out with Different Banking Channels\n",
    "banking_activities_current = data.iloc[:,32:41]\n",
    "# Banking Activities you would like to Carry out with Different Channels in Future\n",
    "banking_activities_future = data.iloc[:,41:50]"
   ]
  },
  {
   "cell_type": "code",
   "execution_count": 92,
   "metadata": {},
   "outputs": [],
   "source": [
    "# Customer experience - these 75 columns actually contain the ratings data given by the customers in the survey\n",
    "cust_care = data.iloc[:,50:58]\n",
    "complaints = data.iloc[:,58:62]\n",
    "branches = data.iloc[:,62:74]\n",
    "ATMs = data.iloc[:,74:82]\n",
    "mob_banking = data.iloc[:,82:94]\n",
    "int_banking = data.iloc[:,94:106]\n",
    "call_centre = data.iloc[:,106:112]\n",
    "social_media = data.iloc[:,112:116]\n",
    "cards = data.iloc[:,116:124]\n",
    "exec_eff = data.iloc[:,124:128]\n",
    "prod = data.iloc[:,128:132]\n",
    "ease_credit = data.iloc[:,132:136]\n",
    "val_for_money = data.iloc[:,136:138]"
   ]
  },
  {
   "cell_type": "code",
   "execution_count": 93,
   "metadata": {},
   "outputs": [],
   "source": [
    "# payments\n",
    "pay_settl_with_cash = data.iloc[:,138:141]\n",
    "pay_settl_wo_cash = data.iloc[:,141:144]\n",
    "pay_will_like_cashless = data.iloc[:,144:147]"
   ]
  },
  {
   "cell_type": "code",
   "execution_count": 94,
   "metadata": {},
   "outputs": [],
   "source": [
    "# loyalty\n",
    "bank_recommendations = data.iloc[:,147:148]\n",
    "\n",
    "# switching banks\n",
    "bank_switch_plan = data.iloc[:,148:149]\n",
    "from_bank = data.iloc[:,149:150]\n",
    "to_bank = data.iloc[:,150:151]\n",
    "reason_for_change = data.iloc[:,151:152]"
   ]
  },
  {
   "cell_type": "markdown",
   "metadata": {},
   "source": [
    "### Now we will prepare new dataset with the previous structured columns"
   ]
  },
  {
   "cell_type": "code",
   "execution_count": 95,
   "metadata": {},
   "outputs": [
    {
     "data": {
      "text/plain": [
       "(42653, 11)"
      ]
     },
     "execution_count": 95,
     "metadata": {},
     "output_type": "execute_result"
    }
   ],
   "source": [
    "selected_data = data[['Age','Gender','Income','No of Years ','FreqBra','FreqATM','FreqPOS','FreqInt',\n",
    "                      'FreqMob','FreqUSSD','FreqTel']]\n",
    "selected_data.shape"
   ]
  },
  {
   "cell_type": "code",
   "execution_count": 96,
   "metadata": {},
   "outputs": [
    {
     "data": {
      "text/plain": [
       "eas1i    25794\n",
       "eas1     25794\n",
       "eas2i    26093\n",
       "eas2     26093\n",
       "dtype: int64"
      ]
     },
     "execution_count": 96,
     "metadata": {},
     "output_type": "execute_result"
    }
   ],
   "source": [
    "# ease of getting credit facilities\n",
    "ease_credit.isnull().sum()"
   ]
  },
  {
   "cell_type": "code",
   "execution_count": 97,
   "metadata": {},
   "outputs": [
    {
     "name": "stdout",
     "output_type": "stream",
     "text": [
      "Int64Index([    2,     3,     5,    12,    15,    16,    18,    19,    32,\n",
      "               33,\n",
      "            ...\n",
      "            42599, 42600, 42601, 42611, 42612, 42613, 42614, 42615, 42617,\n",
      "            42618],\n",
      "           dtype='int64', length=6849)\n"
     ]
    }
   ],
   "source": [
    "# check for the null rows in res_for_freqused_ATM separated dataset(the rows which have all the data missing(as NaN),not even a single value is present)\n",
    "null_rows = res_for_freqused_ATM.index[res_for_freqused_ATM.isnull().all(1)]\n",
    "print(null_rows)"
   ]
  },
  {
   "cell_type": "code",
   "execution_count": 98,
   "metadata": {},
   "outputs": [
    {
     "data": {
      "text/plain": [
       "ATMproximity    25224\n",
       "ATMqon          40743\n",
       "ATMsecurity     38937\n",
       "ATMros          28526\n",
       "dtype: int64"
      ]
     },
     "execution_count": 98,
     "metadata": {},
     "output_type": "execute_result"
    }
   ],
   "source": [
    "res_for_freqused_ATM.isnull().sum()"
   ]
  },
  {
   "cell_type": "markdown",
   "metadata": {},
   "source": [
    "### Customer care"
   ]
  },
  {
   "cell_type": "code",
   "execution_count": 99,
   "metadata": {},
   "outputs": [
    {
     "data": {
      "text/html": [
       "<div>\n",
       "<style scoped>\n",
       "    .dataframe tbody tr th:only-of-type {\n",
       "        vertical-align: middle;\n",
       "    }\n",
       "\n",
       "    .dataframe tbody tr th {\n",
       "        vertical-align: top;\n",
       "    }\n",
       "\n",
       "    .dataframe thead th {\n",
       "        text-align: right;\n",
       "    }\n",
       "</style>\n",
       "<table border=\"1\" class=\"dataframe\">\n",
       "  <thead>\n",
       "    <tr style=\"text-align: right;\">\n",
       "      <th></th>\n",
       "      <th>impcc1a</th>\n",
       "      <th>cc1a</th>\n",
       "      <th>impcc1b</th>\n",
       "      <th>cc1b</th>\n",
       "      <th>impcc2</th>\n",
       "      <th>cc2</th>\n",
       "      <th>impcc3</th>\n",
       "      <th>cc3</th>\n",
       "    </tr>\n",
       "  </thead>\n",
       "  <tbody>\n",
       "    <tr>\n",
       "      <td>0</td>\n",
       "      <td>9.0</td>\n",
       "      <td>5.0</td>\n",
       "      <td>9.0</td>\n",
       "      <td>5.0</td>\n",
       "      <td>9.0</td>\n",
       "      <td>4.0</td>\n",
       "      <td>9.0</td>\n",
       "      <td>5.0</td>\n",
       "    </tr>\n",
       "    <tr>\n",
       "      <td>1</td>\n",
       "      <td>NaN</td>\n",
       "      <td>NaN</td>\n",
       "      <td>NaN</td>\n",
       "      <td>NaN</td>\n",
       "      <td>NaN</td>\n",
       "      <td>NaN</td>\n",
       "      <td>NaN</td>\n",
       "      <td>NaN</td>\n",
       "    </tr>\n",
       "    <tr>\n",
       "      <td>2</td>\n",
       "      <td>6.0</td>\n",
       "      <td>6.0</td>\n",
       "      <td>6.0</td>\n",
       "      <td>7.0</td>\n",
       "      <td>5.0</td>\n",
       "      <td>5.0</td>\n",
       "      <td>6.0</td>\n",
       "      <td>5.0</td>\n",
       "    </tr>\n",
       "    <tr>\n",
       "      <td>3</td>\n",
       "      <td>6.0</td>\n",
       "      <td>4.0</td>\n",
       "      <td>6.0</td>\n",
       "      <td>5.0</td>\n",
       "      <td>5.0</td>\n",
       "      <td>5.0</td>\n",
       "      <td>6.0</td>\n",
       "      <td>4.0</td>\n",
       "    </tr>\n",
       "    <tr>\n",
       "      <td>4</td>\n",
       "      <td>8.0</td>\n",
       "      <td>5.0</td>\n",
       "      <td>8.0</td>\n",
       "      <td>5.0</td>\n",
       "      <td>8.0</td>\n",
       "      <td>5.0</td>\n",
       "      <td>7.0</td>\n",
       "      <td>4.0</td>\n",
       "    </tr>\n",
       "  </tbody>\n",
       "</table>\n",
       "</div>"
      ],
      "text/plain": [
       "   impcc1a  cc1a  impcc1b  cc1b  impcc2  cc2  impcc3  cc3\n",
       "0      9.0   5.0      9.0   5.0     9.0  4.0     9.0  5.0\n",
       "1      NaN   NaN      NaN   NaN     NaN  NaN     NaN  NaN\n",
       "2      6.0   6.0      6.0   7.0     5.0  5.0     6.0  5.0\n",
       "3      6.0   4.0      6.0   5.0     5.0  5.0     6.0  4.0\n",
       "4      8.0   5.0      8.0   5.0     8.0  5.0     7.0  4.0"
      ]
     },
     "execution_count": 99,
     "metadata": {},
     "output_type": "execute_result"
    }
   ],
   "source": [
    "cust_care.head()"
   ]
  },
  {
   "cell_type": "code",
   "execution_count": null,
   "metadata": {},
   "outputs": [],
   "source": [
    "'''these columns are the ratings corresponding to IMPORTANCE and SATISFACTION of 4 services\n",
    "\n",
    "impcc1a,impcc1b,impcc2,impcc3 ------- IMPORTANCE RATING(Are these services important) 1-10\n",
    "cc1a,cc1b,cc2,cc3 ------  SATISFACTION RATING(Are you satisfied with the service) 1-7\n",
    "\n",
    "The four services in question here are :-\n",
    "service code 1a - Relationship managers  professionalism\n",
    "service code 1b - Branch staff professionalism\n",
    "service code  2 - Staff knowledge and understanding of the bank’s products / services\n",
    "service code  3 - Staff ability to understand your needs and proactively offer alternatives/ useful advice\n",
    "\n",
    "'''"
   ]
  },
  {
   "cell_type": "code",
   "execution_count": 100,
   "metadata": {},
   "outputs": [
    {
     "data": {
      "text/plain": [
       "5.0    14315\n",
       "4.0     8469\n",
       "6.0     7205\n",
       "7.0     4641\n",
       "3.0     1983\n",
       "2.0      998\n",
       "1.0      789\n",
       "Name: cc1a, dtype: int64"
      ]
     },
     "execution_count": 100,
     "metadata": {},
     "output_type": "execute_result"
    }
   ],
   "source": [
    "# lets check one of the satisfaction rating based columns and tei values - whether they are valid/relevant\n",
    "cust_care['cc1a'].value_counts()"
   ]
  },
  {
   "cell_type": "markdown",
   "metadata": {},
   "source": [
    "#### now lets convert all the above 8 columns into one column of customer care score"
   ]
  },
  {
   "cell_type": "code",
   "execution_count": 101,
   "metadata": {},
   "outputs": [
    {
     "name": "stderr",
     "output_type": "stream",
     "text": [
      "/Applications/anaconda3/lib/python3.7/site-packages/ipykernel_launcher.py:6: SettingWithCopyWarning: \n",
      "A value is trying to be set on a copy of a slice from a DataFrame.\n",
      "Try using .loc[row_indexer,col_indexer] = value instead\n",
      "\n",
      "See the caveats in the documentation: http://pandas.pydata.org/pandas-docs/stable/user_guide/indexing.html#returning-a-view-versus-a-copy\n",
      "  \n"
     ]
    }
   ],
   "source": [
    "cust_care.iloc[:,1::2] -= 4 # consider only those columns which have values 1 to 7(cc1a,cc1b,cc2,cc3) and normlise the data to get an output range of -3,3\n",
    "# Balanced\n",
    "cust_care_score = np.sum(cust_care.iloc[:,0::2].values * cust_care.iloc[:,1::2].values,axis=1)\n",
    "# multiplying importance rating values and NORMALISED satisfaction rating values and summing the whole result for 1 row(feature engineering to reduce the no.of features)\n",
    "# multiplying the two dfs , we didnot do element wise multiplication here\n",
    "selected_data['cust_care_score'] = cust_care_score"
   ]
  },
  {
   "cell_type": "code",
   "execution_count": 102,
   "metadata": {},
   "outputs": [
    {
     "data": {
      "text/plain": [
       "0        27.0\n",
       "1         NaN\n",
       "2        41.0\n",
       "3        11.0\n",
       "4        24.0\n",
       "         ... \n",
       "42648    29.0\n",
       "42649    32.0\n",
       "42650    48.0\n",
       "42651    27.0\n",
       "42652    17.0\n",
       "Name: cust_care_score, Length: 42653, dtype: float64"
      ]
     },
     "execution_count": 102,
     "metadata": {},
     "output_type": "execute_result"
    }
   ],
   "source": [
    "selected_data['cust_care_score'] \n",
    "# cust_care_score = impcc1a*cc1a + impcc1b*cc1b +impcc2*cc2 +impcc3*cc3 ---- for each row in cust_care dataset"
   ]
  },
  {
   "cell_type": "markdown",
   "metadata": {},
   "source": [
    "#### Same conversion of multiple columns into single column for complaints,branches,ATMs ,mob_banking ,int_banking ,call_centre,social_media ,cards ,exec_eff ,prod ,ease_credit,val_for_money"
   ]
  },
  {
   "cell_type": "code",
   "execution_count": 103,
   "metadata": {},
   "outputs": [
    {
     "data": {
      "text/html": [
       "<div>\n",
       "<style scoped>\n",
       "    .dataframe tbody tr th:only-of-type {\n",
       "        vertical-align: middle;\n",
       "    }\n",
       "\n",
       "    .dataframe tbody tr th {\n",
       "        vertical-align: top;\n",
       "    }\n",
       "\n",
       "    .dataframe thead th {\n",
       "        text-align: right;\n",
       "    }\n",
       "</style>\n",
       "<table border=\"1\" class=\"dataframe\">\n",
       "  <thead>\n",
       "    <tr style=\"text-align: right;\">\n",
       "      <th></th>\n",
       "      <th>impcc4</th>\n",
       "      <th>cc4</th>\n",
       "      <th>impcc4b</th>\n",
       "      <th>cc4b</th>\n",
       "    </tr>\n",
       "  </thead>\n",
       "  <tbody>\n",
       "    <tr>\n",
       "      <td>0</td>\n",
       "      <td>9.0</td>\n",
       "      <td>5.0</td>\n",
       "      <td>10.0</td>\n",
       "      <td>5.0</td>\n",
       "    </tr>\n",
       "    <tr>\n",
       "      <td>1</td>\n",
       "      <td>NaN</td>\n",
       "      <td>NaN</td>\n",
       "      <td>NaN</td>\n",
       "      <td>NaN</td>\n",
       "    </tr>\n",
       "    <tr>\n",
       "      <td>2</td>\n",
       "      <td>6.0</td>\n",
       "      <td>5.0</td>\n",
       "      <td>8.0</td>\n",
       "      <td>5.0</td>\n",
       "    </tr>\n",
       "    <tr>\n",
       "      <td>3</td>\n",
       "      <td>6.0</td>\n",
       "      <td>3.0</td>\n",
       "      <td>8.0</td>\n",
       "      <td>4.0</td>\n",
       "    </tr>\n",
       "    <tr>\n",
       "      <td>4</td>\n",
       "      <td>7.0</td>\n",
       "      <td>4.0</td>\n",
       "      <td>6.0</td>\n",
       "      <td>4.0</td>\n",
       "    </tr>\n",
       "  </tbody>\n",
       "</table>\n",
       "</div>"
      ],
      "text/plain": [
       "   impcc4  cc4  impcc4b  cc4b\n",
       "0     9.0  5.0     10.0   5.0\n",
       "1     NaN  NaN      NaN   NaN\n",
       "2     6.0  5.0      8.0   5.0\n",
       "3     6.0  3.0      8.0   4.0\n",
       "4     7.0  4.0      6.0   4.0"
      ]
     },
     "execution_count": 103,
     "metadata": {},
     "output_type": "execute_result"
    }
   ],
   "source": [
    "complaints.head()"
   ]
  },
  {
   "cell_type": "code",
   "execution_count": 104,
   "metadata": {},
   "outputs": [
    {
     "data": {
      "text/plain": [
       "10.0    16551\n",
       "9.0      5891\n",
       "8.0      5871\n",
       "7.0      3738\n",
       "6.0      2672\n",
       "5.0      2643\n",
       "4.0      1023\n",
       "3.0       506\n",
       "2.0       366\n",
       "1.0       199\n",
       "Name: impcc4, dtype: int64"
      ]
     },
     "execution_count": 104,
     "metadata": {},
     "output_type": "execute_result"
    }
   ],
   "source": [
    "complaints['impcc4'].value_counts()"
   ]
  },
  {
   "cell_type": "code",
   "execution_count": 105,
   "metadata": {},
   "outputs": [
    {
     "name": "stderr",
     "output_type": "stream",
     "text": [
      "/Applications/anaconda3/lib/python3.7/site-packages/ipykernel_launcher.py:6: SettingWithCopyWarning: \n",
      "A value is trying to be set on a copy of a slice from a DataFrame.\n",
      "Try using .loc[row_indexer,col_indexer] = value instead\n",
      "\n",
      "See the caveats in the documentation: http://pandas.pydata.org/pandas-docs/stable/user_guide/indexing.html#returning-a-view-versus-a-copy\n",
      "  \n"
     ]
    }
   ],
   "source": [
    "complaints.iloc[:,1::2] -= 4 # median is 4(for 1-7)\n",
    "# Balanced\n",
    "complaints_score = np.sum(complaints.iloc[:,0::2].values * complaints.iloc[:,1::2].values,axis=1)\n",
    "# multiplying importance rating values and NORMALISED satisfaction rating values and summing the whole result for 1 row(feature engineering to reduce the no.of features)\n",
    "# multiplying the two dfs , we didnot do element wise multiplication here\n",
    "selected_data['complaints_score'] = complaints_score"
   ]
  },
  {
   "cell_type": "code",
   "execution_count": 106,
   "metadata": {},
   "outputs": [
    {
     "name": "stderr",
     "output_type": "stream",
     "text": [
      "/Applications/anaconda3/lib/python3.7/site-packages/ipykernel_launcher.py:6: SettingWithCopyWarning: \n",
      "A value is trying to be set on a copy of a slice from a DataFrame.\n",
      "Try using .loc[row_indexer,col_indexer] = value instead\n",
      "\n",
      "See the caveats in the documentation: http://pandas.pydata.org/pandas-docs/stable/user_guide/indexing.html#returning-a-view-versus-a-copy\n",
      "  \n"
     ]
    }
   ],
   "source": [
    "branches.iloc[:,1::2] -= 4 \n",
    "# Balanced\n",
    "branches_score = np.sum(branches.iloc[:,0::2].values * branches.iloc[:,1::2].values,axis=1)\n",
    "# multiplying importance rating values and NORMALISED satisfaction rating values and summing the whole result for 1 row(feature engineering to reduce the no.of features)\n",
    "# multiplying the two dfs , we didnot do element wise multiplication here\n",
    "selected_data['branches_score'] = branches_score"
   ]
  },
  {
   "cell_type": "code",
   "execution_count": 107,
   "metadata": {},
   "outputs": [
    {
     "name": "stderr",
     "output_type": "stream",
     "text": [
      "/Applications/anaconda3/lib/python3.7/site-packages/ipykernel_launcher.py:6: SettingWithCopyWarning: \n",
      "A value is trying to be set on a copy of a slice from a DataFrame.\n",
      "Try using .loc[row_indexer,col_indexer] = value instead\n",
      "\n",
      "See the caveats in the documentation: http://pandas.pydata.org/pandas-docs/stable/user_guide/indexing.html#returning-a-view-versus-a-copy\n",
      "  \n"
     ]
    }
   ],
   "source": [
    "ATMs.iloc[:,1::2] -= 4 \n",
    "# Balanced\n",
    "ATMs_score = np.sum(ATMs.iloc[:,0::2].values * ATMs.iloc[:,1::2].values,axis=1)\n",
    "# multiplying importance rating values and NORMALISED satisfaction rating values and summing the whole result for 1 row(feature engineering to reduce the no.of features)\n",
    "# multiplying the two dfs , we didnot do element wise multiplication here\n",
    "selected_data['ATMs_score'] = ATMs_score"
   ]
  },
  {
   "cell_type": "code",
   "execution_count": 108,
   "metadata": {},
   "outputs": [
    {
     "name": "stderr",
     "output_type": "stream",
     "text": [
      "/Applications/anaconda3/lib/python3.7/site-packages/ipykernel_launcher.py:6: SettingWithCopyWarning: \n",
      "A value is trying to be set on a copy of a slice from a DataFrame.\n",
      "Try using .loc[row_indexer,col_indexer] = value instead\n",
      "\n",
      "See the caveats in the documentation: http://pandas.pydata.org/pandas-docs/stable/user_guide/indexing.html#returning-a-view-versus-a-copy\n",
      "  \n"
     ]
    }
   ],
   "source": [
    "mob_banking.iloc[:,1::2] -= 4 \n",
    "# Balanced\n",
    "mob_banking_score = np.sum(mob_banking.iloc[:,0::2].values * mob_banking.iloc[:,1::2].values,axis=1)\n",
    "# multiplying importance rating values and NORMALISED satisfaction rating values and summing the whole result for 1 row(feature engineering to reduce the no.of features)\n",
    "# multiplying the two dfs , we didnot do element wise multiplication here\n",
    "selected_data['mob_banking_score'] = mob_banking_score"
   ]
  },
  {
   "cell_type": "code",
   "execution_count": 109,
   "metadata": {},
   "outputs": [
    {
     "name": "stderr",
     "output_type": "stream",
     "text": [
      "/Applications/anaconda3/lib/python3.7/site-packages/ipykernel_launcher.py:6: SettingWithCopyWarning: \n",
      "A value is trying to be set on a copy of a slice from a DataFrame.\n",
      "Try using .loc[row_indexer,col_indexer] = value instead\n",
      "\n",
      "See the caveats in the documentation: http://pandas.pydata.org/pandas-docs/stable/user_guide/indexing.html#returning-a-view-versus-a-copy\n",
      "  \n"
     ]
    }
   ],
   "source": [
    "int_banking.iloc[:,1::2] -= 4 \n",
    "# Balanced\n",
    "int_banking_score = np.sum(int_banking.iloc[:,0::2].values * int_banking.iloc[:,1::2].values,axis=1)\n",
    "# multiplying importance rating values and NORMALISED satisfaction rating values and summing the whole result for 1 row(feature engineering to reduce the no.of features)\n",
    "# multiplying the two dfs , we didnot do element wise multiplication here\n",
    "selected_data['int_banking_score'] = int_banking_score"
   ]
  },
  {
   "cell_type": "code",
   "execution_count": 110,
   "metadata": {},
   "outputs": [
    {
     "name": "stderr",
     "output_type": "stream",
     "text": [
      "/Applications/anaconda3/lib/python3.7/site-packages/ipykernel_launcher.py:6: SettingWithCopyWarning: \n",
      "A value is trying to be set on a copy of a slice from a DataFrame.\n",
      "Try using .loc[row_indexer,col_indexer] = value instead\n",
      "\n",
      "See the caveats in the documentation: http://pandas.pydata.org/pandas-docs/stable/user_guide/indexing.html#returning-a-view-versus-a-copy\n",
      "  \n"
     ]
    }
   ],
   "source": [
    "call_centre.iloc[:,1::2] -= 4 \n",
    "# Balanced\n",
    "call_centre_score = np.sum(call_centre.iloc[:,0::2].values * call_centre.iloc[:,1::2].values,axis=1)\n",
    "# multiplying importance rating values and NORMALISED satisfaction rating values and summing the whole result for 1 row(feature engineering to reduce the no.of features)\n",
    "# multiplying the two dfs , we didnot do element wise multiplication here\n",
    "selected_data['call_centre_score'] = call_centre_score"
   ]
  },
  {
   "cell_type": "code",
   "execution_count": 111,
   "metadata": {},
   "outputs": [
    {
     "name": "stderr",
     "output_type": "stream",
     "text": [
      "/Applications/anaconda3/lib/python3.7/site-packages/ipykernel_launcher.py:6: SettingWithCopyWarning: \n",
      "A value is trying to be set on a copy of a slice from a DataFrame.\n",
      "Try using .loc[row_indexer,col_indexer] = value instead\n",
      "\n",
      "See the caveats in the documentation: http://pandas.pydata.org/pandas-docs/stable/user_guide/indexing.html#returning-a-view-versus-a-copy\n",
      "  \n"
     ]
    }
   ],
   "source": [
    "social_media.iloc[:,1::2] -= 4 \n",
    "# Balanced\n",
    "social_media_score = np.sum(social_media.iloc[:,0::2].values * social_media.iloc[:,1::2].values,axis=1)\n",
    "# multiplying importance rating values and NORMALISED satisfaction rating values and summing the whole result for 1 row(feature engineering to reduce the no.of features)\n",
    "# multiplying the two dfs , we didnot do element wise multiplication here\n",
    "selected_data['social_media_score'] = social_media_score"
   ]
  },
  {
   "cell_type": "code",
   "execution_count": 112,
   "metadata": {},
   "outputs": [
    {
     "name": "stderr",
     "output_type": "stream",
     "text": [
      "/Applications/anaconda3/lib/python3.7/site-packages/ipykernel_launcher.py:6: SettingWithCopyWarning: \n",
      "A value is trying to be set on a copy of a slice from a DataFrame.\n",
      "Try using .loc[row_indexer,col_indexer] = value instead\n",
      "\n",
      "See the caveats in the documentation: http://pandas.pydata.org/pandas-docs/stable/user_guide/indexing.html#returning-a-view-versus-a-copy\n",
      "  \n"
     ]
    }
   ],
   "source": [
    "cards.iloc[:,1::2] -= 4 \n",
    "# Balanced\n",
    "cards_score = np.sum(cards.iloc[:,0::2].values * cards.iloc[:,1::2].values,axis=1)\n",
    "# multiplying importance rating values and NORMALISED satisfaction rating values and summing the whole result for 1 row(feature engineering to reduce the no.of features)\n",
    "# multiplying the two dfs , we didnot do element wise multiplication here\n",
    "selected_data['cards_score'] = cards_score"
   ]
  },
  {
   "cell_type": "code",
   "execution_count": 113,
   "metadata": {},
   "outputs": [
    {
     "name": "stderr",
     "output_type": "stream",
     "text": [
      "/Applications/anaconda3/lib/python3.7/site-packages/ipykernel_launcher.py:6: SettingWithCopyWarning: \n",
      "A value is trying to be set on a copy of a slice from a DataFrame.\n",
      "Try using .loc[row_indexer,col_indexer] = value instead\n",
      "\n",
      "See the caveats in the documentation: http://pandas.pydata.org/pandas-docs/stable/user_guide/indexing.html#returning-a-view-versus-a-copy\n",
      "  \n"
     ]
    }
   ],
   "source": [
    "exec_eff.iloc[:,1::2] -= 4 \n",
    "# Balanced\n",
    "exec_eff_score = np.sum(exec_eff.iloc[:,0::2].values * exec_eff.iloc[:,1::2].values,axis=1)\n",
    "# multiplying importance rating values and NORMALISED satisfaction rating values and summing the whole result for 1 row(feature engineering to reduce the no.of features)\n",
    "# multiplying the two dfs , we didnot do element wise multiplication here\n",
    "selected_data['exec_eff_score'] = exec_eff_score"
   ]
  },
  {
   "cell_type": "code",
   "execution_count": 114,
   "metadata": {},
   "outputs": [
    {
     "name": "stderr",
     "output_type": "stream",
     "text": [
      "/Applications/anaconda3/lib/python3.7/site-packages/ipykernel_launcher.py:6: SettingWithCopyWarning: \n",
      "A value is trying to be set on a copy of a slice from a DataFrame.\n",
      "Try using .loc[row_indexer,col_indexer] = value instead\n",
      "\n",
      "See the caveats in the documentation: http://pandas.pydata.org/pandas-docs/stable/user_guide/indexing.html#returning-a-view-versus-a-copy\n",
      "  \n"
     ]
    }
   ],
   "source": [
    "prod.iloc[:,1::2] -= 4 \n",
    "# Balanced\n",
    "prod_score = np.sum(prod.iloc[:,0::2].values * prod.iloc[:,1::2].values,axis=1)\n",
    "# multiplying importance rating values and NORMALISED satisfaction rating values and summing the whole result for 1 row(feature engineering to reduce the no.of features)\n",
    "# multiplying the two dfs , we didnot do element wise multiplication here\n",
    "selected_data['prod_score'] = prod_score"
   ]
  },
  {
   "cell_type": "code",
   "execution_count": 115,
   "metadata": {},
   "outputs": [
    {
     "name": "stderr",
     "output_type": "stream",
     "text": [
      "/Applications/anaconda3/lib/python3.7/site-packages/ipykernel_launcher.py:6: SettingWithCopyWarning: \n",
      "A value is trying to be set on a copy of a slice from a DataFrame.\n",
      "Try using .loc[row_indexer,col_indexer] = value instead\n",
      "\n",
      "See the caveats in the documentation: http://pandas.pydata.org/pandas-docs/stable/user_guide/indexing.html#returning-a-view-versus-a-copy\n",
      "  \n"
     ]
    }
   ],
   "source": [
    "ease_credit.iloc[:,1::2] -= 4 \n",
    "# Balanced\n",
    "ease_credit_score = np.sum(ease_credit.iloc[:,0::2].values * ease_credit.iloc[:,1::2].values,axis=1)\n",
    "# multiplying importance rating values and NORMALISED satisfaction rating values and summing the whole result for 1 row(feature engineering to reduce the no.of features)\n",
    "# multiplying the two dfs , we didnot do element wise multiplication here\n",
    "selected_data['ease_credit_score'] = ease_credit_score"
   ]
  },
  {
   "cell_type": "code",
   "execution_count": 116,
   "metadata": {},
   "outputs": [
    {
     "name": "stderr",
     "output_type": "stream",
     "text": [
      "/Applications/anaconda3/lib/python3.7/site-packages/ipykernel_launcher.py:6: SettingWithCopyWarning: \n",
      "A value is trying to be set on a copy of a slice from a DataFrame.\n",
      "Try using .loc[row_indexer,col_indexer] = value instead\n",
      "\n",
      "See the caveats in the documentation: http://pandas.pydata.org/pandas-docs/stable/user_guide/indexing.html#returning-a-view-versus-a-copy\n",
      "  \n"
     ]
    }
   ],
   "source": [
    "val_for_money.iloc[:,1::2] -= 4 \n",
    "# Balanced\n",
    "val_for_money_score = np.sum(val_for_money.iloc[:,0::2].values * val_for_money.iloc[:,1::2].values,axis=1)\n",
    "# multiplying importance rating values and NORMALISED satisfaction rating values and summing the whole result for 1 row(feature engineering to reduce the no.of features)\n",
    "# multiplying the two dfs , we didnot do element wise multiplication here\n",
    "selected_data['val_for_money_score'] = val_for_money_score"
   ]
  },
  {
   "cell_type": "code",
   "execution_count": 117,
   "metadata": {},
   "outputs": [
    {
     "data": {
      "text/plain": [
       "'we have converted all the 75 customer experience related columns into 13 columns, on the whole we reduced the\\nnumber of columns but the importance or weight given for individual features(now grouped into one) has been considered\\nand retained in the combined value of the final column.'"
      ]
     },
     "execution_count": 117,
     "metadata": {},
     "output_type": "execute_result"
    }
   ],
   "source": [
    "'''we have converted all the 75 customer experience related columns into 13 columns, on the whole we reduced the\n",
    "number of columns but the importance or weight given for individual features(now grouped into one) has been considered\n",
    "and retained in the combined value of the final column.'''"
   ]
  },
  {
   "cell_type": "code",
   "execution_count": 118,
   "metadata": {},
   "outputs": [
    {
     "name": "stderr",
     "output_type": "stream",
     "text": [
      "/Applications/anaconda3/lib/python3.7/site-packages/pandas/core/frame.py:4102: SettingWithCopyWarning: \n",
      "A value is trying to be set on a copy of a slice from a DataFrame\n",
      "\n",
      "See the caveats in the documentation: http://pandas.pydata.org/pandas-docs/stable/user_guide/indexing.html#returning-a-view-versus-a-copy\n",
      "  errors=errors,\n"
     ]
    }
   ],
   "source": [
    "selected_data.drop('No of Years ',axis=1,inplace=True)"
   ]
  },
  {
   "cell_type": "code",
   "execution_count": 119,
   "metadata": {},
   "outputs": [
    {
     "data": {
      "text/plain": [
       "Age                      260\n",
       "Gender                  2090\n",
       "Income                  1353\n",
       "FreqBra                 2694\n",
       "FreqATM                  733\n",
       "FreqPOS                 4092\n",
       "FreqInt                 3876\n",
       "FreqMob                 3566\n",
       "FreqUSSD                4579\n",
       "FreqTel                 4751\n",
       "cust_care_score         6277\n",
       "complaints_score        3938\n",
       "branches_score          6274\n",
       "ATMs_score              5165\n",
       "mob_banking_score      24380\n",
       "int_banking_score      27398\n",
       "call_centre_score      30456\n",
       "social_media_score     26599\n",
       "cards_score            16559\n",
       "exec_eff_score          5780\n",
       "prod_score              8731\n",
       "ease_credit_score      26341\n",
       "val_for_money_score     8603\n",
       "dtype: int64"
      ]
     },
     "execution_count": 119,
     "metadata": {},
     "output_type": "execute_result"
    }
   ],
   "source": [
    "selected_data.isnull().sum()"
   ]
  },
  {
   "cell_type": "code",
   "execution_count": 120,
   "metadata": {},
   "outputs": [
    {
     "data": {
      "text/plain": [
       "(42653, 23)"
      ]
     },
     "execution_count": 120,
     "metadata": {},
     "output_type": "execute_result"
    }
   ],
   "source": [
    "selected_data.shape"
   ]
  },
  {
   "cell_type": "markdown",
   "metadata": {},
   "source": [
    "#### Null value Treatment"
   ]
  },
  {
   "cell_type": "code",
   "execution_count": null,
   "metadata": {},
   "outputs": [],
   "source": [
    "'''\n",
    "drop these columns :-\n",
    "\n",
    "mob_banking_score,int_banking_score,call_centre_score,social_media_score,ease_credit_score as they have very high null\n",
    "values.\n",
    "\n",
    "'''"
   ]
  },
  {
   "cell_type": "code",
   "execution_count": 121,
   "metadata": {},
   "outputs": [],
   "source": [
    "### Drop mob_banking_score,int_banking_score,call_centre_score,social_media_score,ease_credit_score\n",
    "selected_data.drop(['mob_banking_score','int_banking_score','call_centre_score',\n",
    "                   'social_media_score','ease_credit_score'],axis=1,inplace=True)"
   ]
  },
  {
   "cell_type": "code",
   "execution_count": 122,
   "metadata": {},
   "outputs": [
    {
     "data": {
      "text/html": [
       "<div>\n",
       "<style scoped>\n",
       "    .dataframe tbody tr th:only-of-type {\n",
       "        vertical-align: middle;\n",
       "    }\n",
       "\n",
       "    .dataframe tbody tr th {\n",
       "        vertical-align: top;\n",
       "    }\n",
       "\n",
       "    .dataframe thead th {\n",
       "        text-align: right;\n",
       "    }\n",
       "</style>\n",
       "<table border=\"1\" class=\"dataframe\">\n",
       "  <thead>\n",
       "    <tr style=\"text-align: right;\">\n",
       "      <th></th>\n",
       "      <th>Age</th>\n",
       "      <th>Gender</th>\n",
       "      <th>Income</th>\n",
       "      <th>FreqBra</th>\n",
       "      <th>FreqATM</th>\n",
       "      <th>FreqPOS</th>\n",
       "      <th>FreqInt</th>\n",
       "      <th>FreqMob</th>\n",
       "      <th>FreqUSSD</th>\n",
       "      <th>FreqTel</th>\n",
       "      <th>cust_care_score</th>\n",
       "      <th>complaints_score</th>\n",
       "      <th>branches_score</th>\n",
       "      <th>ATMs_score</th>\n",
       "      <th>cards_score</th>\n",
       "      <th>exec_eff_score</th>\n",
       "      <th>prod_score</th>\n",
       "      <th>val_for_money_score</th>\n",
       "    </tr>\n",
       "  </thead>\n",
       "  <tbody>\n",
       "    <tr>\n",
       "      <td>0</td>\n",
       "      <td>33.0</td>\n",
       "      <td>NaN</td>\n",
       "      <td>75000.0</td>\n",
       "      <td>0.5</td>\n",
       "      <td>1.0</td>\n",
       "      <td>0.0</td>\n",
       "      <td>0.0</td>\n",
       "      <td>0.0</td>\n",
       "      <td>0.0</td>\n",
       "      <td>0.0</td>\n",
       "      <td>27.0</td>\n",
       "      <td>19.0</td>\n",
       "      <td>29.0</td>\n",
       "      <td>10.0</td>\n",
       "      <td>NaN</td>\n",
       "      <td>20.0</td>\n",
       "      <td>10.0</td>\n",
       "      <td>10.0</td>\n",
       "    </tr>\n",
       "    <tr>\n",
       "      <td>1</td>\n",
       "      <td>33.0</td>\n",
       "      <td>NaN</td>\n",
       "      <td>75000.0</td>\n",
       "      <td>0.5</td>\n",
       "      <td>1.0</td>\n",
       "      <td>0.0</td>\n",
       "      <td>0.0</td>\n",
       "      <td>0.0</td>\n",
       "      <td>0.0</td>\n",
       "      <td>0.0</td>\n",
       "      <td>NaN</td>\n",
       "      <td>NaN</td>\n",
       "      <td>NaN</td>\n",
       "      <td>NaN</td>\n",
       "      <td>NaN</td>\n",
       "      <td>NaN</td>\n",
       "      <td>NaN</td>\n",
       "      <td>NaN</td>\n",
       "    </tr>\n",
       "    <tr>\n",
       "      <td>2</td>\n",
       "      <td>33.0</td>\n",
       "      <td>NaN</td>\n",
       "      <td>25000.0</td>\n",
       "      <td>1.0</td>\n",
       "      <td>1.0</td>\n",
       "      <td>0.0</td>\n",
       "      <td>0.0</td>\n",
       "      <td>0.0</td>\n",
       "      <td>30.0</td>\n",
       "      <td>0.0</td>\n",
       "      <td>41.0</td>\n",
       "      <td>14.0</td>\n",
       "      <td>34.0</td>\n",
       "      <td>68.0</td>\n",
       "      <td>NaN</td>\n",
       "      <td>40.0</td>\n",
       "      <td>20.0</td>\n",
       "      <td>NaN</td>\n",
       "    </tr>\n",
       "    <tr>\n",
       "      <td>3</td>\n",
       "      <td>33.0</td>\n",
       "      <td>NaN</td>\n",
       "      <td>25000.0</td>\n",
       "      <td>1.0</td>\n",
       "      <td>1.0</td>\n",
       "      <td>0.0</td>\n",
       "      <td>0.0</td>\n",
       "      <td>0.0</td>\n",
       "      <td>30.0</td>\n",
       "      <td>0.0</td>\n",
       "      <td>11.0</td>\n",
       "      <td>-6.0</td>\n",
       "      <td>-49.0</td>\n",
       "      <td>11.0</td>\n",
       "      <td>NaN</td>\n",
       "      <td>20.0</td>\n",
       "      <td>0.0</td>\n",
       "      <td>NaN</td>\n",
       "    </tr>\n",
       "    <tr>\n",
       "      <td>4</td>\n",
       "      <td>25.5</td>\n",
       "      <td>0.0</td>\n",
       "      <td>25000.0</td>\n",
       "      <td>1.0</td>\n",
       "      <td>4.0</td>\n",
       "      <td>0.5</td>\n",
       "      <td>0.5</td>\n",
       "      <td>0.5</td>\n",
       "      <td>0.5</td>\n",
       "      <td>0.0</td>\n",
       "      <td>24.0</td>\n",
       "      <td>0.0</td>\n",
       "      <td>0.0</td>\n",
       "      <td>0.0</td>\n",
       "      <td>0.0</td>\n",
       "      <td>0.0</td>\n",
       "      <td>0.0</td>\n",
       "      <td>0.0</td>\n",
       "    </tr>\n",
       "  </tbody>\n",
       "</table>\n",
       "</div>"
      ],
      "text/plain": [
       "    Age  Gender   Income  FreqBra  FreqATM  FreqPOS  FreqInt  FreqMob  \\\n",
       "0  33.0     NaN  75000.0      0.5      1.0      0.0      0.0      0.0   \n",
       "1  33.0     NaN  75000.0      0.5      1.0      0.0      0.0      0.0   \n",
       "2  33.0     NaN  25000.0      1.0      1.0      0.0      0.0      0.0   \n",
       "3  33.0     NaN  25000.0      1.0      1.0      0.0      0.0      0.0   \n",
       "4  25.5     0.0  25000.0      1.0      4.0      0.5      0.5      0.5   \n",
       "\n",
       "   FreqUSSD  FreqTel  cust_care_score  complaints_score  branches_score  \\\n",
       "0       0.0      0.0             27.0              19.0            29.0   \n",
       "1       0.0      0.0              NaN               NaN             NaN   \n",
       "2      30.0      0.0             41.0              14.0            34.0   \n",
       "3      30.0      0.0             11.0              -6.0           -49.0   \n",
       "4       0.5      0.0             24.0               0.0             0.0   \n",
       "\n",
       "   ATMs_score  cards_score  exec_eff_score  prod_score  val_for_money_score  \n",
       "0        10.0          NaN            20.0        10.0                 10.0  \n",
       "1         NaN          NaN             NaN         NaN                  NaN  \n",
       "2        68.0          NaN            40.0        20.0                  NaN  \n",
       "3        11.0          NaN            20.0         0.0                  NaN  \n",
       "4         0.0          0.0             0.0         0.0                  0.0  "
      ]
     },
     "execution_count": 122,
     "metadata": {},
     "output_type": "execute_result"
    }
   ],
   "source": [
    "selected_data.head()"
   ]
  },
  {
   "cell_type": "code",
   "execution_count": 123,
   "metadata": {},
   "outputs": [
    {
     "data": {
      "text/plain": [
       "(42653, 18)"
      ]
     },
     "execution_count": 123,
     "metadata": {},
     "output_type": "execute_result"
    }
   ],
   "source": [
    "selected_data.shape"
   ]
  },
  {
   "cell_type": "code",
   "execution_count": 124,
   "metadata": {},
   "outputs": [
    {
     "name": "stderr",
     "output_type": "stream",
     "text": [
      "/Applications/anaconda3/lib/python3.7/site-packages/pandas/core/generic.py:6287: SettingWithCopyWarning: \n",
      "A value is trying to be set on a copy of a slice from a DataFrame\n",
      "\n",
      "See the caveats in the documentation: http://pandas.pydata.org/pandas-docs/stable/user_guide/indexing.html#returning-a-view-versus-a-copy\n",
      "  self._update_inplace(new_data)\n"
     ]
    }
   ],
   "source": [
    "# replace the other columns' null values with median values\n",
    "selected_data['Age'].fillna(selected_data['Age'].median(),inplace=True)\n",
    "selected_data['Gender'].fillna(selected_data['Gender'].median(),inplace=True)\n",
    "selected_data['Income'].fillna(selected_data['Income'].median(),inplace=True)\n",
    "selected_data['FreqBra'].fillna(selected_data['FreqBra'].median(),inplace=True)\n",
    "selected_data['FreqATM'].fillna(selected_data['FreqATM'].median(),inplace=True)\n",
    "selected_data['FreqPOS'].fillna(selected_data['FreqPOS'].median(),inplace=True)\n",
    "selected_data['FreqInt'].fillna(selected_data['FreqInt'].median(),inplace=True)\n",
    "selected_data['FreqMob'].fillna(selected_data['FreqMob'].median(),inplace=True)\n",
    "selected_data['FreqUSSD'].fillna(selected_data['FreqUSSD'].median(),inplace=True)\n",
    "selected_data['FreqTel'].fillna(selected_data['FreqTel'].median(),inplace=True)\n",
    "selected_data['cust_care_score'].fillna(selected_data['cust_care_score'].median(),inplace=True)\n",
    "selected_data['branches_score'].fillna(selected_data['branches_score'].median(),inplace=True)\n",
    "selected_data['complaints_score'].fillna(selected_data['complaints_score'].median(),inplace=True)\n",
    "selected_data['ATMs_score'].fillna(selected_data['ATMs_score'].median(),inplace=True)\n",
    "selected_data['cards_score'].fillna(selected_data['cards_score'].median(),inplace=True)\n",
    "selected_data['exec_eff_score'].fillna(selected_data['exec_eff_score'].median(),inplace=True)\n",
    "selected_data['prod_score'].fillna(selected_data['prod_score'].median(),inplace=True)\n",
    "selected_data['val_for_money_score'].fillna(selected_data['val_for_money_score'].median(),inplace=True)\n"
   ]
  },
  {
   "cell_type": "code",
   "execution_count": 125,
   "metadata": {},
   "outputs": [
    {
     "data": {
      "text/plain": [
       "Age                    0\n",
       "Gender                 0\n",
       "Income                 0\n",
       "FreqBra                0\n",
       "FreqATM                0\n",
       "FreqPOS                0\n",
       "FreqInt                0\n",
       "FreqMob                0\n",
       "FreqUSSD               0\n",
       "FreqTel                0\n",
       "cust_care_score        0\n",
       "complaints_score       0\n",
       "branches_score         0\n",
       "ATMs_score             0\n",
       "cards_score            0\n",
       "exec_eff_score         0\n",
       "prod_score             0\n",
       "val_for_money_score    0\n",
       "dtype: int64"
      ]
     },
     "execution_count": 125,
     "metadata": {},
     "output_type": "execute_result"
    }
   ],
   "source": [
    "selected_data.isnull().sum()"
   ]
  },
  {
   "cell_type": "markdown",
   "metadata": {},
   "source": [
    "### scaling the dataset using standard scaler\n"
   ]
  },
  {
   "cell_type": "code",
   "execution_count": 126,
   "metadata": {},
   "outputs": [],
   "source": [
    "from sklearn.preprocessing import StandardScaler\n",
    "\n",
    "std_scaler = StandardScaler()\n",
    "std_scaler.fit(selected_data)\n",
    "selected_data_std = std_scaler.transform(selected_data)\n",
    "selected_data_std_df = pd.DataFrame(selected_data_std, columns=selected_data.columns)"
   ]
  },
  {
   "cell_type": "code",
   "execution_count": 127,
   "metadata": {},
   "outputs": [
    {
     "data": {
      "text/html": [
       "<div>\n",
       "<style scoped>\n",
       "    .dataframe tbody tr th:only-of-type {\n",
       "        vertical-align: middle;\n",
       "    }\n",
       "\n",
       "    .dataframe tbody tr th {\n",
       "        vertical-align: top;\n",
       "    }\n",
       "\n",
       "    .dataframe thead th {\n",
       "        text-align: right;\n",
       "    }\n",
       "</style>\n",
       "<table border=\"1\" class=\"dataframe\">\n",
       "  <thead>\n",
       "    <tr style=\"text-align: right;\">\n",
       "      <th></th>\n",
       "      <th>Age</th>\n",
       "      <th>Gender</th>\n",
       "      <th>Income</th>\n",
       "      <th>FreqBra</th>\n",
       "      <th>FreqATM</th>\n",
       "      <th>FreqPOS</th>\n",
       "      <th>FreqInt</th>\n",
       "      <th>FreqMob</th>\n",
       "      <th>FreqUSSD</th>\n",
       "      <th>FreqTel</th>\n",
       "      <th>cust_care_score</th>\n",
       "      <th>complaints_score</th>\n",
       "      <th>branches_score</th>\n",
       "      <th>ATMs_score</th>\n",
       "      <th>cards_score</th>\n",
       "      <th>exec_eff_score</th>\n",
       "      <th>prod_score</th>\n",
       "      <th>val_for_money_score</th>\n",
       "    </tr>\n",
       "  </thead>\n",
       "  <tbody>\n",
       "    <tr>\n",
       "      <td>0</td>\n",
       "      <td>0.055316</td>\n",
       "      <td>-0.888122</td>\n",
       "      <td>-0.154642</td>\n",
       "      <td>-0.390719</td>\n",
       "      <td>-0.606977</td>\n",
       "      <td>-0.336043</td>\n",
       "      <td>-0.346268</td>\n",
       "      <td>-0.417330</td>\n",
       "      <td>-0.360473</td>\n",
       "      <td>-0.176579</td>\n",
       "      <td>-0.315818</td>\n",
       "      <td>0.023288</td>\n",
       "      <td>-0.403732</td>\n",
       "      <td>-0.860041</td>\n",
       "      <td>-0.058237</td>\n",
       "      <td>-0.129789</td>\n",
       "      <td>-0.376840</td>\n",
       "      <td>0.106650</td>\n",
       "    </tr>\n",
       "    <tr>\n",
       "      <td>1</td>\n",
       "      <td>0.055316</td>\n",
       "      <td>-0.888122</td>\n",
       "      <td>-0.154642</td>\n",
       "      <td>-0.390719</td>\n",
       "      <td>-0.606977</td>\n",
       "      <td>-0.336043</td>\n",
       "      <td>-0.346268</td>\n",
       "      <td>-0.417330</td>\n",
       "      <td>-0.360473</td>\n",
       "      <td>-0.176579</td>\n",
       "      <td>-0.036518</td>\n",
       "      <td>0.023288</td>\n",
       "      <td>-0.031743</td>\n",
       "      <td>-0.032222</td>\n",
       "      <td>-0.058237</td>\n",
       "      <td>-0.129789</td>\n",
       "      <td>0.011539</td>\n",
       "      <td>0.106650</td>\n",
       "    </tr>\n",
       "    <tr>\n",
       "      <td>2</td>\n",
       "      <td>0.055316</td>\n",
       "      <td>-0.888122</td>\n",
       "      <td>-0.463752</td>\n",
       "      <td>-0.308044</td>\n",
       "      <td>-0.606977</td>\n",
       "      <td>-0.336043</td>\n",
       "      <td>-0.346268</td>\n",
       "      <td>-0.417330</td>\n",
       "      <td>3.591691</td>\n",
       "      <td>-0.176579</td>\n",
       "      <td>0.118649</td>\n",
       "      <td>-0.227007</td>\n",
       "      <td>-0.294323</td>\n",
       "      <td>0.740408</td>\n",
       "      <td>-0.058237</td>\n",
       "      <td>0.942374</td>\n",
       "      <td>0.177987</td>\n",
       "      <td>0.106650</td>\n",
       "    </tr>\n",
       "    <tr>\n",
       "      <td>3</td>\n",
       "      <td>0.055316</td>\n",
       "      <td>-0.888122</td>\n",
       "      <td>-0.463752</td>\n",
       "      <td>-0.308044</td>\n",
       "      <td>-0.606977</td>\n",
       "      <td>-0.336043</td>\n",
       "      <td>-0.346268</td>\n",
       "      <td>-0.417330</td>\n",
       "      <td>3.591691</td>\n",
       "      <td>-0.176579</td>\n",
       "      <td>-0.812350</td>\n",
       "      <td>-1.228189</td>\n",
       "      <td>-2.110504</td>\n",
       "      <td>-0.832447</td>\n",
       "      <td>-0.058237</td>\n",
       "      <td>-0.129789</td>\n",
       "      <td>-0.931667</td>\n",
       "      <td>0.106650</td>\n",
       "    </tr>\n",
       "    <tr>\n",
       "      <td>4</td>\n",
       "      <td>-0.644509</td>\n",
       "      <td>-0.888122</td>\n",
       "      <td>-0.463752</td>\n",
       "      <td>-0.308044</td>\n",
       "      <td>-0.284271</td>\n",
       "      <td>-0.236595</td>\n",
       "      <td>-0.274348</td>\n",
       "      <td>-0.355767</td>\n",
       "      <td>-0.294603</td>\n",
       "      <td>-0.176579</td>\n",
       "      <td>-0.408917</td>\n",
       "      <td>-0.927835</td>\n",
       "      <td>-1.038301</td>\n",
       "      <td>-1.135980</td>\n",
       "      <td>-1.410690</td>\n",
       "      <td>-1.201953</td>\n",
       "      <td>-0.931667</td>\n",
       "      <td>-0.783939</td>\n",
       "    </tr>\n",
       "  </tbody>\n",
       "</table>\n",
       "</div>"
      ],
      "text/plain": [
       "        Age    Gender    Income   FreqBra   FreqATM   FreqPOS   FreqInt  \\\n",
       "0  0.055316 -0.888122 -0.154642 -0.390719 -0.606977 -0.336043 -0.346268   \n",
       "1  0.055316 -0.888122 -0.154642 -0.390719 -0.606977 -0.336043 -0.346268   \n",
       "2  0.055316 -0.888122 -0.463752 -0.308044 -0.606977 -0.336043 -0.346268   \n",
       "3  0.055316 -0.888122 -0.463752 -0.308044 -0.606977 -0.336043 -0.346268   \n",
       "4 -0.644509 -0.888122 -0.463752 -0.308044 -0.284271 -0.236595 -0.274348   \n",
       "\n",
       "    FreqMob  FreqUSSD   FreqTel  cust_care_score  complaints_score  \\\n",
       "0 -0.417330 -0.360473 -0.176579        -0.315818          0.023288   \n",
       "1 -0.417330 -0.360473 -0.176579        -0.036518          0.023288   \n",
       "2 -0.417330  3.591691 -0.176579         0.118649         -0.227007   \n",
       "3 -0.417330  3.591691 -0.176579        -0.812350         -1.228189   \n",
       "4 -0.355767 -0.294603 -0.176579        -0.408917         -0.927835   \n",
       "\n",
       "   branches_score  ATMs_score  cards_score  exec_eff_score  prod_score  \\\n",
       "0       -0.403732   -0.860041    -0.058237       -0.129789   -0.376840   \n",
       "1       -0.031743   -0.032222    -0.058237       -0.129789    0.011539   \n",
       "2       -0.294323    0.740408    -0.058237        0.942374    0.177987   \n",
       "3       -2.110504   -0.832447    -0.058237       -0.129789   -0.931667   \n",
       "4       -1.038301   -1.135980    -1.410690       -1.201953   -0.931667   \n",
       "\n",
       "   val_for_money_score  \n",
       "0             0.106650  \n",
       "1             0.106650  \n",
       "2             0.106650  \n",
       "3             0.106650  \n",
       "4            -0.783939  "
      ]
     },
     "execution_count": 127,
     "metadata": {},
     "output_type": "execute_result"
    }
   ],
   "source": [
    "selected_data_std_df.head()"
   ]
  },
  {
   "cell_type": "markdown",
   "metadata": {},
   "source": [
    "### lets check the corelation"
   ]
  },
  {
   "cell_type": "code",
   "execution_count": 128,
   "metadata": {},
   "outputs": [
    {
     "data": {
      "text/html": [
       "<div>\n",
       "<style scoped>\n",
       "    .dataframe tbody tr th:only-of-type {\n",
       "        vertical-align: middle;\n",
       "    }\n",
       "\n",
       "    .dataframe tbody tr th {\n",
       "        vertical-align: top;\n",
       "    }\n",
       "\n",
       "    .dataframe thead th {\n",
       "        text-align: right;\n",
       "    }\n",
       "</style>\n",
       "<table border=\"1\" class=\"dataframe\">\n",
       "  <thead>\n",
       "    <tr style=\"text-align: right;\">\n",
       "      <th></th>\n",
       "      <th>Age</th>\n",
       "      <th>Gender</th>\n",
       "      <th>Income</th>\n",
       "      <th>FreqBra</th>\n",
       "      <th>FreqATM</th>\n",
       "      <th>FreqPOS</th>\n",
       "      <th>FreqInt</th>\n",
       "      <th>FreqMob</th>\n",
       "      <th>FreqUSSD</th>\n",
       "      <th>FreqTel</th>\n",
       "      <th>cust_care_score</th>\n",
       "      <th>complaints_score</th>\n",
       "      <th>branches_score</th>\n",
       "      <th>ATMs_score</th>\n",
       "      <th>cards_score</th>\n",
       "      <th>exec_eff_score</th>\n",
       "      <th>prod_score</th>\n",
       "      <th>val_for_money_score</th>\n",
       "    </tr>\n",
       "  </thead>\n",
       "  <tbody>\n",
       "    <tr>\n",
       "      <td>Age</td>\n",
       "      <td>1.000000</td>\n",
       "      <td>-0.080550</td>\n",
       "      <td>0.342376</td>\n",
       "      <td>0.057804</td>\n",
       "      <td>-0.033629</td>\n",
       "      <td>0.002245</td>\n",
       "      <td>-0.013805</td>\n",
       "      <td>-0.042145</td>\n",
       "      <td>-0.036192</td>\n",
       "      <td>0.005896</td>\n",
       "      <td>0.083662</td>\n",
       "      <td>0.065955</td>\n",
       "      <td>0.040205</td>\n",
       "      <td>0.029272</td>\n",
       "      <td>0.054183</td>\n",
       "      <td>0.042630</td>\n",
       "      <td>0.046929</td>\n",
       "      <td>0.045099</td>\n",
       "    </tr>\n",
       "    <tr>\n",
       "      <td>Gender</td>\n",
       "      <td>-0.080550</td>\n",
       "      <td>1.000000</td>\n",
       "      <td>-0.087575</td>\n",
       "      <td>-0.038030</td>\n",
       "      <td>-0.047377</td>\n",
       "      <td>-0.026265</td>\n",
       "      <td>-0.046804</td>\n",
       "      <td>-0.042373</td>\n",
       "      <td>-0.012661</td>\n",
       "      <td>-0.015342</td>\n",
       "      <td>-0.012434</td>\n",
       "      <td>-0.005565</td>\n",
       "      <td>-0.003490</td>\n",
       "      <td>-0.000033</td>\n",
       "      <td>-0.009465</td>\n",
       "      <td>-0.007459</td>\n",
       "      <td>0.000728</td>\n",
       "      <td>0.012759</td>\n",
       "    </tr>\n",
       "    <tr>\n",
       "      <td>Income</td>\n",
       "      <td>0.342376</td>\n",
       "      <td>-0.087575</td>\n",
       "      <td>1.000000</td>\n",
       "      <td>0.115216</td>\n",
       "      <td>0.075901</td>\n",
       "      <td>0.125231</td>\n",
       "      <td>0.094470</td>\n",
       "      <td>0.098765</td>\n",
       "      <td>0.059038</td>\n",
       "      <td>0.050451</td>\n",
       "      <td>0.058198</td>\n",
       "      <td>0.043804</td>\n",
       "      <td>0.035281</td>\n",
       "      <td>0.027826</td>\n",
       "      <td>0.034972</td>\n",
       "      <td>0.029577</td>\n",
       "      <td>0.037856</td>\n",
       "      <td>0.021932</td>\n",
       "    </tr>\n",
       "    <tr>\n",
       "      <td>FreqBra</td>\n",
       "      <td>0.057804</td>\n",
       "      <td>-0.038030</td>\n",
       "      <td>0.115216</td>\n",
       "      <td>1.000000</td>\n",
       "      <td>0.185618</td>\n",
       "      <td>0.105754</td>\n",
       "      <td>0.100542</td>\n",
       "      <td>0.069096</td>\n",
       "      <td>0.061468</td>\n",
       "      <td>0.093117</td>\n",
       "      <td>0.027904</td>\n",
       "      <td>0.013159</td>\n",
       "      <td>0.024927</td>\n",
       "      <td>0.005552</td>\n",
       "      <td>0.007914</td>\n",
       "      <td>-0.008400</td>\n",
       "      <td>0.015828</td>\n",
       "      <td>0.012451</td>\n",
       "    </tr>\n",
       "    <tr>\n",
       "      <td>FreqATM</td>\n",
       "      <td>-0.033629</td>\n",
       "      <td>-0.047377</td>\n",
       "      <td>0.075901</td>\n",
       "      <td>0.185618</td>\n",
       "      <td>1.000000</td>\n",
       "      <td>0.210538</td>\n",
       "      <td>0.199217</td>\n",
       "      <td>0.198014</td>\n",
       "      <td>0.110756</td>\n",
       "      <td>0.101644</td>\n",
       "      <td>0.012637</td>\n",
       "      <td>-0.001094</td>\n",
       "      <td>0.010008</td>\n",
       "      <td>0.014311</td>\n",
       "      <td>0.014124</td>\n",
       "      <td>-0.017920</td>\n",
       "      <td>-0.014247</td>\n",
       "      <td>-0.022766</td>\n",
       "    </tr>\n",
       "    <tr>\n",
       "      <td>FreqPOS</td>\n",
       "      <td>0.002245</td>\n",
       "      <td>-0.026265</td>\n",
       "      <td>0.125231</td>\n",
       "      <td>0.105754</td>\n",
       "      <td>0.210538</td>\n",
       "      <td>1.000000</td>\n",
       "      <td>0.233572</td>\n",
       "      <td>0.213975</td>\n",
       "      <td>0.130646</td>\n",
       "      <td>0.196792</td>\n",
       "      <td>0.022548</td>\n",
       "      <td>0.008211</td>\n",
       "      <td>0.025508</td>\n",
       "      <td>0.010801</td>\n",
       "      <td>0.017976</td>\n",
       "      <td>0.006773</td>\n",
       "      <td>0.001614</td>\n",
       "      <td>-0.017675</td>\n",
       "    </tr>\n",
       "    <tr>\n",
       "      <td>FreqInt</td>\n",
       "      <td>-0.013805</td>\n",
       "      <td>-0.046804</td>\n",
       "      <td>0.094470</td>\n",
       "      <td>0.100542</td>\n",
       "      <td>0.199217</td>\n",
       "      <td>0.233572</td>\n",
       "      <td>1.000000</td>\n",
       "      <td>0.474781</td>\n",
       "      <td>0.177711</td>\n",
       "      <td>0.186705</td>\n",
       "      <td>-0.008674</td>\n",
       "      <td>-0.008386</td>\n",
       "      <td>-0.007707</td>\n",
       "      <td>-0.019558</td>\n",
       "      <td>-0.005011</td>\n",
       "      <td>-0.029071</td>\n",
       "      <td>-0.019263</td>\n",
       "      <td>-0.039136</td>\n",
       "    </tr>\n",
       "    <tr>\n",
       "      <td>FreqMob</td>\n",
       "      <td>-0.042145</td>\n",
       "      <td>-0.042373</td>\n",
       "      <td>0.098765</td>\n",
       "      <td>0.069096</td>\n",
       "      <td>0.198014</td>\n",
       "      <td>0.213975</td>\n",
       "      <td>0.474781</td>\n",
       "      <td>1.000000</td>\n",
       "      <td>0.248580</td>\n",
       "      <td>0.176737</td>\n",
       "      <td>0.003155</td>\n",
       "      <td>0.008085</td>\n",
       "      <td>-0.001550</td>\n",
       "      <td>-0.018183</td>\n",
       "      <td>0.021756</td>\n",
       "      <td>-0.009017</td>\n",
       "      <td>-0.001503</td>\n",
       "      <td>-0.027278</td>\n",
       "    </tr>\n",
       "    <tr>\n",
       "      <td>FreqUSSD</td>\n",
       "      <td>-0.036192</td>\n",
       "      <td>-0.012661</td>\n",
       "      <td>0.059038</td>\n",
       "      <td>0.061468</td>\n",
       "      <td>0.110756</td>\n",
       "      <td>0.130646</td>\n",
       "      <td>0.177711</td>\n",
       "      <td>0.248580</td>\n",
       "      <td>1.000000</td>\n",
       "      <td>0.204717</td>\n",
       "      <td>0.036619</td>\n",
       "      <td>0.026927</td>\n",
       "      <td>0.006553</td>\n",
       "      <td>0.002593</td>\n",
       "      <td>0.030779</td>\n",
       "      <td>0.011889</td>\n",
       "      <td>0.006487</td>\n",
       "      <td>-0.003521</td>\n",
       "    </tr>\n",
       "    <tr>\n",
       "      <td>FreqTel</td>\n",
       "      <td>0.005896</td>\n",
       "      <td>-0.015342</td>\n",
       "      <td>0.050451</td>\n",
       "      <td>0.093117</td>\n",
       "      <td>0.101644</td>\n",
       "      <td>0.196792</td>\n",
       "      <td>0.186705</td>\n",
       "      <td>0.176737</td>\n",
       "      <td>0.204717</td>\n",
       "      <td>1.000000</td>\n",
       "      <td>-0.002705</td>\n",
       "      <td>-0.004215</td>\n",
       "      <td>0.005210</td>\n",
       "      <td>-0.004245</td>\n",
       "      <td>0.000095</td>\n",
       "      <td>-0.011562</td>\n",
       "      <td>-0.010621</td>\n",
       "      <td>-0.006214</td>\n",
       "    </tr>\n",
       "    <tr>\n",
       "      <td>cust_care_score</td>\n",
       "      <td>0.083662</td>\n",
       "      <td>-0.012434</td>\n",
       "      <td>0.058198</td>\n",
       "      <td>0.027904</td>\n",
       "      <td>0.012637</td>\n",
       "      <td>0.022548</td>\n",
       "      <td>-0.008674</td>\n",
       "      <td>0.003155</td>\n",
       "      <td>0.036619</td>\n",
       "      <td>-0.002705</td>\n",
       "      <td>1.000000</td>\n",
       "      <td>0.597788</td>\n",
       "      <td>0.535442</td>\n",
       "      <td>0.454583</td>\n",
       "      <td>0.367522</td>\n",
       "      <td>0.389506</td>\n",
       "      <td>0.404721</td>\n",
       "      <td>0.347226</td>\n",
       "    </tr>\n",
       "    <tr>\n",
       "      <td>complaints_score</td>\n",
       "      <td>0.065955</td>\n",
       "      <td>-0.005565</td>\n",
       "      <td>0.043804</td>\n",
       "      <td>0.013159</td>\n",
       "      <td>-0.001094</td>\n",
       "      <td>0.008211</td>\n",
       "      <td>-0.008386</td>\n",
       "      <td>0.008085</td>\n",
       "      <td>0.026927</td>\n",
       "      <td>-0.004215</td>\n",
       "      <td>0.597788</td>\n",
       "      <td>1.000000</td>\n",
       "      <td>0.517670</td>\n",
       "      <td>0.432613</td>\n",
       "      <td>0.344915</td>\n",
       "      <td>0.380023</td>\n",
       "      <td>0.404141</td>\n",
       "      <td>0.358019</td>\n",
       "    </tr>\n",
       "    <tr>\n",
       "      <td>branches_score</td>\n",
       "      <td>0.040205</td>\n",
       "      <td>-0.003490</td>\n",
       "      <td>0.035281</td>\n",
       "      <td>0.024927</td>\n",
       "      <td>0.010008</td>\n",
       "      <td>0.025508</td>\n",
       "      <td>-0.007707</td>\n",
       "      <td>-0.001550</td>\n",
       "      <td>0.006553</td>\n",
       "      <td>0.005210</td>\n",
       "      <td>0.535442</td>\n",
       "      <td>0.517670</td>\n",
       "      <td>1.000000</td>\n",
       "      <td>0.555092</td>\n",
       "      <td>0.386068</td>\n",
       "      <td>0.411338</td>\n",
       "      <td>0.436339</td>\n",
       "      <td>0.383110</td>\n",
       "    </tr>\n",
       "    <tr>\n",
       "      <td>ATMs_score</td>\n",
       "      <td>0.029272</td>\n",
       "      <td>-0.000033</td>\n",
       "      <td>0.027826</td>\n",
       "      <td>0.005552</td>\n",
       "      <td>0.014311</td>\n",
       "      <td>0.010801</td>\n",
       "      <td>-0.019558</td>\n",
       "      <td>-0.018183</td>\n",
       "      <td>0.002593</td>\n",
       "      <td>-0.004245</td>\n",
       "      <td>0.454583</td>\n",
       "      <td>0.432613</td>\n",
       "      <td>0.555092</td>\n",
       "      <td>1.000000</td>\n",
       "      <td>0.380734</td>\n",
       "      <td>0.402067</td>\n",
       "      <td>0.396079</td>\n",
       "      <td>0.343021</td>\n",
       "    </tr>\n",
       "    <tr>\n",
       "      <td>cards_score</td>\n",
       "      <td>0.054183</td>\n",
       "      <td>-0.009465</td>\n",
       "      <td>0.034972</td>\n",
       "      <td>0.007914</td>\n",
       "      <td>0.014124</td>\n",
       "      <td>0.017976</td>\n",
       "      <td>-0.005011</td>\n",
       "      <td>0.021756</td>\n",
       "      <td>0.030779</td>\n",
       "      <td>0.000095</td>\n",
       "      <td>0.367522</td>\n",
       "      <td>0.344915</td>\n",
       "      <td>0.386068</td>\n",
       "      <td>0.380734</td>\n",
       "      <td>1.000000</td>\n",
       "      <td>0.445316</td>\n",
       "      <td>0.385127</td>\n",
       "      <td>0.302628</td>\n",
       "    </tr>\n",
       "    <tr>\n",
       "      <td>exec_eff_score</td>\n",
       "      <td>0.042630</td>\n",
       "      <td>-0.007459</td>\n",
       "      <td>0.029577</td>\n",
       "      <td>-0.008400</td>\n",
       "      <td>-0.017920</td>\n",
       "      <td>0.006773</td>\n",
       "      <td>-0.029071</td>\n",
       "      <td>-0.009017</td>\n",
       "      <td>0.011889</td>\n",
       "      <td>-0.011562</td>\n",
       "      <td>0.389506</td>\n",
       "      <td>0.380023</td>\n",
       "      <td>0.411338</td>\n",
       "      <td>0.402067</td>\n",
       "      <td>0.445316</td>\n",
       "      <td>1.000000</td>\n",
       "      <td>0.544510</td>\n",
       "      <td>0.433768</td>\n",
       "    </tr>\n",
       "    <tr>\n",
       "      <td>prod_score</td>\n",
       "      <td>0.046929</td>\n",
       "      <td>0.000728</td>\n",
       "      <td>0.037856</td>\n",
       "      <td>0.015828</td>\n",
       "      <td>-0.014247</td>\n",
       "      <td>0.001614</td>\n",
       "      <td>-0.019263</td>\n",
       "      <td>-0.001503</td>\n",
       "      <td>0.006487</td>\n",
       "      <td>-0.010621</td>\n",
       "      <td>0.404721</td>\n",
       "      <td>0.404141</td>\n",
       "      <td>0.436339</td>\n",
       "      <td>0.396079</td>\n",
       "      <td>0.385127</td>\n",
       "      <td>0.544510</td>\n",
       "      <td>1.000000</td>\n",
       "      <td>0.521089</td>\n",
       "    </tr>\n",
       "    <tr>\n",
       "      <td>val_for_money_score</td>\n",
       "      <td>0.045099</td>\n",
       "      <td>0.012759</td>\n",
       "      <td>0.021932</td>\n",
       "      <td>0.012451</td>\n",
       "      <td>-0.022766</td>\n",
       "      <td>-0.017675</td>\n",
       "      <td>-0.039136</td>\n",
       "      <td>-0.027278</td>\n",
       "      <td>-0.003521</td>\n",
       "      <td>-0.006214</td>\n",
       "      <td>0.347226</td>\n",
       "      <td>0.358019</td>\n",
       "      <td>0.383110</td>\n",
       "      <td>0.343021</td>\n",
       "      <td>0.302628</td>\n",
       "      <td>0.433768</td>\n",
       "      <td>0.521089</td>\n",
       "      <td>1.000000</td>\n",
       "    </tr>\n",
       "  </tbody>\n",
       "</table>\n",
       "</div>"
      ],
      "text/plain": [
       "                          Age    Gender    Income   FreqBra   FreqATM  \\\n",
       "Age                  1.000000 -0.080550  0.342376  0.057804 -0.033629   \n",
       "Gender              -0.080550  1.000000 -0.087575 -0.038030 -0.047377   \n",
       "Income               0.342376 -0.087575  1.000000  0.115216  0.075901   \n",
       "FreqBra              0.057804 -0.038030  0.115216  1.000000  0.185618   \n",
       "FreqATM             -0.033629 -0.047377  0.075901  0.185618  1.000000   \n",
       "FreqPOS              0.002245 -0.026265  0.125231  0.105754  0.210538   \n",
       "FreqInt             -0.013805 -0.046804  0.094470  0.100542  0.199217   \n",
       "FreqMob             -0.042145 -0.042373  0.098765  0.069096  0.198014   \n",
       "FreqUSSD            -0.036192 -0.012661  0.059038  0.061468  0.110756   \n",
       "FreqTel              0.005896 -0.015342  0.050451  0.093117  0.101644   \n",
       "cust_care_score      0.083662 -0.012434  0.058198  0.027904  0.012637   \n",
       "complaints_score     0.065955 -0.005565  0.043804  0.013159 -0.001094   \n",
       "branches_score       0.040205 -0.003490  0.035281  0.024927  0.010008   \n",
       "ATMs_score           0.029272 -0.000033  0.027826  0.005552  0.014311   \n",
       "cards_score          0.054183 -0.009465  0.034972  0.007914  0.014124   \n",
       "exec_eff_score       0.042630 -0.007459  0.029577 -0.008400 -0.017920   \n",
       "prod_score           0.046929  0.000728  0.037856  0.015828 -0.014247   \n",
       "val_for_money_score  0.045099  0.012759  0.021932  0.012451 -0.022766   \n",
       "\n",
       "                      FreqPOS   FreqInt   FreqMob  FreqUSSD   FreqTel  \\\n",
       "Age                  0.002245 -0.013805 -0.042145 -0.036192  0.005896   \n",
       "Gender              -0.026265 -0.046804 -0.042373 -0.012661 -0.015342   \n",
       "Income               0.125231  0.094470  0.098765  0.059038  0.050451   \n",
       "FreqBra              0.105754  0.100542  0.069096  0.061468  0.093117   \n",
       "FreqATM              0.210538  0.199217  0.198014  0.110756  0.101644   \n",
       "FreqPOS              1.000000  0.233572  0.213975  0.130646  0.196792   \n",
       "FreqInt              0.233572  1.000000  0.474781  0.177711  0.186705   \n",
       "FreqMob              0.213975  0.474781  1.000000  0.248580  0.176737   \n",
       "FreqUSSD             0.130646  0.177711  0.248580  1.000000  0.204717   \n",
       "FreqTel              0.196792  0.186705  0.176737  0.204717  1.000000   \n",
       "cust_care_score      0.022548 -0.008674  0.003155  0.036619 -0.002705   \n",
       "complaints_score     0.008211 -0.008386  0.008085  0.026927 -0.004215   \n",
       "branches_score       0.025508 -0.007707 -0.001550  0.006553  0.005210   \n",
       "ATMs_score           0.010801 -0.019558 -0.018183  0.002593 -0.004245   \n",
       "cards_score          0.017976 -0.005011  0.021756  0.030779  0.000095   \n",
       "exec_eff_score       0.006773 -0.029071 -0.009017  0.011889 -0.011562   \n",
       "prod_score           0.001614 -0.019263 -0.001503  0.006487 -0.010621   \n",
       "val_for_money_score -0.017675 -0.039136 -0.027278 -0.003521 -0.006214   \n",
       "\n",
       "                     cust_care_score  complaints_score  branches_score  \\\n",
       "Age                         0.083662          0.065955        0.040205   \n",
       "Gender                     -0.012434         -0.005565       -0.003490   \n",
       "Income                      0.058198          0.043804        0.035281   \n",
       "FreqBra                     0.027904          0.013159        0.024927   \n",
       "FreqATM                     0.012637         -0.001094        0.010008   \n",
       "FreqPOS                     0.022548          0.008211        0.025508   \n",
       "FreqInt                    -0.008674         -0.008386       -0.007707   \n",
       "FreqMob                     0.003155          0.008085       -0.001550   \n",
       "FreqUSSD                    0.036619          0.026927        0.006553   \n",
       "FreqTel                    -0.002705         -0.004215        0.005210   \n",
       "cust_care_score             1.000000          0.597788        0.535442   \n",
       "complaints_score            0.597788          1.000000        0.517670   \n",
       "branches_score              0.535442          0.517670        1.000000   \n",
       "ATMs_score                  0.454583          0.432613        0.555092   \n",
       "cards_score                 0.367522          0.344915        0.386068   \n",
       "exec_eff_score              0.389506          0.380023        0.411338   \n",
       "prod_score                  0.404721          0.404141        0.436339   \n",
       "val_for_money_score         0.347226          0.358019        0.383110   \n",
       "\n",
       "                     ATMs_score  cards_score  exec_eff_score  prod_score  \\\n",
       "Age                    0.029272     0.054183        0.042630    0.046929   \n",
       "Gender                -0.000033    -0.009465       -0.007459    0.000728   \n",
       "Income                 0.027826     0.034972        0.029577    0.037856   \n",
       "FreqBra                0.005552     0.007914       -0.008400    0.015828   \n",
       "FreqATM                0.014311     0.014124       -0.017920   -0.014247   \n",
       "FreqPOS                0.010801     0.017976        0.006773    0.001614   \n",
       "FreqInt               -0.019558    -0.005011       -0.029071   -0.019263   \n",
       "FreqMob               -0.018183     0.021756       -0.009017   -0.001503   \n",
       "FreqUSSD               0.002593     0.030779        0.011889    0.006487   \n",
       "FreqTel               -0.004245     0.000095       -0.011562   -0.010621   \n",
       "cust_care_score        0.454583     0.367522        0.389506    0.404721   \n",
       "complaints_score       0.432613     0.344915        0.380023    0.404141   \n",
       "branches_score         0.555092     0.386068        0.411338    0.436339   \n",
       "ATMs_score             1.000000     0.380734        0.402067    0.396079   \n",
       "cards_score            0.380734     1.000000        0.445316    0.385127   \n",
       "exec_eff_score         0.402067     0.445316        1.000000    0.544510   \n",
       "prod_score             0.396079     0.385127        0.544510    1.000000   \n",
       "val_for_money_score    0.343021     0.302628        0.433768    0.521089   \n",
       "\n",
       "                     val_for_money_score  \n",
       "Age                             0.045099  \n",
       "Gender                          0.012759  \n",
       "Income                          0.021932  \n",
       "FreqBra                         0.012451  \n",
       "FreqATM                        -0.022766  \n",
       "FreqPOS                        -0.017675  \n",
       "FreqInt                        -0.039136  \n",
       "FreqMob                        -0.027278  \n",
       "FreqUSSD                       -0.003521  \n",
       "FreqTel                        -0.006214  \n",
       "cust_care_score                 0.347226  \n",
       "complaints_score                0.358019  \n",
       "branches_score                  0.383110  \n",
       "ATMs_score                      0.343021  \n",
       "cards_score                     0.302628  \n",
       "exec_eff_score                  0.433768  \n",
       "prod_score                      0.521089  \n",
       "val_for_money_score             1.000000  "
      ]
     },
     "execution_count": 128,
     "metadata": {},
     "output_type": "execute_result"
    }
   ],
   "source": [
    "selected_data.corr()"
   ]
  },
  {
   "cell_type": "code",
   "execution_count": 129,
   "metadata": {},
   "outputs": [],
   "source": [
    "def correlation_heat_map(dff):\n",
    "    corrs = dff.corr()\n",
    "    \n",
    "    # set the figure size\n",
    "    fig, ax = plt.subplots(figsize=(20,18))\n",
    "    \n",
    "    # Generate a mask for the upper triangle\n",
    "    mask = np.zeros_like(corrs, dtype=np.bool)\n",
    "    mask[np.triu_indices_from(mask)] = True\n",
    "    \n",
    "    # plot the heatmap\n",
    "    ax = sns.heatmap(corrs, mask=mask, annot=True)\n",
    "    \n",
    "    # Resize the labels\n",
    "    ax.set_xticklabels(ax.xaxis.get_ticklabels(),fontsize=14,rotation=90)\n",
    "    ax.set_yticklabels(ax.yaxis.get_ticklabels(),fontsize=14,rotation=0)\n",
    "    plt.show()"
   ]
  },
  {
   "cell_type": "code",
   "execution_count": 130,
   "metadata": {},
   "outputs": [
    {
     "data": {
      "image/png": "[encoded data removed]",
      "text/plain": [
       "<Figure size 1440x1296 with 2 Axes>"
      ]
     },
     "metadata": {
      "needs_background": "light"
     },
     "output_type": "display_data"
    }
   ],
   "source": [
    "correlation_heat_map(selected_data_std_df)"
   ]
  },
  {
   "cell_type": "code",
   "execution_count": null,
   "metadata": {},
   "outputs": [],
   "source": [
    "'''we can observe from the above correlation plot , that there is very less multicollinearity\n",
    "between the features, there is therefore no need to apply PCA, we will directly go ahead and apply kmeans\n",
    "clustering.'''"
   ]
  },
  {
   "cell_type": "markdown",
   "metadata": {},
   "source": [
    "## Kmeans clustering"
   ]
  },
  {
   "cell_type": "code",
   "execution_count": 132,
   "metadata": {},
   "outputs": [
    {
     "data": {
      "image/png": "[encoded data removed]",
      "text/plain": [
       "<Figure size 432x288 with 1 Axes>"
      ]
     },
     "metadata": {
      "needs_background": "light"
     },
     "output_type": "display_data"
    }
   ],
   "source": [
    "# find the best k value\n",
    "from sklearn.cluster import KMeans\n",
    "\n",
    "wcss = []\n",
    "\n",
    "for k in range(1,10):\n",
    "    kmeans = KMeans(n_clusters=k)\n",
    "    kmeans.fit(selected_data_std_df)\n",
    "    wcss.append(kmeans.inertia_)\n",
    "    \n",
    "# Visualization of k values:\n",
    "\n",
    "plt.plot(range(1,10), wcss, color='red')\n",
    "plt.title('Graph of k values and WCSS')\n",
    "plt.xlabel('k values')\n",
    "plt.ylabel('wcss values')\n",
    "plt.show()"
   ]
  },
  {
   "cell_type": "code",
   "execution_count": 133,
   "metadata": {},
   "outputs": [
    {
     "data": {
      "text/plain": [
       "KMeans(algorithm='auto', copy_x=True, init='k-means++', max_iter=300,\n",
       "       n_clusters=5, n_init=15, n_jobs=None, precompute_distances='auto',\n",
       "       random_state=2, tol=0.0001, verbose=0)"
      ]
     },
     "execution_count": 133,
     "metadata": {},
     "output_type": "execute_result"
    }
   ],
   "source": [
    "from sklearn.cluster import KMeans\n",
    "# Now we know our best k value is 5, lets create a new kmeans model:\n",
    "m1 = KMeans(n_clusters=5,n_init=15,random_state=2)\n",
    "m1.fit(selected_data_std_df)"
   ]
  },
  {
   "cell_type": "code",
   "execution_count": 134,
   "metadata": {},
   "outputs": [
    {
     "data": {
      "text/html": [
       "<div>\n",
       "<style scoped>\n",
       "    .dataframe tbody tr th:only-of-type {\n",
       "        vertical-align: middle;\n",
       "    }\n",
       "\n",
       "    .dataframe tbody tr th {\n",
       "        vertical-align: top;\n",
       "    }\n",
       "\n",
       "    .dataframe thead th {\n",
       "        text-align: right;\n",
       "    }\n",
       "</style>\n",
       "<table border=\"1\" class=\"dataframe\">\n",
       "  <thead>\n",
       "    <tr style=\"text-align: right;\">\n",
       "      <th></th>\n",
       "      <th>Age</th>\n",
       "      <th>Gender</th>\n",
       "      <th>Income</th>\n",
       "      <th>FreqBra</th>\n",
       "      <th>FreqATM</th>\n",
       "      <th>FreqPOS</th>\n",
       "      <th>FreqInt</th>\n",
       "      <th>FreqMob</th>\n",
       "      <th>FreqUSSD</th>\n",
       "      <th>FreqTel</th>\n",
       "      <th>cust_care_score</th>\n",
       "      <th>complaints_score</th>\n",
       "      <th>branches_score</th>\n",
       "      <th>ATMs_score</th>\n",
       "      <th>cards_score</th>\n",
       "      <th>exec_eff_score</th>\n",
       "      <th>prod_score</th>\n",
       "      <th>val_for_money_score</th>\n",
       "    </tr>\n",
       "  </thead>\n",
       "  <tbody>\n",
       "    <tr>\n",
       "      <td>0</td>\n",
       "      <td>0.016357</td>\n",
       "      <td>0.017191</td>\n",
       "      <td>-0.067344</td>\n",
       "      <td>-0.079981</td>\n",
       "      <td>-0.142709</td>\n",
       "      <td>-0.157979</td>\n",
       "      <td>-0.263093</td>\n",
       "      <td>-0.307436</td>\n",
       "      <td>-0.105702</td>\n",
       "      <td>-0.112470</td>\n",
       "      <td>-0.051675</td>\n",
       "      <td>0.004158</td>\n",
       "      <td>-0.034085</td>\n",
       "      <td>-0.008200</td>\n",
       "      <td>-0.023074</td>\n",
       "      <td>0.011902</td>\n",
       "      <td>0.003931</td>\n",
       "      <td>0.054073</td>\n",
       "    </tr>\n",
       "    <tr>\n",
       "      <td>1</td>\n",
       "      <td>0.145654</td>\n",
       "      <td>-0.004735</td>\n",
       "      <td>0.095422</td>\n",
       "      <td>0.052379</td>\n",
       "      <td>-0.012618</td>\n",
       "      <td>-0.051126</td>\n",
       "      <td>-0.178082</td>\n",
       "      <td>-0.154890</td>\n",
       "      <td>-0.033434</td>\n",
       "      <td>-0.094780</td>\n",
       "      <td>1.108789</td>\n",
       "      <td>1.019703</td>\n",
       "      <td>1.106774</td>\n",
       "      <td>1.012846</td>\n",
       "      <td>0.859958</td>\n",
       "      <td>0.973468</td>\n",
       "      <td>1.007432</td>\n",
       "      <td>0.865147</td>\n",
       "    </tr>\n",
       "    <tr>\n",
       "      <td>2</td>\n",
       "      <td>-0.062768</td>\n",
       "      <td>-0.157931</td>\n",
       "      <td>0.388726</td>\n",
       "      <td>0.317918</td>\n",
       "      <td>0.778374</td>\n",
       "      <td>1.007656</td>\n",
       "      <td>1.985952</td>\n",
       "      <td>2.256619</td>\n",
       "      <td>0.646587</td>\n",
       "      <td>-0.031640</td>\n",
       "      <td>-0.064185</td>\n",
       "      <td>-0.023616</td>\n",
       "      <td>-0.082236</td>\n",
       "      <td>-0.130384</td>\n",
       "      <td>-0.024771</td>\n",
       "      <td>-0.093382</td>\n",
       "      <td>-0.072458</td>\n",
       "      <td>-0.140492</td>\n",
       "    </tr>\n",
       "    <tr>\n",
       "      <td>3</td>\n",
       "      <td>-0.153977</td>\n",
       "      <td>0.040227</td>\n",
       "      <td>-0.121229</td>\n",
       "      <td>-0.037370</td>\n",
       "      <td>-0.036811</td>\n",
       "      <td>-0.111100</td>\n",
       "      <td>-0.174260</td>\n",
       "      <td>-0.207616</td>\n",
       "      <td>-0.098243</td>\n",
       "      <td>-0.094123</td>\n",
       "      <td>-0.911829</td>\n",
       "      <td>-0.985126</td>\n",
       "      <td>-0.949320</td>\n",
       "      <td>-0.897764</td>\n",
       "      <td>-0.761563</td>\n",
       "      <td>-0.923269</td>\n",
       "      <td>-0.946394</td>\n",
       "      <td>-0.905681</td>\n",
       "    </tr>\n",
       "    <tr>\n",
       "      <td>4</td>\n",
       "      <td>0.025220</td>\n",
       "      <td>-0.105668</td>\n",
       "      <td>0.339786</td>\n",
       "      <td>0.800624</td>\n",
       "      <td>0.904533</td>\n",
       "      <td>1.786213</td>\n",
       "      <td>1.657828</td>\n",
       "      <td>1.575103</td>\n",
       "      <td>1.933741</td>\n",
       "      <td>9.892410</td>\n",
       "      <td>-0.040090</td>\n",
       "      <td>-0.026891</td>\n",
       "      <td>0.036841</td>\n",
       "      <td>-0.026730</td>\n",
       "      <td>-0.029497</td>\n",
       "      <td>-0.109092</td>\n",
       "      <td>-0.099160</td>\n",
       "      <td>-0.037723</td>\n",
       "    </tr>\n",
       "  </tbody>\n",
       "</table>\n",
       "</div>"
      ],
      "text/plain": [
       "        Age    Gender    Income   FreqBra   FreqATM   FreqPOS   FreqInt  \\\n",
       "0  0.016357  0.017191 -0.067344 -0.079981 -0.142709 -0.157979 -0.263093   \n",
       "1  0.145654 -0.004735  0.095422  0.052379 -0.012618 -0.051126 -0.178082   \n",
       "2 -0.062768 -0.157931  0.388726  0.317918  0.778374  1.007656  1.985952   \n",
       "3 -0.153977  0.040227 -0.121229 -0.037370 -0.036811 -0.111100 -0.174260   \n",
       "4  0.025220 -0.105668  0.339786  0.800624  0.904533  1.786213  1.657828   \n",
       "\n",
       "    FreqMob  FreqUSSD   FreqTel  cust_care_score  complaints_score  \\\n",
       "0 -0.307436 -0.105702 -0.112470        -0.051675          0.004158   \n",
       "1 -0.154890 -0.033434 -0.094780         1.108789          1.019703   \n",
       "2  2.256619  0.646587 -0.031640        -0.064185         -0.023616   \n",
       "3 -0.207616 -0.098243 -0.094123        -0.911829         -0.985126   \n",
       "4  1.575103  1.933741  9.892410        -0.040090         -0.026891   \n",
       "\n",
       "   branches_score  ATMs_score  cards_score  exec_eff_score  prod_score  \\\n",
       "0       -0.034085   -0.008200    -0.023074        0.011902    0.003931   \n",
       "1        1.106774    1.012846     0.859958        0.973468    1.007432   \n",
       "2       -0.082236   -0.130384    -0.024771       -0.093382   -0.072458   \n",
       "3       -0.949320   -0.897764    -0.761563       -0.923269   -0.946394   \n",
       "4        0.036841   -0.026730    -0.029497       -0.109092   -0.099160   \n",
       "\n",
       "   val_for_money_score  \n",
       "0             0.054073  \n",
       "1             0.865147  \n",
       "2            -0.140492  \n",
       "3            -0.905681  \n",
       "4            -0.037723  "
      ]
     },
     "execution_count": 134,
     "metadata": {},
     "output_type": "execute_result"
    }
   ],
   "source": [
    "centroids=m1.cluster_centers_\n",
    "centroid_df = pd.DataFrame(centroids, columns = list(selected_data_std_df) )\n",
    "centroid_df"
   ]
  },
  {
   "cell_type": "code",
   "execution_count": 135,
   "metadata": {},
   "outputs": [
    {
     "data": {
      "text/plain": [
       "545361.4486108086"
      ]
     },
     "execution_count": 135,
     "metadata": {},
     "output_type": "execute_result"
    }
   ],
   "source": [
    "m1.inertia_"
   ]
  },
  {
   "cell_type": "code",
   "execution_count": 136,
   "metadata": {},
   "outputs": [],
   "source": [
    "# Adding a label feature with the predicted class values:\n",
    "df_k = selected_data.copy(deep=True)\n",
    "df_k['label'] = m1.labels_"
   ]
  },
  {
   "cell_type": "code",
   "execution_count": 137,
   "metadata": {},
   "outputs": [
    {
     "data": {
      "text/plain": [
       "0    21434\n",
       "3     8548\n",
       "1     8273\n",
       "2     3981\n",
       "4      417\n",
       "Name: label, dtype: int64"
      ]
     },
     "execution_count": 137,
     "metadata": {},
     "output_type": "execute_result"
    }
   ],
   "source": [
    "df_k['label'].value_counts()"
   ]
  },
  {
   "cell_type": "markdown",
   "metadata": {},
   "source": [
    "## Agglomerative clustering"
   ]
  },
  {
   "cell_type": "code",
   "execution_count": null,
   "metadata": {},
   "outputs": [],
   "source": [
    "from scipy.cluster.hierarchy import cophenet, dendrogram, linkage\n",
    "from scipy.spatial.distance import pdist\n",
    "\n",
    "Z = linkage(selected_data_std_df, 'ward')   # cophenetic distance\n",
    "c, coph_dists = cophenet(Z , pdist(selected_data_std_df))\n",
    "print(c)"
   ]
  },
  {
   "cell_type": "code",
   "execution_count": null,
   "metadata": {},
   "outputs": [],
   "source": [
    "from sklearn.cluster import AgglomerativeClustering \n",
    "m2 = AgglomerativeClustering(n_clusters=5, affinity='euclidean',  linkage='ward')\n",
    "m2.fit(X_std_df)"
   ]
  }
 ],
 "metadata": {
  "kernelspec": {
   "display_name": "Python 3",
   "language": "python",
   "name": "python3"
  },
  "language_info": {
   "codemirror_mode": {
    "name": "ipython",
    "version": 3
   },
   "file_extension": ".py",
   "mimetype": "text/x-python",
   "name": "python",
   "nbconvert_exporter": "python",
   "pygments_lexer": "ipython3",
   "version": "3.7.4"
  }
 },
 "nbformat": 4,
 "nbformat_minor": 2
}
